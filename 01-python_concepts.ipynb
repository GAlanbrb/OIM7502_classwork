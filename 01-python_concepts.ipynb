{
 "cells": [
  {
   "cell_type": "markdown",
   "id": "9383bafa",
   "metadata": {},
   "source": [
    "### Python Programming Concepts"
   ]
  },
  {
   "cell_type": "markdown",
   "id": "17df7d6e",
   "metadata": {},
   "source": [
    "### 1. Create a variable to store the value 500 for sales"
   ]
  },
  {
   "cell_type": "code",
   "execution_count": 32,
   "id": "a5f43c2f",
   "metadata": {},
   "outputs": [
    {
     "name": "stdout",
     "output_type": "stream",
     "text": [
      "500\n"
     ]
    }
   ],
   "source": [
    "Sales = 500\n",
    "print(Sales)"
   ]
  },
  {
   "cell_type": "markdown",
   "id": "d6bf439e-2610-48fb-87c0-b940c24ada31",
   "metadata": {},
   "source": [
    "#### *What I did:*\n",
    "\n",
    "Stores = int(input(\"Enter number of stores\"))\n",
    "\n",
    "Sales = int(input(\"Enter the average sales per store\"))\n",
    "\n",
    "Revenue = Stores * Sales\n",
    "\n",
    "print(Revenue)"
   ]
  },
  {
   "cell_type": "markdown",
   "id": "2d6ef6f4-73d5-4741-8c8b-661632564a2c",
   "metadata": {},
   "source": [
    "#### *Notes:*\n",
    "\n",
    "Sales -> leaving the variable like this will display the last variable only. \n",
    "\n",
    "Use print when you have more than one."
   ]
  },
  {
   "cell_type": "markdown",
   "id": "6dc8b9ea",
   "metadata": {},
   "source": [
    "### 2. Create a variable to store several values:  \n",
    "* sales: 500, 475, 625\n",
    "* integers 1 - 9 "
   ]
  },
  {
   "cell_type": "code",
   "execution_count": 34,
   "id": "902fe3bd",
   "metadata": {},
   "outputs": [
    {
     "name": "stdout",
     "output_type": "stream",
     "text": [
      "[500, 475, 625]\n"
     ]
    }
   ],
   "source": [
    "SalesList = [500, 475, 625]\n",
    "print(SalesList)"
   ]
  },
  {
   "cell_type": "markdown",
   "id": "b108c4a7-1b34-4616-9e08-14b6ef9ae1f6",
   "metadata": {},
   "source": [
    "#### *Notes:*\n",
    "\n",
    "SalesList[0] -> \"[]\" Slice the list, and the number inside indicates which value we want to retrieve (First value).\n",
    "\n",
    "SalesList[-1] -> Get the last value of the list.\n",
    "\n",
    "sum(SalesList) -> Will add up all the elements in the list.\n",
    "\n",
    "sales.sort() -> Will PERMANENTLY sort it."
   ]
  },
  {
   "cell_type": "code",
   "execution_count": 64,
   "id": "bbc89976-1dc6-4515-8b0e-0e305b948f87",
   "metadata": {},
   "outputs": [
    {
     "name": "stdout",
     "output_type": "stream",
     "text": [
      "range(1, 10)\n"
     ]
    }
   ],
   "source": [
    "integers = list(range(1,10)) \n",
    "print(integers)"
   ]
  },
  {
   "cell_type": "markdown",
   "id": "031fdd1e-ca8e-45af-b750-2c310a1e9d91",
   "metadata": {},
   "source": [
    "#### *What I did:*\n",
    "\n",
    "#integers = [1,2,3,4,5,6,7,8,9]"
   ]
  },
  {
   "cell_type": "markdown",
   "id": "51413676-aa00-479d-b5a1-d592708f436a",
   "metadata": {},
   "source": [
    "#### *Notes:*\n",
    "\n",
    "You can do this the inverse way to decrease the magnitude each step -> integers = list(range((10,1,-1))"
   ]
  },
  {
   "cell_type": "markdown",
   "id": "62e55953",
   "metadata": {},
   "source": [
    "#### 3. Create a variable to store the names and email addresses for a number of customers\n",
    "* John, john@some.com; Ann, ann@some.com"
   ]
  },
  {
   "cell_type": "code",
   "execution_count": 16,
   "id": "03f2b161",
   "metadata": {},
   "outputs": [
    {
     "data": {
      "text/plain": [
       "'john@some.com'"
      ]
     },
     "execution_count": 16,
     "metadata": {},
     "output_type": "execute_result"
    }
   ],
   "source": [
    "customers = [\n",
    "    {'name':'John', 'email':'john@some.com'},\n",
    "    {'name':'Ann', 'email':'ann@some.com'}\n",
    "]\n",
    "customers[0]['email']"
   ]
  },
  {
   "cell_type": "markdown",
   "id": "ad5f1f26-70ef-4450-b847-a89b548f4b8b",
   "metadata": {},
   "source": [
    "#### *What I did:*\n",
    "\n",
    "customers = {\"John\":\"john@some.com\",\"Ann\":\"ann@some.com\"}\n",
    "\n",
    "print(customers)"
   ]
  },
  {
   "cell_type": "markdown",
   "id": "d6b1e8c6",
   "metadata": {},
   "source": [
    "#### 4. Use Python to generate a random value based on each of following:\n",
    "1. between 0 and 1\n",
    "2. the standard normal distribution (rounded to two decimal places)\n",
    "3. a value between 1 and 10\n",
    "4. either H or T"
   ]
  },
  {
   "cell_type": "code",
   "execution_count": 79,
   "id": "f004d7b5",
   "metadata": {},
   "outputs": [
    {
     "data": {
      "text/plain": [
       "0.17406838160521265"
      ]
     },
     "execution_count": 79,
     "metadata": {},
     "output_type": "execute_result"
    }
   ],
   "source": [
    "import random\n",
    "\n",
    "random.random()\n",
    "\n",
    "#from random import random\n",
    "#random()"
   ]
  },
  {
   "cell_type": "markdown",
   "id": "ee59cd9a-eed7-4d8e-9b03-5867968b4365",
   "metadata": {},
   "source": [
    "#### *What I did:*\n",
    "\n",
    "from random import random\n",
    "\n",
    "random()"
   ]
  },
  {
   "cell_type": "code",
   "execution_count": 30,
   "id": "f20b6134-2d52-4465-a867-e7b69e9a9d94",
   "metadata": {},
   "outputs": [
    {
     "data": {
      "text/plain": [
       "0.32"
      ]
     },
     "execution_count": 30,
     "metadata": {},
     "output_type": "execute_result"
    }
   ],
   "source": [
    "from random import random, normalvariate\n",
    "round(normalvariate(),2)"
   ]
  },
  {
   "cell_type": "code",
   "execution_count": 83,
   "id": "a8efc6fc",
   "metadata": {},
   "outputs": [
    {
     "data": {
      "text/plain": [
       "7"
      ]
     },
     "execution_count": 83,
     "metadata": {},
     "output_type": "execute_result"
    }
   ],
   "source": [
    "from random import random, randint\n",
    "randint(1,10)"
   ]
  },
  {
   "cell_type": "code",
   "execution_count": 87,
   "id": "3a150c3e",
   "metadata": {},
   "outputs": [
    {
     "data": {
      "text/plain": [
       "'H'"
      ]
     },
     "execution_count": 87,
     "metadata": {},
     "output_type": "execute_result"
    }
   ],
   "source": [
    "from random import random, normalvariate, choice\n",
    "choice([\"H\",\"T\"])"
   ]
  },
  {
   "cell_type": "markdown",
   "id": "7eddf06a",
   "metadata": {},
   "source": [
    "#### 5. Use Python to determine your current working directory"
   ]
  },
  {
   "cell_type": "markdown",
   "id": "aa657463-2230-4479-b3bc-3f7bb0806df9",
   "metadata": {},
   "source": [
    "I couldn't get this to work"
   ]
  },
  {
   "cell_type": "markdown",
   "id": "fc43ec50",
   "metadata": {},
   "source": [
    "#### 6. Use Python to determine how many days until New Year's Day"
   ]
  },
  {
   "cell_type": "markdown",
   "id": "4342e146-241e-4a86-8ff8-902da08cc6ef",
   "metadata": {},
   "source": [
    "I couldn't get this to work"
   ]
  },
  {
   "cell_type": "markdown",
   "id": "2ba4ea92",
   "metadata": {},
   "source": [
    "#### 7. Write a short program that displays the future value of 1,000 earning 5%  at the end of each year for the next 5 years"
   ]
  },
  {
   "cell_type": "code",
   "execution_count": 80,
   "id": "6fef4a8c",
   "metadata": {},
   "outputs": [
    {
     "data": {
      "text/plain": [
       "1276"
      ]
     },
     "execution_count": 80,
     "metadata": {},
     "output_type": "execute_result"
    }
   ],
   "source": [
    "FutureValue = int(1000 *(1 + 0.05)**5)\n",
    "\n",
    "FutureValue"
   ]
  },
  {
   "cell_type": "markdown",
   "id": "150201c8",
   "metadata": {},
   "source": [
    "#### 8. Write a short program that prompts a user to enter a stock symbol and press enter. Add each symbol entered to a variable. The program should run until the user presses the enter key without entering anything (empty string) "
   ]
  },
  {
   "cell_type": "code",
   "execution_count": 96,
   "id": "931a346f",
   "metadata": {},
   "outputs": [
    {
     "name": "stdin",
     "output_type": "stream",
     "text": [
      "Enter a stock symbol %\n",
      "Enter a stock symbol &\n",
      "Enter a stock symbol $\n",
      "Enter a stock symbol #\n",
      "Enter a stock symbol \n"
     ]
    },
    {
     "data": {
      "text/plain": [
       "['%', '&', '$', '#']"
      ]
     },
     "execution_count": 96,
     "metadata": {},
     "output_type": "execute_result"
    }
   ],
   "source": [
    "x = input(\"Enter a stock symbol\")\n",
    "storage = []\n",
    "\n",
    "while x:\n",
    "    storage.append(x)\n",
    "    x = input(\"Enter a stock symbol\")\n",
    "\n",
    "storage"
   ]
  },
  {
   "cell_type": "markdown",
   "id": "fc2a7592",
   "metadata": {},
   "source": [
    "#### 9. Write the code necessary to calculate the sum of the square differences of a group of values : \n",
    "58, 32, 37, 41, 36, 36, 54, 37, 25, 53\n",
    "##### $\\Sigma $(${x}$ - $\\bar{x}$)$^2$"
   ]
  },
  {
   "cell_type": "code",
   "execution_count": null,
   "id": "13d9a6c5",
   "metadata": {},
   "outputs": [],
   "source": [
    "I couldn't get this to work"
   ]
  },
  {
   "cell_type": "markdown",
   "id": "6d6f2e64",
   "metadata": {},
   "source": [
    "#### 10. Opening, reading and writing files"
   ]
  },
  {
   "cell_type": "code",
   "execution_count": null,
   "id": "f7fa569d",
   "metadata": {},
   "outputs": [],
   "source": [
    "import pandas as pd\n",
    "df = pd.read_csv(\"File name\")"
   ]
  },
  {
   "cell_type": "markdown",
   "id": "eec548d6",
   "metadata": {},
   "source": [
    "#### 11. Create a function the will simulate rolling two die and return the value of each and the sum "
   ]
  },
  {
   "cell_type": "code",
   "execution_count": 105,
   "id": "bb115cdc",
   "metadata": {},
   "outputs": [
    {
     "name": "stdout",
     "output_type": "stream",
     "text": [
      "5 3 8\n"
     ]
    }
   ],
   "source": [
    "from random import random, randint\n",
    "\n",
    "dice1 = randint(1,6)\n",
    "dice2 = randint(1,6)\n",
    "\n",
    "total = dice1 + dice2\n",
    "\n",
    "print(dice1,dice2,total)"
   ]
  },
  {
   "cell_type": "markdown",
   "id": "21556d7f",
   "metadata": {},
   "source": [
    "#### 12. Write the code needed to evaluate whether a value in a group of values is negative or postive and prints an approriate message, i.e. postive, negative \n",
    "-1.59, 2.36, 1.69, 1.13, -0.91, 1.48, -0.34, 1.31, -0.74, 0.2"
   ]
  },
  {
   "cell_type": "code",
   "execution_count": 113,
   "id": "d6c38ecb",
   "metadata": {},
   "outputs": [
    {
     "ename": "TypeError",
     "evalue": "'list' object cannot be interpreted as an integer",
     "output_type": "error",
     "traceback": [
      "\u001b[0;31m---------------------------------------------------------------------------\u001b[0m",
      "\u001b[0;31mTypeError\u001b[0m                                 Traceback (most recent call last)",
      "Cell \u001b[0;32mIn[113], line 3\u001b[0m\n\u001b[1;32m      1\u001b[0m nplist \u001b[38;5;241m=\u001b[39m [\u001b[38;5;241m-\u001b[39m\u001b[38;5;241m1.59\u001b[39m,\u001b[38;5;241m2.36\u001b[39m,\u001b[38;5;241m1.69\u001b[39m,\u001b[38;5;241m1.13\u001b[39m,\u001b[38;5;241m-\u001b[39m\u001b[38;5;241m0.91\u001b[39m,\u001b[38;5;241m1.48\u001b[39m,\u001b[38;5;241m-\u001b[39m\u001b[38;5;241m0.34\u001b[39m,\u001b[38;5;241m1.31\u001b[39m,\u001b[38;5;241m-\u001b[39m\u001b[38;5;241m0.74\u001b[39m,\u001b[38;5;241m0.2\u001b[39m]\n\u001b[0;32m----> 3\u001b[0m \u001b[38;5;28;01mfor\u001b[39;00m i \u001b[38;5;129;01min\u001b[39;00m \u001b[38;5;28mrange\u001b[39m(nplist):\n\u001b[1;32m      4\u001b[0m     \u001b[38;5;28;01mif\u001b[39;00m i \u001b[38;5;241m<\u001b[39m \u001b[38;5;241m0\u001b[39m:\n\u001b[1;32m      5\u001b[0m         \u001b[38;5;28mprint\u001b[39m(\u001b[38;5;124m\"\u001b[39m\u001b[38;5;124mpositive\u001b[39m\u001b[38;5;124m\"\u001b[39m)\n",
      "\u001b[0;31mTypeError\u001b[0m: 'list' object cannot be interpreted as an integer"
     ]
    }
   ],
   "source": [
    "nplist = [-1.59,2.36,1.69,1.13,-0.91,1.48,-0.34,1.31,-0.74,0.2]\n",
    "\n",
    "for i in range(nplist):\n",
    "    if i < 0:\n",
    "        print(\"positive\")\n",
    "    else:\n",
    "        print(\"negative\")"
   ]
  },
  {
   "cell_type": "markdown",
   "id": "612afea6-d41f-4fea-bf76-4f441bfbb152",
   "metadata": {},
   "source": [
    "I couldn't get this to work"
   ]
  },
  {
   "cell_type": "markdown",
   "id": "8cafe65c",
   "metadata": {},
   "source": [
    "#### 14.  Complete the following:\n",
    "1. Write a program that generates 500 random integers from 1 to n, for example, the first integer will be 1 the second will be 1 or 2, the fifth between 1 and 5, and so on.\n",
    "2. The program should write each integer to a file \n",
    "3. Once all integers are written close the file\n",
    "\n",
    "##### Part 2\n",
    "1. Open and read the file into a list\n",
    "2. Create a line plot of the data"
   ]
  },
  {
   "cell_type": "code",
   "execution_count": 118,
   "id": "d6b4180c",
   "metadata": {},
   "outputs": [
    {
     "data": {
      "text/plain": [
       "[1,\n",
       " 1,\n",
       " 1,\n",
       " 2,\n",
       " 1,\n",
       " 4,\n",
       " 3,\n",
       " 1,\n",
       " 1,\n",
       " 2,\n",
       " 6,\n",
       " 5,\n",
       " 6,\n",
       " 6,\n",
       " 4,\n",
       " 14,\n",
       " 8,\n",
       " 2,\n",
       " 5,\n",
       " 6,\n",
       " 8,\n",
       " 21,\n",
       " 8,\n",
       " 3,\n",
       " 6,\n",
       " 21,\n",
       " 10,\n",
       " 1,\n",
       " 17,\n",
       " 27,\n",
       " 9,\n",
       " 13,\n",
       " 4,\n",
       " 27,\n",
       " 10,\n",
       " 22,\n",
       " 33,\n",
       " 13,\n",
       " 17,\n",
       " 18,\n",
       " 13,\n",
       " 20,\n",
       " 9,\n",
       " 28,\n",
       " 2,\n",
       " 4,\n",
       " 16,\n",
       " 14,\n",
       " 34,\n",
       " 14,\n",
       " 12,\n",
       " 38,\n",
       " 33,\n",
       " 18,\n",
       " 11,\n",
       " 29,\n",
       " 19,\n",
       " 7,\n",
       " 48,\n",
       " 58,\n",
       " 56,\n",
       " 8,\n",
       " 15,\n",
       " 30,\n",
       " 30,\n",
       " 14,\n",
       " 64,\n",
       " 3,\n",
       " 42,\n",
       " 12,\n",
       " 10,\n",
       " 69,\n",
       " 49,\n",
       " 8,\n",
       " 51,\n",
       " 7,\n",
       " 13,\n",
       " 56,\n",
       " 4,\n",
       " 76,\n",
       " 50,\n",
       " 63,\n",
       " 77,\n",
       " 16,\n",
       " 25,\n",
       " 32,\n",
       " 12,\n",
       " 84,\n",
       " 9,\n",
       " 63,\n",
       " 17,\n",
       " 91,\n",
       " 34,\n",
       " 15,\n",
       " 39,\n",
       " 43,\n",
       " 28,\n",
       " 25,\n",
       " 15,\n",
       " 8,\n",
       " 20,\n",
       " 54,\n",
       " 53,\n",
       " 75,\n",
       " 103,\n",
       " 43,\n",
       " 15,\n",
       " 32,\n",
       " 47,\n",
       " 65,\n",
       " 73,\n",
       " 5,\n",
       " 26,\n",
       " 19,\n",
       " 90,\n",
       " 65,\n",
       " 71,\n",
       " 55,\n",
       " 93,\n",
       " 117,\n",
       " 41,\n",
       " 70,\n",
       " 3,\n",
       " 23,\n",
       " 38,\n",
       " 17,\n",
       " 114,\n",
       " 102,\n",
       " 67,\n",
       " 107,\n",
       " 24,\n",
       " 17,\n",
       " 18,\n",
       " 54,\n",
       " 20,\n",
       " 6,\n",
       " 79,\n",
       " 60,\n",
       " 76,\n",
       " 53,\n",
       " 112,\n",
       " 135,\n",
       " 7,\n",
       " 53,\n",
       " 12,\n",
       " 9,\n",
       " 20,\n",
       " 2,\n",
       " 28,\n",
       " 122,\n",
       " 19,\n",
       " 127,\n",
       " 7,\n",
       " 44,\n",
       " 89,\n",
       " 48,\n",
       " 59,\n",
       " 106,\n",
       " 71,\n",
       " 132,\n",
       " 32,\n",
       " 124,\n",
       " 94,\n",
       " 60,\n",
       " 79,\n",
       " 15,\n",
       " 46,\n",
       " 166,\n",
       " 13,\n",
       " 57,\n",
       " 71,\n",
       " 145,\n",
       " 96,\n",
       " 110,\n",
       " 100,\n",
       " 171,\n",
       " 45,\n",
       " 169,\n",
       " 114,\n",
       " 44,\n",
       " 80,\n",
       " 19,\n",
       " 29,\n",
       " 161,\n",
       " 176,\n",
       " 98,\n",
       " 133,\n",
       " 45,\n",
       " 23,\n",
       " 167,\n",
       " 128,\n",
       " 117,\n",
       " 68,\n",
       " 1,\n",
       " 170,\n",
       " 102,\n",
       " 170,\n",
       " 75,\n",
       " 64,\n",
       " 197,\n",
       " 59,\n",
       " 150,\n",
       " 36,\n",
       " 117,\n",
       " 2,\n",
       " 130,\n",
       " 83,\n",
       " 113,\n",
       " 94,\n",
       " 87,\n",
       " 152,\n",
       " 201,\n",
       " 150,\n",
       " 142,\n",
       " 97,\n",
       " 215,\n",
       " 75,\n",
       " 91,\n",
       " 4,\n",
       " 188,\n",
       " 173,\n",
       " 183,\n",
       " 56,\n",
       " 173,\n",
       " 58,\n",
       " 115,\n",
       " 157,\n",
       " 188,\n",
       " 74,\n",
       " 93,\n",
       " 15,\n",
       " 114,\n",
       " 142,\n",
       " 140,\n",
       " 186,\n",
       " 89,\n",
       " 36,\n",
       " 4,\n",
       " 29,\n",
       " 215,\n",
       " 45,\n",
       " 216,\n",
       " 121,\n",
       " 126,\n",
       " 26,\n",
       " 25,\n",
       " 16,\n",
       " 222,\n",
       " 145,\n",
       " 118,\n",
       " 21,\n",
       " 45,\n",
       " 3,\n",
       " 74,\n",
       " 103,\n",
       " 126,\n",
       " 119,\n",
       " 194,\n",
       " 207,\n",
       " 70,\n",
       " 73,\n",
       " 182,\n",
       " 39,\n",
       " 177,\n",
       " 72,\n",
       " 86,\n",
       " 237,\n",
       " 230,\n",
       " 112,\n",
       " 90,\n",
       " 196,\n",
       " 210,\n",
       " 99,\n",
       " 83,\n",
       " 128,\n",
       " 155,\n",
       " 105,\n",
       " 51,\n",
       " 85,\n",
       " 73,\n",
       " 31,\n",
       " 139,\n",
       " 227,\n",
       " 254,\n",
       " 202,\n",
       " 150,\n",
       " 104,\n",
       " 127,\n",
       " 259,\n",
       " 242,\n",
       " 163,\n",
       " 269,\n",
       " 224,\n",
       " 199,\n",
       " 72,\n",
       " 258,\n",
       " 121,\n",
       " 263,\n",
       " 285,\n",
       " 200,\n",
       " 194,\n",
       " 147,\n",
       " 134,\n",
       " 178,\n",
       " 169,\n",
       " 298,\n",
       " 225,\n",
       " 80,\n",
       " 30,\n",
       " 211,\n",
       " 83,\n",
       " 202,\n",
       " 34,\n",
       " 120,\n",
       " 104,\n",
       " 115,\n",
       " 94,\n",
       " 295,\n",
       " 92,\n",
       " 304,\n",
       " 296,\n",
       " 175,\n",
       " 61,\n",
       " 192,\n",
       " 190,\n",
       " 188,\n",
       " 312,\n",
       " 261,\n",
       " 156,\n",
       " 196,\n",
       " 16,\n",
       " 263,\n",
       " 52,\n",
       " 142,\n",
       " 65,\n",
       " 29,\n",
       " 85,\n",
       " 171,\n",
       " 238,\n",
       " 102,\n",
       " 157,\n",
       " 18,\n",
       " 59,\n",
       " 188,\n",
       " 85,\n",
       " 27,\n",
       " 198,\n",
       " 338,\n",
       " 311,\n",
       " 221,\n",
       " 167,\n",
       " 138,\n",
       " 295,\n",
       " 6,\n",
       " 331,\n",
       " 271,\n",
       " 351,\n",
       " 217,\n",
       " 159,\n",
       " 254,\n",
       " 12,\n",
       " 141,\n",
       " 351,\n",
       " 102,\n",
       " 212,\n",
       " 162,\n",
       " 27,\n",
       " 41,\n",
       " 270,\n",
       " 294,\n",
       " 316,\n",
       " 205,\n",
       " 343,\n",
       " 259,\n",
       " 4,\n",
       " 6,\n",
       " 321,\n",
       " 28,\n",
       " 111,\n",
       " 273,\n",
       " 44,\n",
       " 253,\n",
       " 252,\n",
       " 251,\n",
       " 324,\n",
       " 320,\n",
       " 53,\n",
       " 327,\n",
       " 160,\n",
       " 233,\n",
       " 197,\n",
       " 258,\n",
       " 335,\n",
       " 189,\n",
       " 110,\n",
       " 282,\n",
       " 380,\n",
       " 212,\n",
       " 272,\n",
       " 153,\n",
       " 76,\n",
       " 119,\n",
       " 105,\n",
       " 120,\n",
       " 292,\n",
       " 5,\n",
       " 10,\n",
       " 21,\n",
       " 218,\n",
       " 362,\n",
       " 281,\n",
       " 188,\n",
       " 397,\n",
       " 395,\n",
       " 201,\n",
       " 265,\n",
       " 106,\n",
       " 293,\n",
       " 286,\n",
       " 173,\n",
       " 391,\n",
       " 382,\n",
       " 85,\n",
       " 114,\n",
       " 315,\n",
       " 317,\n",
       " 10,\n",
       " 378,\n",
       " 112,\n",
       " 44,\n",
       " 148,\n",
       " 119,\n",
       " 280,\n",
       " 149,\n",
       " 136,\n",
       " 425,\n",
       " 137,\n",
       " 147,\n",
       " 228,\n",
       " 252,\n",
       " 310,\n",
       " 340,\n",
       " 223,\n",
       " 30,\n",
       " 44,\n",
       " 194,\n",
       " 120,\n",
       " 156,\n",
       " 288,\n",
       " 378,\n",
       " 326,\n",
       " 171,\n",
       " 407,\n",
       " 27,\n",
       " 448,\n",
       " 351,\n",
       " 393,\n",
       " 410,\n",
       " 260,\n",
       " 422,\n",
       " 127,\n",
       " 305,\n",
       " 224,\n",
       " 234,\n",
       " 59,\n",
       " 327,\n",
       " 464,\n",
       " 30,\n",
       " 61,\n",
       " 399,\n",
       " 413,\n",
       " 326,\n",
       " 162,\n",
       " 98,\n",
       " 221,\n",
       " 36,\n",
       " 416,\n",
       " 184,\n",
       " 304,\n",
       " 215,\n",
       " 171,\n",
       " 475,\n",
       " 451,\n",
       " 305,\n",
       " 372,\n",
       " 247,\n",
       " 186,\n",
       " 23,\n",
       " 127,\n",
       " 445,\n",
       " 173,\n",
       " 290,\n",
       " 433,\n",
       " 324,\n",
       " 99,\n",
       " 433,\n",
       " 179,\n",
       " 263,\n",
       " 59,\n",
       " 207]"
      ]
     },
     "execution_count": 118,
     "metadata": {},
     "output_type": "execute_result"
    }
   ],
   "source": [
    "from random import random, randint\n",
    "\n",
    "RandomStorage = []\n",
    "x = 1\n",
    "\n",
    "for i in range(500):\n",
    "    RandomStorage.append(x)\n",
    "    x = randint(1,i + 1)\n",
    "\n",
    "\n",
    "RandomStorage"
   ]
  },
  {
   "cell_type": "code",
   "execution_count": null,
   "id": "21140445",
   "metadata": {},
   "outputs": [],
   "source": [
    "wb = Workbook()"
   ]
  },
  {
   "cell_type": "markdown",
   "id": "345ac9ba-6b9a-4a23-9fb6-a198f0dc34cf",
   "metadata": {},
   "source": [
    "I couldn't get this to work"
   ]
  },
  {
   "cell_type": "code",
   "execution_count": null,
   "id": "3d546600",
   "metadata": {},
   "outputs": [],
   "source": []
  }
 ],
 "metadata": {
  "kernelspec": {
   "display_name": "Python [conda env:base] *",
   "language": "python",
   "name": "conda-base-py"
  },
  "language_info": {
   "codemirror_mode": {
    "name": "ipython",
    "version": 3
   },
   "file_extension": ".py",
   "mimetype": "text/x-python",
   "name": "python",
   "nbconvert_exporter": "python",
   "pygments_lexer": "ipython3",
   "version": "3.12.7"
  }
 },
 "nbformat": 4,
 "nbformat_minor": 5
}
