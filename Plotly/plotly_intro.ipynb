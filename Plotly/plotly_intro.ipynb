{
 "cells": [
  {
   "cell_type": "code",
   "execution_count": 66,
   "id": "f3aace2b-1cb4-42fa-be6e-65046fef5a3d",
   "metadata": {},
   "outputs": [],
   "source": [
    "from ipywidgets import interact, widgets, VBox, HBox, Output, FloatSlider, Dropdown\n",
    "from plotly import colors\n",
    "from plotly.subplots import make_subplots\n",
    "import numpy as np\n",
    "import pandas as pd\n",
    "import plotly.express as px\n",
    "import plotly.graph_objects as go\n",
    "import plotly.io as pio\n",
    "import plotly.figure_factory as ff"
   ]
  },
  {
   "cell_type": "markdown",
   "id": "a8fc844f-a858-4e04-a2b1-bc05769a64a9",
   "metadata": {},
   "source": [
    "### Bar chart using plotly.graph_objects."
   ]
  },
  {
   "cell_type": "code",
   "execution_count": 66,
   "id": "4dae2a20-cdbf-4fe1-aadb-6ebf8a3e7c7c",
   "metadata": {},
   "outputs": [
    {
     "data": {
      "application/vnd.plotly.v1+json": {
       "config": {
        "plotlyServerURL": "https://plot.ly"
       },
       "data": [
        {
         "marker": {
          "color": "indianred"
         },
         "type": "bar",
         "x": [
          "A",
          "B",
          "C"
         ],
         "y": [
          10,
          15,
          9
         ]
        }
       ],
       "layout": {
        "autosize": true,
        "template": {
         "data": {
          "bar": [
           {
            "error_x": {
             "color": "#2a3f5f"
            },
            "error_y": {
             "color": "#2a3f5f"
            },
            "marker": {
             "line": {
              "color": "#E5ECF6",
              "width": 0.5
             },
             "pattern": {
              "fillmode": "overlay",
              "size": 10,
              "solidity": 0.2
             }
            },
            "type": "bar"
           }
          ],
          "barpolar": [
           {
            "marker": {
             "line": {
              "color": "#E5ECF6",
              "width": 0.5
             },
             "pattern": {
              "fillmode": "overlay",
              "size": 10,
              "solidity": 0.2
             }
            },
            "type": "barpolar"
           }
          ],
          "carpet": [
           {
            "aaxis": {
             "endlinecolor": "#2a3f5f",
             "gridcolor": "white",
             "linecolor": "white",
             "minorgridcolor": "white",
             "startlinecolor": "#2a3f5f"
            },
            "baxis": {
             "endlinecolor": "#2a3f5f",
             "gridcolor": "white",
             "linecolor": "white",
             "minorgridcolor": "white",
             "startlinecolor": "#2a3f5f"
            },
            "type": "carpet"
           }
          ],
          "choropleth": [
           {
            "colorbar": {
             "outlinewidth": 0,
             "ticks": ""
            },
            "type": "choropleth"
           }
          ],
          "contour": [
           {
            "colorbar": {
             "outlinewidth": 0,
             "ticks": ""
            },
            "colorscale": [
             [
              0,
              "#0d0887"
             ],
             [
              0.1111111111111111,
              "#46039f"
             ],
             [
              0.2222222222222222,
              "#7201a8"
             ],
             [
              0.3333333333333333,
              "#9c179e"
             ],
             [
              0.4444444444444444,
              "#bd3786"
             ],
             [
              0.5555555555555556,
              "#d8576b"
             ],
             [
              0.6666666666666666,
              "#ed7953"
             ],
             [
              0.7777777777777778,
              "#fb9f3a"
             ],
             [
              0.8888888888888888,
              "#fdca26"
             ],
             [
              1,
              "#f0f921"
             ]
            ],
            "type": "contour"
           }
          ],
          "contourcarpet": [
           {
            "colorbar": {
             "outlinewidth": 0,
             "ticks": ""
            },
            "type": "contourcarpet"
           }
          ],
          "heatmap": [
           {
            "colorbar": {
             "outlinewidth": 0,
             "ticks": ""
            },
            "colorscale": [
             [
              0,
              "#0d0887"
             ],
             [
              0.1111111111111111,
              "#46039f"
             ],
             [
              0.2222222222222222,
              "#7201a8"
             ],
             [
              0.3333333333333333,
              "#9c179e"
             ],
             [
              0.4444444444444444,
              "#bd3786"
             ],
             [
              0.5555555555555556,
              "#d8576b"
             ],
             [
              0.6666666666666666,
              "#ed7953"
             ],
             [
              0.7777777777777778,
              "#fb9f3a"
             ],
             [
              0.8888888888888888,
              "#fdca26"
             ],
             [
              1,
              "#f0f921"
             ]
            ],
            "type": "heatmap"
           }
          ],
          "heatmapgl": [
           {
            "colorbar": {
             "outlinewidth": 0,
             "ticks": ""
            },
            "colorscale": [
             [
              0,
              "#0d0887"
             ],
             [
              0.1111111111111111,
              "#46039f"
             ],
             [
              0.2222222222222222,
              "#7201a8"
             ],
             [
              0.3333333333333333,
              "#9c179e"
             ],
             [
              0.4444444444444444,
              "#bd3786"
             ],
             [
              0.5555555555555556,
              "#d8576b"
             ],
             [
              0.6666666666666666,
              "#ed7953"
             ],
             [
              0.7777777777777778,
              "#fb9f3a"
             ],
             [
              0.8888888888888888,
              "#fdca26"
             ],
             [
              1,
              "#f0f921"
             ]
            ],
            "type": "heatmapgl"
           }
          ],
          "histogram": [
           {
            "marker": {
             "pattern": {
              "fillmode": "overlay",
              "size": 10,
              "solidity": 0.2
             }
            },
            "type": "histogram"
           }
          ],
          "histogram2d": [
           {
            "colorbar": {
             "outlinewidth": 0,
             "ticks": ""
            },
            "colorscale": [
             [
              0,
              "#0d0887"
             ],
             [
              0.1111111111111111,
              "#46039f"
             ],
             [
              0.2222222222222222,
              "#7201a8"
             ],
             [
              0.3333333333333333,
              "#9c179e"
             ],
             [
              0.4444444444444444,
              "#bd3786"
             ],
             [
              0.5555555555555556,
              "#d8576b"
             ],
             [
              0.6666666666666666,
              "#ed7953"
             ],
             [
              0.7777777777777778,
              "#fb9f3a"
             ],
             [
              0.8888888888888888,
              "#fdca26"
             ],
             [
              1,
              "#f0f921"
             ]
            ],
            "type": "histogram2d"
           }
          ],
          "histogram2dcontour": [
           {
            "colorbar": {
             "outlinewidth": 0,
             "ticks": ""
            },
            "colorscale": [
             [
              0,
              "#0d0887"
             ],
             [
              0.1111111111111111,
              "#46039f"
             ],
             [
              0.2222222222222222,
              "#7201a8"
             ],
             [
              0.3333333333333333,
              "#9c179e"
             ],
             [
              0.4444444444444444,
              "#bd3786"
             ],
             [
              0.5555555555555556,
              "#d8576b"
             ],
             [
              0.6666666666666666,
              "#ed7953"
             ],
             [
              0.7777777777777778,
              "#fb9f3a"
             ],
             [
              0.8888888888888888,
              "#fdca26"
             ],
             [
              1,
              "#f0f921"
             ]
            ],
            "type": "histogram2dcontour"
           }
          ],
          "mesh3d": [
           {
            "colorbar": {
             "outlinewidth": 0,
             "ticks": ""
            },
            "type": "mesh3d"
           }
          ],
          "parcoords": [
           {
            "line": {
             "colorbar": {
              "outlinewidth": 0,
              "ticks": ""
             }
            },
            "type": "parcoords"
           }
          ],
          "pie": [
           {
            "automargin": true,
            "type": "pie"
           }
          ],
          "scatter": [
           {
            "fillpattern": {
             "fillmode": "overlay",
             "size": 10,
             "solidity": 0.2
            },
            "type": "scatter"
           }
          ],
          "scatter3d": [
           {
            "line": {
             "colorbar": {
              "outlinewidth": 0,
              "ticks": ""
             }
            },
            "marker": {
             "colorbar": {
              "outlinewidth": 0,
              "ticks": ""
             }
            },
            "type": "scatter3d"
           }
          ],
          "scattercarpet": [
           {
            "marker": {
             "colorbar": {
              "outlinewidth": 0,
              "ticks": ""
             }
            },
            "type": "scattercarpet"
           }
          ],
          "scattergeo": [
           {
            "marker": {
             "colorbar": {
              "outlinewidth": 0,
              "ticks": ""
             }
            },
            "type": "scattergeo"
           }
          ],
          "scattergl": [
           {
            "marker": {
             "colorbar": {
              "outlinewidth": 0,
              "ticks": ""
             }
            },
            "type": "scattergl"
           }
          ],
          "scattermapbox": [
           {
            "marker": {
             "colorbar": {
              "outlinewidth": 0,
              "ticks": ""
             }
            },
            "type": "scattermapbox"
           }
          ],
          "scatterpolar": [
           {
            "marker": {
             "colorbar": {
              "outlinewidth": 0,
              "ticks": ""
             }
            },
            "type": "scatterpolar"
           }
          ],
          "scatterpolargl": [
           {
            "marker": {
             "colorbar": {
              "outlinewidth": 0,
              "ticks": ""
             }
            },
            "type": "scatterpolargl"
           }
          ],
          "scatterternary": [
           {
            "marker": {
             "colorbar": {
              "outlinewidth": 0,
              "ticks": ""
             }
            },
            "type": "scatterternary"
           }
          ],
          "surface": [
           {
            "colorbar": {
             "outlinewidth": 0,
             "ticks": ""
            },
            "colorscale": [
             [
              0,
              "#0d0887"
             ],
             [
              0.1111111111111111,
              "#46039f"
             ],
             [
              0.2222222222222222,
              "#7201a8"
             ],
             [
              0.3333333333333333,
              "#9c179e"
             ],
             [
              0.4444444444444444,
              "#bd3786"
             ],
             [
              0.5555555555555556,
              "#d8576b"
             ],
             [
              0.6666666666666666,
              "#ed7953"
             ],
             [
              0.7777777777777778,
              "#fb9f3a"
             ],
             [
              0.8888888888888888,
              "#fdca26"
             ],
             [
              1,
              "#f0f921"
             ]
            ],
            "type": "surface"
           }
          ],
          "table": [
           {
            "cells": {
             "fill": {
              "color": "#EBF0F8"
             },
             "line": {
              "color": "white"
             }
            },
            "header": {
             "fill": {
              "color": "#C8D4E3"
             },
             "line": {
              "color": "white"
             }
            },
            "type": "table"
           }
          ]
         },
         "layout": {
          "annotationdefaults": {
           "arrowcolor": "#2a3f5f",
           "arrowhead": 0,
           "arrowwidth": 1
          },
          "autotypenumbers": "strict",
          "coloraxis": {
           "colorbar": {
            "outlinewidth": 0,
            "ticks": ""
           }
          },
          "colorscale": {
           "diverging": [
            [
             0,
             "#8e0152"
            ],
            [
             0.1,
             "#c51b7d"
            ],
            [
             0.2,
             "#de77ae"
            ],
            [
             0.3,
             "#f1b6da"
            ],
            [
             0.4,
             "#fde0ef"
            ],
            [
             0.5,
             "#f7f7f7"
            ],
            [
             0.6,
             "#e6f5d0"
            ],
            [
             0.7,
             "#b8e186"
            ],
            [
             0.8,
             "#7fbc41"
            ],
            [
             0.9,
             "#4d9221"
            ],
            [
             1,
             "#276419"
            ]
           ],
           "sequential": [
            [
             0,
             "#0d0887"
            ],
            [
             0.1111111111111111,
             "#46039f"
            ],
            [
             0.2222222222222222,
             "#7201a8"
            ],
            [
             0.3333333333333333,
             "#9c179e"
            ],
            [
             0.4444444444444444,
             "#bd3786"
            ],
            [
             0.5555555555555556,
             "#d8576b"
            ],
            [
             0.6666666666666666,
             "#ed7953"
            ],
            [
             0.7777777777777778,
             "#fb9f3a"
            ],
            [
             0.8888888888888888,
             "#fdca26"
            ],
            [
             1,
             "#f0f921"
            ]
           ],
           "sequentialminus": [
            [
             0,
             "#0d0887"
            ],
            [
             0.1111111111111111,
             "#46039f"
            ],
            [
             0.2222222222222222,
             "#7201a8"
            ],
            [
             0.3333333333333333,
             "#9c179e"
            ],
            [
             0.4444444444444444,
             "#bd3786"
            ],
            [
             0.5555555555555556,
             "#d8576b"
            ],
            [
             0.6666666666666666,
             "#ed7953"
            ],
            [
             0.7777777777777778,
             "#fb9f3a"
            ],
            [
             0.8888888888888888,
             "#fdca26"
            ],
            [
             1,
             "#f0f921"
            ]
           ]
          },
          "colorway": [
           "#636efa",
           "#EF553B",
           "#00cc96",
           "#ab63fa",
           "#FFA15A",
           "#19d3f3",
           "#FF6692",
           "#B6E880",
           "#FF97FF",
           "#FECB52"
          ],
          "font": {
           "color": "#2a3f5f"
          },
          "geo": {
           "bgcolor": "white",
           "lakecolor": "white",
           "landcolor": "#E5ECF6",
           "showlakes": true,
           "showland": true,
           "subunitcolor": "white"
          },
          "hoverlabel": {
           "align": "left"
          },
          "hovermode": "closest",
          "mapbox": {
           "style": "light"
          },
          "paper_bgcolor": "white",
          "plot_bgcolor": "#E5ECF6",
          "polar": {
           "angularaxis": {
            "gridcolor": "white",
            "linecolor": "white",
            "ticks": ""
           },
           "bgcolor": "#E5ECF6",
           "radialaxis": {
            "gridcolor": "white",
            "linecolor": "white",
            "ticks": ""
           }
          },
          "scene": {
           "xaxis": {
            "backgroundcolor": "#E5ECF6",
            "gridcolor": "white",
            "gridwidth": 2,
            "linecolor": "white",
            "showbackground": true,
            "ticks": "",
            "zerolinecolor": "white"
           },
           "yaxis": {
            "backgroundcolor": "#E5ECF6",
            "gridcolor": "white",
            "gridwidth": 2,
            "linecolor": "white",
            "showbackground": true,
            "ticks": "",
            "zerolinecolor": "white"
           },
           "zaxis": {
            "backgroundcolor": "#E5ECF6",
            "gridcolor": "white",
            "gridwidth": 2,
            "linecolor": "white",
            "showbackground": true,
            "ticks": "",
            "zerolinecolor": "white"
           }
          },
          "shapedefaults": {
           "line": {
            "color": "#2a3f5f"
           }
          },
          "ternary": {
           "aaxis": {
            "gridcolor": "white",
            "linecolor": "white",
            "ticks": ""
           },
           "baxis": {
            "gridcolor": "white",
            "linecolor": "white",
            "ticks": ""
           },
           "bgcolor": "#E5ECF6",
           "caxis": {
            "gridcolor": "white",
            "linecolor": "white",
            "ticks": ""
           }
          },
          "title": {
           "x": 0.05
          },
          "xaxis": {
           "automargin": true,
           "gridcolor": "white",
           "linecolor": "white",
           "ticks": "",
           "title": {
            "standoff": 15
           },
           "zerolinecolor": "white",
           "zerolinewidth": 2
          },
          "yaxis": {
           "automargin": true,
           "gridcolor": "white",
           "linecolor": "white",
           "ticks": "",
           "title": {
            "standoff": 15
           },
           "zerolinecolor": "white",
           "zerolinewidth": 2
          }
         }
        },
        "title": {
         "text": "Basic Bar Chart"
        },
        "xaxis": {
         "autorange": true,
         "range": [
          -0.5,
          2.5
         ],
         "title": {
          "text": "Product"
         },
         "type": "category"
        },
        "yaxis": {
         "autorange": true,
         "range": [
          0,
          15.789473684210526
         ],
         "title": {
          "text": "Sales (in $)"
         },
         "type": "linear"
        }
       }
      },
      "image/png": "[encoded data removed]",
      "text/html": [
       "<div>                            <div id=\"76186c00-13d4-4419-b8d1-00ddb35b6d10\" class=\"plotly-graph-div\" style=\"height:525px; width:100%;\"></div>            <script type=\"text/javascript\">                require([\"plotly\"], function(Plotly) {                    window.PLOTLYENV=window.PLOTLYENV || {};                                    if (document.getElementById(\"76186c00-13d4-4419-b8d1-00ddb35b6d10\")) {                    Plotly.newPlot(                        \"76186c00-13d4-4419-b8d1-00ddb35b6d10\",                        [{\"marker\":{\"color\":\"indianred\"},\"x\":[\"A\",\"B\",\"C\"],\"y\":[10,15,9],\"type\":\"bar\"}],                        {\"template\":{\"data\":{\"histogram2dcontour\":[{\"type\":\"histogram2dcontour\",\"colorbar\":{\"outlinewidth\":0,\"ticks\":\"\"},\"colorscale\":[[0.0,\"#0d0887\"],[0.1111111111111111,\"#46039f\"],[0.2222222222222222,\"#7201a8\"],[0.3333333333333333,\"#9c179e\"],[0.4444444444444444,\"#bd3786\"],[0.5555555555555556,\"#d8576b\"],[0.6666666666666666,\"#ed7953\"],[0.7777777777777778,\"#fb9f3a\"],[0.8888888888888888,\"#fdca26\"],[1.0,\"#f0f921\"]]}],\"choropleth\":[{\"type\":\"choropleth\",\"colorbar\":{\"outlinewidth\":0,\"ticks\":\"\"}}],\"histogram2d\":[{\"type\":\"histogram2d\",\"colorbar\":{\"outlinewidth\":0,\"ticks\":\"\"},\"colorscale\":[[0.0,\"#0d0887\"],[0.1111111111111111,\"#46039f\"],[0.2222222222222222,\"#7201a8\"],[0.3333333333333333,\"#9c179e\"],[0.4444444444444444,\"#bd3786\"],[0.5555555555555556,\"#d8576b\"],[0.6666666666666666,\"#ed7953\"],[0.7777777777777778,\"#fb9f3a\"],[0.8888888888888888,\"#fdca26\"],[1.0,\"#f0f921\"]]}],\"heatmap\":[{\"type\":\"heatmap\",\"colorbar\":{\"outlinewidth\":0,\"ticks\":\"\"},\"colorscale\":[[0.0,\"#0d0887\"],[0.1111111111111111,\"#46039f\"],[0.2222222222222222,\"#7201a8\"],[0.3333333333333333,\"#9c179e\"],[0.4444444444444444,\"#bd3786\"],[0.5555555555555556,\"#d8576b\"],[0.6666666666666666,\"#ed7953\"],[0.7777777777777778,\"#fb9f3a\"],[0.8888888888888888,\"#fdca26\"],[1.0,\"#f0f921\"]]}],\"heatmapgl\":[{\"type\":\"heatmapgl\",\"colorbar\":{\"outlinewidth\":0,\"ticks\":\"\"},\"colorscale\":[[0.0,\"#0d0887\"],[0.1111111111111111,\"#46039f\"],[0.2222222222222222,\"#7201a8\"],[0.3333333333333333,\"#9c179e\"],[0.4444444444444444,\"#bd3786\"],[0.5555555555555556,\"#d8576b\"],[0.6666666666666666,\"#ed7953\"],[0.7777777777777778,\"#fb9f3a\"],[0.8888888888888888,\"#fdca26\"],[1.0,\"#f0f921\"]]}],\"contourcarpet\":[{\"type\":\"contourcarpet\",\"colorbar\":{\"outlinewidth\":0,\"ticks\":\"\"}}],\"contour\":[{\"type\":\"contour\",\"colorbar\":{\"outlinewidth\":0,\"ticks\":\"\"},\"colorscale\":[[0.0,\"#0d0887\"],[0.1111111111111111,\"#46039f\"],[0.2222222222222222,\"#7201a8\"],[0.3333333333333333,\"#9c179e\"],[0.4444444444444444,\"#bd3786\"],[0.5555555555555556,\"#d8576b\"],[0.6666666666666666,\"#ed7953\"],[0.7777777777777778,\"#fb9f3a\"],[0.8888888888888888,\"#fdca26\"],[1.0,\"#f0f921\"]]}],\"surface\":[{\"type\":\"surface\",\"colorbar\":{\"outlinewidth\":0,\"ticks\":\"\"},\"colorscale\":[[0.0,\"#0d0887\"],[0.1111111111111111,\"#46039f\"],[0.2222222222222222,\"#7201a8\"],[0.3333333333333333,\"#9c179e\"],[0.4444444444444444,\"#bd3786\"],[0.5555555555555556,\"#d8576b\"],[0.6666666666666666,\"#ed7953\"],[0.7777777777777778,\"#fb9f3a\"],[0.8888888888888888,\"#fdca26\"],[1.0,\"#f0f921\"]]}],\"mesh3d\":[{\"type\":\"mesh3d\",\"colorbar\":{\"outlinewidth\":0,\"ticks\":\"\"}}],\"scatter\":[{\"fillpattern\":{\"fillmode\":\"overlay\",\"size\":10,\"solidity\":0.2},\"type\":\"scatter\"}],\"parcoords\":[{\"type\":\"parcoords\",\"line\":{\"colorbar\":{\"outlinewidth\":0,\"ticks\":\"\"}}}],\"scatterpolargl\":[{\"type\":\"scatterpolargl\",\"marker\":{\"colorbar\":{\"outlinewidth\":0,\"ticks\":\"\"}}}],\"bar\":[{\"error_x\":{\"color\":\"#2a3f5f\"},\"error_y\":{\"color\":\"#2a3f5f\"},\"marker\":{\"line\":{\"color\":\"#E5ECF6\",\"width\":0.5},\"pattern\":{\"fillmode\":\"overlay\",\"size\":10,\"solidity\":0.2}},\"type\":\"bar\"}],\"scattergeo\":[{\"type\":\"scattergeo\",\"marker\":{\"colorbar\":{\"outlinewidth\":0,\"ticks\":\"\"}}}],\"scatterpolar\":[{\"type\":\"scatterpolar\",\"marker\":{\"colorbar\":{\"outlinewidth\":0,\"ticks\":\"\"}}}],\"histogram\":[{\"marker\":{\"pattern\":{\"fillmode\":\"overlay\",\"size\":10,\"solidity\":0.2}},\"type\":\"histogram\"}],\"scattergl\":[{\"type\":\"scattergl\",\"marker\":{\"colorbar\":{\"outlinewidth\":0,\"ticks\":\"\"}}}],\"scatter3d\":[{\"type\":\"scatter3d\",\"line\":{\"colorbar\":{\"outlinewidth\":0,\"ticks\":\"\"}},\"marker\":{\"colorbar\":{\"outlinewidth\":0,\"ticks\":\"\"}}}],\"scattermapbox\":[{\"type\":\"scattermapbox\",\"marker\":{\"colorbar\":{\"outlinewidth\":0,\"ticks\":\"\"}}}],\"scatterternary\":[{\"type\":\"scatterternary\",\"marker\":{\"colorbar\":{\"outlinewidth\":0,\"ticks\":\"\"}}}],\"scattercarpet\":[{\"type\":\"scattercarpet\",\"marker\":{\"colorbar\":{\"outlinewidth\":0,\"ticks\":\"\"}}}],\"carpet\":[{\"aaxis\":{\"endlinecolor\":\"#2a3f5f\",\"gridcolor\":\"white\",\"linecolor\":\"white\",\"minorgridcolor\":\"white\",\"startlinecolor\":\"#2a3f5f\"},\"baxis\":{\"endlinecolor\":\"#2a3f5f\",\"gridcolor\":\"white\",\"linecolor\":\"white\",\"minorgridcolor\":\"white\",\"startlinecolor\":\"#2a3f5f\"},\"type\":\"carpet\"}],\"table\":[{\"cells\":{\"fill\":{\"color\":\"#EBF0F8\"},\"line\":{\"color\":\"white\"}},\"header\":{\"fill\":{\"color\":\"#C8D4E3\"},\"line\":{\"color\":\"white\"}},\"type\":\"table\"}],\"barpolar\":[{\"marker\":{\"line\":{\"color\":\"#E5ECF6\",\"width\":0.5},\"pattern\":{\"fillmode\":\"overlay\",\"size\":10,\"solidity\":0.2}},\"type\":\"barpolar\"}],\"pie\":[{\"automargin\":true,\"type\":\"pie\"}]},\"layout\":{\"autotypenumbers\":\"strict\",\"colorway\":[\"#636efa\",\"#EF553B\",\"#00cc96\",\"#ab63fa\",\"#FFA15A\",\"#19d3f3\",\"#FF6692\",\"#B6E880\",\"#FF97FF\",\"#FECB52\"],\"font\":{\"color\":\"#2a3f5f\"},\"hovermode\":\"closest\",\"hoverlabel\":{\"align\":\"left\"},\"paper_bgcolor\":\"white\",\"plot_bgcolor\":\"#E5ECF6\",\"polar\":{\"bgcolor\":\"#E5ECF6\",\"angularaxis\":{\"gridcolor\":\"white\",\"linecolor\":\"white\",\"ticks\":\"\"},\"radialaxis\":{\"gridcolor\":\"white\",\"linecolor\":\"white\",\"ticks\":\"\"}},\"ternary\":{\"bgcolor\":\"#E5ECF6\",\"aaxis\":{\"gridcolor\":\"white\",\"linecolor\":\"white\",\"ticks\":\"\"},\"baxis\":{\"gridcolor\":\"white\",\"linecolor\":\"white\",\"ticks\":\"\"},\"caxis\":{\"gridcolor\":\"white\",\"linecolor\":\"white\",\"ticks\":\"\"}},\"coloraxis\":{\"colorbar\":{\"outlinewidth\":0,\"ticks\":\"\"}},\"colorscale\":{\"sequential\":[[0.0,\"#0d0887\"],[0.1111111111111111,\"#46039f\"],[0.2222222222222222,\"#7201a8\"],[0.3333333333333333,\"#9c179e\"],[0.4444444444444444,\"#bd3786\"],[0.5555555555555556,\"#d8576b\"],[0.6666666666666666,\"#ed7953\"],[0.7777777777777778,\"#fb9f3a\"],[0.8888888888888888,\"#fdca26\"],[1.0,\"#f0f921\"]],\"sequentialminus\":[[0.0,\"#0d0887\"],[0.1111111111111111,\"#46039f\"],[0.2222222222222222,\"#7201a8\"],[0.3333333333333333,\"#9c179e\"],[0.4444444444444444,\"#bd3786\"],[0.5555555555555556,\"#d8576b\"],[0.6666666666666666,\"#ed7953\"],[0.7777777777777778,\"#fb9f3a\"],[0.8888888888888888,\"#fdca26\"],[1.0,\"#f0f921\"]],\"diverging\":[[0,\"#8e0152\"],[0.1,\"#c51b7d\"],[0.2,\"#de77ae\"],[0.3,\"#f1b6da\"],[0.4,\"#fde0ef\"],[0.5,\"#f7f7f7\"],[0.6,\"#e6f5d0\"],[0.7,\"#b8e186\"],[0.8,\"#7fbc41\"],[0.9,\"#4d9221\"],[1,\"#276419\"]]},\"xaxis\":{\"gridcolor\":\"white\",\"linecolor\":\"white\",\"ticks\":\"\",\"title\":{\"standoff\":15},\"zerolinecolor\":\"white\",\"automargin\":true,\"zerolinewidth\":2},\"yaxis\":{\"gridcolor\":\"white\",\"linecolor\":\"white\",\"ticks\":\"\",\"title\":{\"standoff\":15},\"zerolinecolor\":\"white\",\"automargin\":true,\"zerolinewidth\":2},\"scene\":{\"xaxis\":{\"backgroundcolor\":\"#E5ECF6\",\"gridcolor\":\"white\",\"linecolor\":\"white\",\"showbackground\":true,\"ticks\":\"\",\"zerolinecolor\":\"white\",\"gridwidth\":2},\"yaxis\":{\"backgroundcolor\":\"#E5ECF6\",\"gridcolor\":\"white\",\"linecolor\":\"white\",\"showbackground\":true,\"ticks\":\"\",\"zerolinecolor\":\"white\",\"gridwidth\":2},\"zaxis\":{\"backgroundcolor\":\"#E5ECF6\",\"gridcolor\":\"white\",\"linecolor\":\"white\",\"showbackground\":true,\"ticks\":\"\",\"zerolinecolor\":\"white\",\"gridwidth\":2}},\"shapedefaults\":{\"line\":{\"color\":\"#2a3f5f\"}},\"annotationdefaults\":{\"arrowcolor\":\"#2a3f5f\",\"arrowhead\":0,\"arrowwidth\":1},\"geo\":{\"bgcolor\":\"white\",\"landcolor\":\"#E5ECF6\",\"subunitcolor\":\"white\",\"showland\":true,\"showlakes\":true,\"lakecolor\":\"white\"},\"title\":{\"x\":0.05},\"mapbox\":{\"style\":\"light\"}}},\"title\":{\"text\":\"Basic Bar Chart\"},\"xaxis\":{\"title\":{\"text\":\"Product\"}},\"yaxis\":{\"title\":{\"text\":\"Sales (in $)\"}}},                        {\"responsive\": true}                    ).then(function(){\n",
       "                            \n",
       "var gd = document.getElementById('76186c00-13d4-4419-b8d1-00ddb35b6d10');\n",
       "var x = new MutationObserver(function (mutations, observer) {{\n",
       "        var display = window.getComputedStyle(gd).display;\n",
       "        if (!display || display === 'none') {{\n",
       "            console.log([gd, 'removed!']);\n",
       "            Plotly.purge(gd);\n",
       "            observer.disconnect();\n",
       "        }}\n",
       "}});\n",
       "\n",
       "// Listen for the removal of the full notebook cells\n",
       "var notebookContainer = gd.closest('#notebook-container');\n",
       "if (notebookContainer) {{\n",
       "    x.observe(notebookContainer, {childList: true});\n",
       "}}\n",
       "\n",
       "// Listen for the clearing of the current output cell\n",
       "var outputEl = gd.closest('.output');\n",
       "if (outputEl) {{\n",
       "    x.observe(outputEl, {childList: true});\n",
       "}}\n",
       "\n",
       "                        })                };                });            </script>        </div>"
      ]
     },
     "metadata": {},
     "output_type": "display_data"
    }
   ],
   "source": [
    "figb = go.Figure(data=[go.Bar(x=['A','B','C'], y=[10,15,9], marker_color='indianred')])\n",
    "figb.update_layout(title='Basic Bar Chart', xaxis_title='Product',yaxis_title='Sales (in $)')\n",
    "figb.show()"
   ]
  },
  {
   "cell_type": "markdown",
   "id": "1b0d9597-3b7a-4f03-8373-7397620472ca",
   "metadata": {},
   "source": [
    "#### Notes\n",
    "\n",
    "* plotly.graph_objects (or go) is the core engine of Plotly.\n",
    "\n",
    "* Every chart is built as a Figure containing one or more Traces (go.Bar, go.Scatter, go.Pie, etc.).\n",
    "\n",
    "* You manually define every element — data, color, title, axes, etc."
   ]
  },
  {
   "cell_type": "markdown",
   "id": "74bdcc00-ee1f-4e1c-9142-9f4a04f85799",
   "metadata": {},
   "source": [
    "### Bar chart using plotly.express."
   ]
  },
  {
   "cell_type": "code",
   "execution_count": 50,
   "id": "9c78b785-3669-4e1b-8b76-3f543e4b00f0",
   "metadata": {},
   "outputs": [
    {
     "data": {
      "application/vnd.plotly.v1+json": {
       "config": {
        "plotlyServerURL": "https://plot.ly"
       },
       "data": [
        {
         "alignmentgroup": "True",
         "hovertemplate": "Product=%{x}<br>Sales=%{y}<extra></extra>",
         "legendgroup": "",
         "marker": {
          "color": "#636efa",
          "pattern": {
           "shape": ""
          }
         },
         "name": "",
         "offsetgroup": "",
         "orientation": "v",
         "showlegend": false,
         "textposition": "auto",
         "type": "bar",
         "x": [
          "A",
          "B",
          "C"
         ],
         "xaxis": "x",
         "y": [
          10,
          15,
          9
         ],
         "yaxis": "y"
        }
       ],
       "layout": {
        "autosize": true,
        "barmode": "relative",
        "legend": {
         "tracegroupgap": 0
        },
        "template": {
         "data": {
          "bar": [
           {
            "error_x": {
             "color": "#2a3f5f"
            },
            "error_y": {
             "color": "#2a3f5f"
            },
            "marker": {
             "line": {
              "color": "#E5ECF6",
              "width": 0.5
             },
             "pattern": {
              "fillmode": "overlay",
              "size": 10,
              "solidity": 0.2
             }
            },
            "type": "bar"
           }
          ],
          "barpolar": [
           {
            "marker": {
             "line": {
              "color": "#E5ECF6",
              "width": 0.5
             },
             "pattern": {
              "fillmode": "overlay",
              "size": 10,
              "solidity": 0.2
             }
            },
            "type": "barpolar"
           }
          ],
          "carpet": [
           {
            "aaxis": {
             "endlinecolor": "#2a3f5f",
             "gridcolor": "white",
             "linecolor": "white",
             "minorgridcolor": "white",
             "startlinecolor": "#2a3f5f"
            },
            "baxis": {
             "endlinecolor": "#2a3f5f",
             "gridcolor": "white",
             "linecolor": "white",
             "minorgridcolor": "white",
             "startlinecolor": "#2a3f5f"
            },
            "type": "carpet"
           }
          ],
          "choropleth": [
           {
            "colorbar": {
             "outlinewidth": 0,
             "ticks": ""
            },
            "type": "choropleth"
           }
          ],
          "contour": [
           {
            "colorbar": {
             "outlinewidth": 0,
             "ticks": ""
            },
            "colorscale": [
             [
              0,
              "#0d0887"
             ],
             [
              0.1111111111111111,
              "#46039f"
             ],
             [
              0.2222222222222222,
              "#7201a8"
             ],
             [
              0.3333333333333333,
              "#9c179e"
             ],
             [
              0.4444444444444444,
              "#bd3786"
             ],
             [
              0.5555555555555556,
              "#d8576b"
             ],
             [
              0.6666666666666666,
              "#ed7953"
             ],
             [
              0.7777777777777778,
              "#fb9f3a"
             ],
             [
              0.8888888888888888,
              "#fdca26"
             ],
             [
              1,
              "#f0f921"
             ]
            ],
            "type": "contour"
           }
          ],
          "contourcarpet": [
           {
            "colorbar": {
             "outlinewidth": 0,
             "ticks": ""
            },
            "type": "contourcarpet"
           }
          ],
          "heatmap": [
           {
            "colorbar": {
             "outlinewidth": 0,
             "ticks": ""
            },
            "colorscale": [
             [
              0,
              "#0d0887"
             ],
             [
              0.1111111111111111,
              "#46039f"
             ],
             [
              0.2222222222222222,
              "#7201a8"
             ],
             [
              0.3333333333333333,
              "#9c179e"
             ],
             [
              0.4444444444444444,
              "#bd3786"
             ],
             [
              0.5555555555555556,
              "#d8576b"
             ],
             [
              0.6666666666666666,
              "#ed7953"
             ],
             [
              0.7777777777777778,
              "#fb9f3a"
             ],
             [
              0.8888888888888888,
              "#fdca26"
             ],
             [
              1,
              "#f0f921"
             ]
            ],
            "type": "heatmap"
           }
          ],
          "heatmapgl": [
           {
            "colorbar": {
             "outlinewidth": 0,
             "ticks": ""
            },
            "colorscale": [
             [
              0,
              "#0d0887"
             ],
             [
              0.1111111111111111,
              "#46039f"
             ],
             [
              0.2222222222222222,
              "#7201a8"
             ],
             [
              0.3333333333333333,
              "#9c179e"
             ],
             [
              0.4444444444444444,
              "#bd3786"
             ],
             [
              0.5555555555555556,
              "#d8576b"
             ],
             [
              0.6666666666666666,
              "#ed7953"
             ],
             [
              0.7777777777777778,
              "#fb9f3a"
             ],
             [
              0.8888888888888888,
              "#fdca26"
             ],
             [
              1,
              "#f0f921"
             ]
            ],
            "type": "heatmapgl"
           }
          ],
          "histogram": [
           {
            "marker": {
             "pattern": {
              "fillmode": "overlay",
              "size": 10,
              "solidity": 0.2
             }
            },
            "type": "histogram"
           }
          ],
          "histogram2d": [
           {
            "colorbar": {
             "outlinewidth": 0,
             "ticks": ""
            },
            "colorscale": [
             [
              0,
              "#0d0887"
             ],
             [
              0.1111111111111111,
              "#46039f"
             ],
             [
              0.2222222222222222,
              "#7201a8"
             ],
             [
              0.3333333333333333,
              "#9c179e"
             ],
             [
              0.4444444444444444,
              "#bd3786"
             ],
             [
              0.5555555555555556,
              "#d8576b"
             ],
             [
              0.6666666666666666,
              "#ed7953"
             ],
             [
              0.7777777777777778,
              "#fb9f3a"
             ],
             [
              0.8888888888888888,
              "#fdca26"
             ],
             [
              1,
              "#f0f921"
             ]
            ],
            "type": "histogram2d"
           }
          ],
          "histogram2dcontour": [
           {
            "colorbar": {
             "outlinewidth": 0,
             "ticks": ""
            },
            "colorscale": [
             [
              0,
              "#0d0887"
             ],
             [
              0.1111111111111111,
              "#46039f"
             ],
             [
              0.2222222222222222,
              "#7201a8"
             ],
             [
              0.3333333333333333,
              "#9c179e"
             ],
             [
              0.4444444444444444,
              "#bd3786"
             ],
             [
              0.5555555555555556,
              "#d8576b"
             ],
             [
              0.6666666666666666,
              "#ed7953"
             ],
             [
              0.7777777777777778,
              "#fb9f3a"
             ],
             [
              0.8888888888888888,
              "#fdca26"
             ],
             [
              1,
              "#f0f921"
             ]
            ],
            "type": "histogram2dcontour"
           }
          ],
          "mesh3d": [
           {
            "colorbar": {
             "outlinewidth": 0,
             "ticks": ""
            },
            "type": "mesh3d"
           }
          ],
          "parcoords": [
           {
            "line": {
             "colorbar": {
              "outlinewidth": 0,
              "ticks": ""
             }
            },
            "type": "parcoords"
           }
          ],
          "pie": [
           {
            "automargin": true,
            "type": "pie"
           }
          ],
          "scatter": [
           {
            "fillpattern": {
             "fillmode": "overlay",
             "size": 10,
             "solidity": 0.2
            },
            "type": "scatter"
           }
          ],
          "scatter3d": [
           {
            "line": {
             "colorbar": {
              "outlinewidth": 0,
              "ticks": ""
             }
            },
            "marker": {
             "colorbar": {
              "outlinewidth": 0,
              "ticks": ""
             }
            },
            "type": "scatter3d"
           }
          ],
          "scattercarpet": [
           {
            "marker": {
             "colorbar": {
              "outlinewidth": 0,
              "ticks": ""
             }
            },
            "type": "scattercarpet"
           }
          ],
          "scattergeo": [
           {
            "marker": {
             "colorbar": {
              "outlinewidth": 0,
              "ticks": ""
             }
            },
            "type": "scattergeo"
           }
          ],
          "scattergl": [
           {
            "marker": {
             "colorbar": {
              "outlinewidth": 0,
              "ticks": ""
             }
            },
            "type": "scattergl"
           }
          ],
          "scattermapbox": [
           {
            "marker": {
             "colorbar": {
              "outlinewidth": 0,
              "ticks": ""
             }
            },
            "type": "scattermapbox"
           }
          ],
          "scatterpolar": [
           {
            "marker": {
             "colorbar": {
              "outlinewidth": 0,
              "ticks": ""
             }
            },
            "type": "scatterpolar"
           }
          ],
          "scatterpolargl": [
           {
            "marker": {
             "colorbar": {
              "outlinewidth": 0,
              "ticks": ""
             }
            },
            "type": "scatterpolargl"
           }
          ],
          "scatterternary": [
           {
            "marker": {
             "colorbar": {
              "outlinewidth": 0,
              "ticks": ""
             }
            },
            "type": "scatterternary"
           }
          ],
          "surface": [
           {
            "colorbar": {
             "outlinewidth": 0,
             "ticks": ""
            },
            "colorscale": [
             [
              0,
              "#0d0887"
             ],
             [
              0.1111111111111111,
              "#46039f"
             ],
             [
              0.2222222222222222,
              "#7201a8"
             ],
             [
              0.3333333333333333,
              "#9c179e"
             ],
             [
              0.4444444444444444,
              "#bd3786"
             ],
             [
              0.5555555555555556,
              "#d8576b"
             ],
             [
              0.6666666666666666,
              "#ed7953"
             ],
             [
              0.7777777777777778,
              "#fb9f3a"
             ],
             [
              0.8888888888888888,
              "#fdca26"
             ],
             [
              1,
              "#f0f921"
             ]
            ],
            "type": "surface"
           }
          ],
          "table": [
           {
            "cells": {
             "fill": {
              "color": "#EBF0F8"
             },
             "line": {
              "color": "white"
             }
            },
            "header": {
             "fill": {
              "color": "#C8D4E3"
             },
             "line": {
              "color": "white"
             }
            },
            "type": "table"
           }
          ]
         },
         "layout": {
          "annotationdefaults": {
           "arrowcolor": "#2a3f5f",
           "arrowhead": 0,
           "arrowwidth": 1
          },
          "autotypenumbers": "strict",
          "coloraxis": {
           "colorbar": {
            "outlinewidth": 0,
            "ticks": ""
           }
          },
          "colorscale": {
           "diverging": [
            [
             0,
             "#8e0152"
            ],
            [
             0.1,
             "#c51b7d"
            ],
            [
             0.2,
             "#de77ae"
            ],
            [
             0.3,
             "#f1b6da"
            ],
            [
             0.4,
             "#fde0ef"
            ],
            [
             0.5,
             "#f7f7f7"
            ],
            [
             0.6,
             "#e6f5d0"
            ],
            [
             0.7,
             "#b8e186"
            ],
            [
             0.8,
             "#7fbc41"
            ],
            [
             0.9,
             "#4d9221"
            ],
            [
             1,
             "#276419"
            ]
           ],
           "sequential": [
            [
             0,
             "#0d0887"
            ],
            [
             0.1111111111111111,
             "#46039f"
            ],
            [
             0.2222222222222222,
             "#7201a8"
            ],
            [
             0.3333333333333333,
             "#9c179e"
            ],
            [
             0.4444444444444444,
             "#bd3786"
            ],
            [
             0.5555555555555556,
             "#d8576b"
            ],
            [
             0.6666666666666666,
             "#ed7953"
            ],
            [
             0.7777777777777778,
             "#fb9f3a"
            ],
            [
             0.8888888888888888,
             "#fdca26"
            ],
            [
             1,
             "#f0f921"
            ]
           ],
           "sequentialminus": [
            [
             0,
             "#0d0887"
            ],
            [
             0.1111111111111111,
             "#46039f"
            ],
            [
             0.2222222222222222,
             "#7201a8"
            ],
            [
             0.3333333333333333,
             "#9c179e"
            ],
            [
             0.4444444444444444,
             "#bd3786"
            ],
            [
             0.5555555555555556,
             "#d8576b"
            ],
            [
             0.6666666666666666,
             "#ed7953"
            ],
            [
             0.7777777777777778,
             "#fb9f3a"
            ],
            [
             0.8888888888888888,
             "#fdca26"
            ],
            [
             1,
             "#f0f921"
            ]
           ]
          },
          "colorway": [
           "#636efa",
           "#EF553B",
           "#00cc96",
           "#ab63fa",
           "#FFA15A",
           "#19d3f3",
           "#FF6692",
           "#B6E880",
           "#FF97FF",
           "#FECB52"
          ],
          "font": {
           "color": "#2a3f5f"
          },
          "geo": {
           "bgcolor": "white",
           "lakecolor": "white",
           "landcolor": "#E5ECF6",
           "showlakes": true,
           "showland": true,
           "subunitcolor": "white"
          },
          "hoverlabel": {
           "align": "left"
          },
          "hovermode": "closest",
          "mapbox": {
           "style": "light"
          },
          "paper_bgcolor": "white",
          "plot_bgcolor": "#E5ECF6",
          "polar": {
           "angularaxis": {
            "gridcolor": "white",
            "linecolor": "white",
            "ticks": ""
           },
           "bgcolor": "#E5ECF6",
           "radialaxis": {
            "gridcolor": "white",
            "linecolor": "white",
            "ticks": ""
           }
          },
          "scene": {
           "xaxis": {
            "backgroundcolor": "#E5ECF6",
            "gridcolor": "white",
            "gridwidth": 2,
            "linecolor": "white",
            "showbackground": true,
            "ticks": "",
            "zerolinecolor": "white"
           },
           "yaxis": {
            "backgroundcolor": "#E5ECF6",
            "gridcolor": "white",
            "gridwidth": 2,
            "linecolor": "white",
            "showbackground": true,
            "ticks": "",
            "zerolinecolor": "white"
           },
           "zaxis": {
            "backgroundcolor": "#E5ECF6",
            "gridcolor": "white",
            "gridwidth": 2,
            "linecolor": "white",
            "showbackground": true,
            "ticks": "",
            "zerolinecolor": "white"
           }
          },
          "shapedefaults": {
           "line": {
            "color": "#2a3f5f"
           }
          },
          "ternary": {
           "aaxis": {
            "gridcolor": "white",
            "linecolor": "white",
            "ticks": ""
           },
           "baxis": {
            "gridcolor": "white",
            "linecolor": "white",
            "ticks": ""
           },
           "bgcolor": "#E5ECF6",
           "caxis": {
            "gridcolor": "white",
            "linecolor": "white",
            "ticks": ""
           }
          },
          "title": {
           "x": 0.05
          },
          "xaxis": {
           "automargin": true,
           "gridcolor": "white",
           "linecolor": "white",
           "ticks": "",
           "title": {
            "standoff": 15
           },
           "zerolinecolor": "white",
           "zerolinewidth": 2
          },
          "yaxis": {
           "automargin": true,
           "gridcolor": "white",
           "linecolor": "white",
           "ticks": "",
           "title": {
            "standoff": 15
           },
           "zerolinecolor": "white",
           "zerolinewidth": 2
          }
         }
        },
        "title": {
         "text": "Plotly Express Example"
        },
        "xaxis": {
         "anchor": "y",
         "autorange": true,
         "domain": [
          0,
          1
         ],
         "range": [
          -0.5,
          2.5
         ],
         "title": {
          "text": "Product"
         },
         "type": "category"
        },
        "yaxis": {
         "anchor": "x",
         "autorange": true,
         "domain": [
          0,
          1
         ],
         "range": [
          0,
          15.789473684210526
         ],
         "title": {
          "text": "Sales"
         },
         "type": "linear"
        }
       }
      },
      "image/png": "[encoded data removed]",
      "text/html": [
       "<div>                            <div id=\"432b46da-7ea5-44c3-98db-78699a418dee\" class=\"plotly-graph-div\" style=\"height:525px; width:100%;\"></div>            <script type=\"text/javascript\">                require([\"plotly\"], function(Plotly) {                    window.PLOTLYENV=window.PLOTLYENV || {};                                    if (document.getElementById(\"432b46da-7ea5-44c3-98db-78699a418dee\")) {                    Plotly.newPlot(                        \"432b46da-7ea5-44c3-98db-78699a418dee\",                        [{\"alignmentgroup\":\"True\",\"hovertemplate\":\"Product=%{x}\\u003cbr\\u003eSales=%{y}\\u003cextra\\u003e\\u003c\\u002fextra\\u003e\",\"legendgroup\":\"\",\"marker\":{\"color\":\"#636efa\",\"pattern\":{\"shape\":\"\"}},\"name\":\"\",\"offsetgroup\":\"\",\"orientation\":\"v\",\"showlegend\":false,\"textposition\":\"auto\",\"x\":[\"A\",\"B\",\"C\"],\"xaxis\":\"x\",\"y\":[10,15,9],\"yaxis\":\"y\",\"type\":\"bar\"}],                        {\"template\":{\"data\":{\"histogram2dcontour\":[{\"type\":\"histogram2dcontour\",\"colorbar\":{\"outlinewidth\":0,\"ticks\":\"\"},\"colorscale\":[[0.0,\"#0d0887\"],[0.1111111111111111,\"#46039f\"],[0.2222222222222222,\"#7201a8\"],[0.3333333333333333,\"#9c179e\"],[0.4444444444444444,\"#bd3786\"],[0.5555555555555556,\"#d8576b\"],[0.6666666666666666,\"#ed7953\"],[0.7777777777777778,\"#fb9f3a\"],[0.8888888888888888,\"#fdca26\"],[1.0,\"#f0f921\"]]}],\"choropleth\":[{\"type\":\"choropleth\",\"colorbar\":{\"outlinewidth\":0,\"ticks\":\"\"}}],\"histogram2d\":[{\"type\":\"histogram2d\",\"colorbar\":{\"outlinewidth\":0,\"ticks\":\"\"},\"colorscale\":[[0.0,\"#0d0887\"],[0.1111111111111111,\"#46039f\"],[0.2222222222222222,\"#7201a8\"],[0.3333333333333333,\"#9c179e\"],[0.4444444444444444,\"#bd3786\"],[0.5555555555555556,\"#d8576b\"],[0.6666666666666666,\"#ed7953\"],[0.7777777777777778,\"#fb9f3a\"],[0.8888888888888888,\"#fdca26\"],[1.0,\"#f0f921\"]]}],\"heatmap\":[{\"type\":\"heatmap\",\"colorbar\":{\"outlinewidth\":0,\"ticks\":\"\"},\"colorscale\":[[0.0,\"#0d0887\"],[0.1111111111111111,\"#46039f\"],[0.2222222222222222,\"#7201a8\"],[0.3333333333333333,\"#9c179e\"],[0.4444444444444444,\"#bd3786\"],[0.5555555555555556,\"#d8576b\"],[0.6666666666666666,\"#ed7953\"],[0.7777777777777778,\"#fb9f3a\"],[0.8888888888888888,\"#fdca26\"],[1.0,\"#f0f921\"]]}],\"heatmapgl\":[{\"type\":\"heatmapgl\",\"colorbar\":{\"outlinewidth\":0,\"ticks\":\"\"},\"colorscale\":[[0.0,\"#0d0887\"],[0.1111111111111111,\"#46039f\"],[0.2222222222222222,\"#7201a8\"],[0.3333333333333333,\"#9c179e\"],[0.4444444444444444,\"#bd3786\"],[0.5555555555555556,\"#d8576b\"],[0.6666666666666666,\"#ed7953\"],[0.7777777777777778,\"#fb9f3a\"],[0.8888888888888888,\"#fdca26\"],[1.0,\"#f0f921\"]]}],\"contourcarpet\":[{\"type\":\"contourcarpet\",\"colorbar\":{\"outlinewidth\":0,\"ticks\":\"\"}}],\"contour\":[{\"type\":\"contour\",\"colorbar\":{\"outlinewidth\":0,\"ticks\":\"\"},\"colorscale\":[[0.0,\"#0d0887\"],[0.1111111111111111,\"#46039f\"],[0.2222222222222222,\"#7201a8\"],[0.3333333333333333,\"#9c179e\"],[0.4444444444444444,\"#bd3786\"],[0.5555555555555556,\"#d8576b\"],[0.6666666666666666,\"#ed7953\"],[0.7777777777777778,\"#fb9f3a\"],[0.8888888888888888,\"#fdca26\"],[1.0,\"#f0f921\"]]}],\"surface\":[{\"type\":\"surface\",\"colorbar\":{\"outlinewidth\":0,\"ticks\":\"\"},\"colorscale\":[[0.0,\"#0d0887\"],[0.1111111111111111,\"#46039f\"],[0.2222222222222222,\"#7201a8\"],[0.3333333333333333,\"#9c179e\"],[0.4444444444444444,\"#bd3786\"],[0.5555555555555556,\"#d8576b\"],[0.6666666666666666,\"#ed7953\"],[0.7777777777777778,\"#fb9f3a\"],[0.8888888888888888,\"#fdca26\"],[1.0,\"#f0f921\"]]}],\"mesh3d\":[{\"type\":\"mesh3d\",\"colorbar\":{\"outlinewidth\":0,\"ticks\":\"\"}}],\"scatter\":[{\"fillpattern\":{\"fillmode\":\"overlay\",\"size\":10,\"solidity\":0.2},\"type\":\"scatter\"}],\"parcoords\":[{\"type\":\"parcoords\",\"line\":{\"colorbar\":{\"outlinewidth\":0,\"ticks\":\"\"}}}],\"scatterpolargl\":[{\"type\":\"scatterpolargl\",\"marker\":{\"colorbar\":{\"outlinewidth\":0,\"ticks\":\"\"}}}],\"bar\":[{\"error_x\":{\"color\":\"#2a3f5f\"},\"error_y\":{\"color\":\"#2a3f5f\"},\"marker\":{\"line\":{\"color\":\"#E5ECF6\",\"width\":0.5},\"pattern\":{\"fillmode\":\"overlay\",\"size\":10,\"solidity\":0.2}},\"type\":\"bar\"}],\"scattergeo\":[{\"type\":\"scattergeo\",\"marker\":{\"colorbar\":{\"outlinewidth\":0,\"ticks\":\"\"}}}],\"scatterpolar\":[{\"type\":\"scatterpolar\",\"marker\":{\"colorbar\":{\"outlinewidth\":0,\"ticks\":\"\"}}}],\"histogram\":[{\"marker\":{\"pattern\":{\"fillmode\":\"overlay\",\"size\":10,\"solidity\":0.2}},\"type\":\"histogram\"}],\"scattergl\":[{\"type\":\"scattergl\",\"marker\":{\"colorbar\":{\"outlinewidth\":0,\"ticks\":\"\"}}}],\"scatter3d\":[{\"type\":\"scatter3d\",\"line\":{\"colorbar\":{\"outlinewidth\":0,\"ticks\":\"\"}},\"marker\":{\"colorbar\":{\"outlinewidth\":0,\"ticks\":\"\"}}}],\"scattermapbox\":[{\"type\":\"scattermapbox\",\"marker\":{\"colorbar\":{\"outlinewidth\":0,\"ticks\":\"\"}}}],\"scatterternary\":[{\"type\":\"scatterternary\",\"marker\":{\"colorbar\":{\"outlinewidth\":0,\"ticks\":\"\"}}}],\"scattercarpet\":[{\"type\":\"scattercarpet\",\"marker\":{\"colorbar\":{\"outlinewidth\":0,\"ticks\":\"\"}}}],\"carpet\":[{\"aaxis\":{\"endlinecolor\":\"#2a3f5f\",\"gridcolor\":\"white\",\"linecolor\":\"white\",\"minorgridcolor\":\"white\",\"startlinecolor\":\"#2a3f5f\"},\"baxis\":{\"endlinecolor\":\"#2a3f5f\",\"gridcolor\":\"white\",\"linecolor\":\"white\",\"minorgridcolor\":\"white\",\"startlinecolor\":\"#2a3f5f\"},\"type\":\"carpet\"}],\"table\":[{\"cells\":{\"fill\":{\"color\":\"#EBF0F8\"},\"line\":{\"color\":\"white\"}},\"header\":{\"fill\":{\"color\":\"#C8D4E3\"},\"line\":{\"color\":\"white\"}},\"type\":\"table\"}],\"barpolar\":[{\"marker\":{\"line\":{\"color\":\"#E5ECF6\",\"width\":0.5},\"pattern\":{\"fillmode\":\"overlay\",\"size\":10,\"solidity\":0.2}},\"type\":\"barpolar\"}],\"pie\":[{\"automargin\":true,\"type\":\"pie\"}]},\"layout\":{\"autotypenumbers\":\"strict\",\"colorway\":[\"#636efa\",\"#EF553B\",\"#00cc96\",\"#ab63fa\",\"#FFA15A\",\"#19d3f3\",\"#FF6692\",\"#B6E880\",\"#FF97FF\",\"#FECB52\"],\"font\":{\"color\":\"#2a3f5f\"},\"hovermode\":\"closest\",\"hoverlabel\":{\"align\":\"left\"},\"paper_bgcolor\":\"white\",\"plot_bgcolor\":\"#E5ECF6\",\"polar\":{\"bgcolor\":\"#E5ECF6\",\"angularaxis\":{\"gridcolor\":\"white\",\"linecolor\":\"white\",\"ticks\":\"\"},\"radialaxis\":{\"gridcolor\":\"white\",\"linecolor\":\"white\",\"ticks\":\"\"}},\"ternary\":{\"bgcolor\":\"#E5ECF6\",\"aaxis\":{\"gridcolor\":\"white\",\"linecolor\":\"white\",\"ticks\":\"\"},\"baxis\":{\"gridcolor\":\"white\",\"linecolor\":\"white\",\"ticks\":\"\"},\"caxis\":{\"gridcolor\":\"white\",\"linecolor\":\"white\",\"ticks\":\"\"}},\"coloraxis\":{\"colorbar\":{\"outlinewidth\":0,\"ticks\":\"\"}},\"colorscale\":{\"sequential\":[[0.0,\"#0d0887\"],[0.1111111111111111,\"#46039f\"],[0.2222222222222222,\"#7201a8\"],[0.3333333333333333,\"#9c179e\"],[0.4444444444444444,\"#bd3786\"],[0.5555555555555556,\"#d8576b\"],[0.6666666666666666,\"#ed7953\"],[0.7777777777777778,\"#fb9f3a\"],[0.8888888888888888,\"#fdca26\"],[1.0,\"#f0f921\"]],\"sequentialminus\":[[0.0,\"#0d0887\"],[0.1111111111111111,\"#46039f\"],[0.2222222222222222,\"#7201a8\"],[0.3333333333333333,\"#9c179e\"],[0.4444444444444444,\"#bd3786\"],[0.5555555555555556,\"#d8576b\"],[0.6666666666666666,\"#ed7953\"],[0.7777777777777778,\"#fb9f3a\"],[0.8888888888888888,\"#fdca26\"],[1.0,\"#f0f921\"]],\"diverging\":[[0,\"#8e0152\"],[0.1,\"#c51b7d\"],[0.2,\"#de77ae\"],[0.3,\"#f1b6da\"],[0.4,\"#fde0ef\"],[0.5,\"#f7f7f7\"],[0.6,\"#e6f5d0\"],[0.7,\"#b8e186\"],[0.8,\"#7fbc41\"],[0.9,\"#4d9221\"],[1,\"#276419\"]]},\"xaxis\":{\"gridcolor\":\"white\",\"linecolor\":\"white\",\"ticks\":\"\",\"title\":{\"standoff\":15},\"zerolinecolor\":\"white\",\"automargin\":true,\"zerolinewidth\":2},\"yaxis\":{\"gridcolor\":\"white\",\"linecolor\":\"white\",\"ticks\":\"\",\"title\":{\"standoff\":15},\"zerolinecolor\":\"white\",\"automargin\":true,\"zerolinewidth\":2},\"scene\":{\"xaxis\":{\"backgroundcolor\":\"#E5ECF6\",\"gridcolor\":\"white\",\"linecolor\":\"white\",\"showbackground\":true,\"ticks\":\"\",\"zerolinecolor\":\"white\",\"gridwidth\":2},\"yaxis\":{\"backgroundcolor\":\"#E5ECF6\",\"gridcolor\":\"white\",\"linecolor\":\"white\",\"showbackground\":true,\"ticks\":\"\",\"zerolinecolor\":\"white\",\"gridwidth\":2},\"zaxis\":{\"backgroundcolor\":\"#E5ECF6\",\"gridcolor\":\"white\",\"linecolor\":\"white\",\"showbackground\":true,\"ticks\":\"\",\"zerolinecolor\":\"white\",\"gridwidth\":2}},\"shapedefaults\":{\"line\":{\"color\":\"#2a3f5f\"}},\"annotationdefaults\":{\"arrowcolor\":\"#2a3f5f\",\"arrowhead\":0,\"arrowwidth\":1},\"geo\":{\"bgcolor\":\"white\",\"landcolor\":\"#E5ECF6\",\"subunitcolor\":\"white\",\"showland\":true,\"showlakes\":true,\"lakecolor\":\"white\"},\"title\":{\"x\":0.05},\"mapbox\":{\"style\":\"light\"}}},\"xaxis\":{\"anchor\":\"y\",\"domain\":[0.0,1.0],\"title\":{\"text\":\"Product\"}},\"yaxis\":{\"anchor\":\"x\",\"domain\":[0.0,1.0],\"title\":{\"text\":\"Sales\"}},\"legend\":{\"tracegroupgap\":0},\"title\":{\"text\":\"Plotly Express Example\"},\"barmode\":\"relative\"},                        {\"responsive\": true}                    ).then(function(){\n",
       "                            \n",
       "var gd = document.getElementById('432b46da-7ea5-44c3-98db-78699a418dee');\n",
       "var x = new MutationObserver(function (mutations, observer) {{\n",
       "        var display = window.getComputedStyle(gd).display;\n",
       "        if (!display || display === 'none') {{\n",
       "            console.log([gd, 'removed!']);\n",
       "            Plotly.purge(gd);\n",
       "            observer.disconnect();\n",
       "        }}\n",
       "}});\n",
       "\n",
       "// Listen for the removal of the full notebook cells\n",
       "var notebookContainer = gd.closest('#notebook-container');\n",
       "if (notebookContainer) {{\n",
       "    x.observe(notebookContainer, {childList: true});\n",
       "}}\n",
       "\n",
       "// Listen for the clearing of the current output cell\n",
       "var outputEl = gd.closest('.output');\n",
       "if (outputEl) {{\n",
       "    x.observe(outputEl, {childList: true});\n",
       "}}\n",
       "\n",
       "                        })                };                });            </script>        </div>"
      ]
     },
     "metadata": {},
     "output_type": "display_data"
    }
   ],
   "source": [
    "df = pd.DataFrame({'Product':['A','B','C'],'Sales':[10,15,9]})\n",
    "figb2 = px.bar(df, x='Product', y='Sales', title='Plotly Express Example')\n",
    "figb2.show()"
   ]
  },
  {
   "cell_type": "markdown",
   "id": "f3767dae-facf-420c-84f4-71fb534f3d33",
   "metadata": {},
   "source": [
    "### Scatter plot using plotly.graph_objects."
   ]
  },
  {
   "cell_type": "code",
   "execution_count": 18,
   "id": "49300def-b069-4519-baa5-78afe68c47c8",
   "metadata": {},
   "outputs": [
    {
     "data": {
      "application/vnd.plotly.v1+json": {
       "config": {
        "plotlyServerURL": "https://plot.ly"
       },
       "data": [
        {
         "line": {
          "color": "royalblue"
         },
         "marker": {
          "color": "royalblue",
          "size": 8
         },
         "mode": "lines+markers",
         "name": "Sample",
         "type": "scatter",
         "x": [
          0,
          6,
          10,
          12
         ],
         "y": [
          5,
          15,
          20,
          21
         ]
        }
       ],
       "layout": {
        "autosize": true,
        "template": {
         "data": {
          "bar": [
           {
            "error_x": {
             "color": "#2a3f5f"
            },
            "error_y": {
             "color": "#2a3f5f"
            },
            "marker": {
             "line": {
              "color": "#E5ECF6",
              "width": 0.5
             },
             "pattern": {
              "fillmode": "overlay",
              "size": 10,
              "solidity": 0.2
             }
            },
            "type": "bar"
           }
          ],
          "barpolar": [
           {
            "marker": {
             "line": {
              "color": "#E5ECF6",
              "width": 0.5
             },
             "pattern": {
              "fillmode": "overlay",
              "size": 10,
              "solidity": 0.2
             }
            },
            "type": "barpolar"
           }
          ],
          "carpet": [
           {
            "aaxis": {
             "endlinecolor": "#2a3f5f",
             "gridcolor": "white",
             "linecolor": "white",
             "minorgridcolor": "white",
             "startlinecolor": "#2a3f5f"
            },
            "baxis": {
             "endlinecolor": "#2a3f5f",
             "gridcolor": "white",
             "linecolor": "white",
             "minorgridcolor": "white",
             "startlinecolor": "#2a3f5f"
            },
            "type": "carpet"
           }
          ],
          "choropleth": [
           {
            "colorbar": {
             "outlinewidth": 0,
             "ticks": ""
            },
            "type": "choropleth"
           }
          ],
          "contour": [
           {
            "colorbar": {
             "outlinewidth": 0,
             "ticks": ""
            },
            "colorscale": [
             [
              0,
              "#0d0887"
             ],
             [
              0.1111111111111111,
              "#46039f"
             ],
             [
              0.2222222222222222,
              "#7201a8"
             ],
             [
              0.3333333333333333,
              "#9c179e"
             ],
             [
              0.4444444444444444,
              "#bd3786"
             ],
             [
              0.5555555555555556,
              "#d8576b"
             ],
             [
              0.6666666666666666,
              "#ed7953"
             ],
             [
              0.7777777777777778,
              "#fb9f3a"
             ],
             [
              0.8888888888888888,
              "#fdca26"
             ],
             [
              1,
              "#f0f921"
             ]
            ],
            "type": "contour"
           }
          ],
          "contourcarpet": [
           {
            "colorbar": {
             "outlinewidth": 0,
             "ticks": ""
            },
            "type": "contourcarpet"
           }
          ],
          "heatmap": [
           {
            "colorbar": {
             "outlinewidth": 0,
             "ticks": ""
            },
            "colorscale": [
             [
              0,
              "#0d0887"
             ],
             [
              0.1111111111111111,
              "#46039f"
             ],
             [
              0.2222222222222222,
              "#7201a8"
             ],
             [
              0.3333333333333333,
              "#9c179e"
             ],
             [
              0.4444444444444444,
              "#bd3786"
             ],
             [
              0.5555555555555556,
              "#d8576b"
             ],
             [
              0.6666666666666666,
              "#ed7953"
             ],
             [
              0.7777777777777778,
              "#fb9f3a"
             ],
             [
              0.8888888888888888,
              "#fdca26"
             ],
             [
              1,
              "#f0f921"
             ]
            ],
            "type": "heatmap"
           }
          ],
          "heatmapgl": [
           {
            "colorbar": {
             "outlinewidth": 0,
             "ticks": ""
            },
            "colorscale": [
             [
              0,
              "#0d0887"
             ],
             [
              0.1111111111111111,
              "#46039f"
             ],
             [
              0.2222222222222222,
              "#7201a8"
             ],
             [
              0.3333333333333333,
              "#9c179e"
             ],
             [
              0.4444444444444444,
              "#bd3786"
             ],
             [
              0.5555555555555556,
              "#d8576b"
             ],
             [
              0.6666666666666666,
              "#ed7953"
             ],
             [
              0.7777777777777778,
              "#fb9f3a"
             ],
             [
              0.8888888888888888,
              "#fdca26"
             ],
             [
              1,
              "#f0f921"
             ]
            ],
            "type": "heatmapgl"
           }
          ],
          "histogram": [
           {
            "marker": {
             "pattern": {
              "fillmode": "overlay",
              "size": 10,
              "solidity": 0.2
             }
            },
            "type": "histogram"
           }
          ],
          "histogram2d": [
           {
            "colorbar": {
             "outlinewidth": 0,
             "ticks": ""
            },
            "colorscale": [
             [
              0,
              "#0d0887"
             ],
             [
              0.1111111111111111,
              "#46039f"
             ],
             [
              0.2222222222222222,
              "#7201a8"
             ],
             [
              0.3333333333333333,
              "#9c179e"
             ],
             [
              0.4444444444444444,
              "#bd3786"
             ],
             [
              0.5555555555555556,
              "#d8576b"
             ],
             [
              0.6666666666666666,
              "#ed7953"
             ],
             [
              0.7777777777777778,
              "#fb9f3a"
             ],
             [
              0.8888888888888888,
              "#fdca26"
             ],
             [
              1,
              "#f0f921"
             ]
            ],
            "type": "histogram2d"
           }
          ],
          "histogram2dcontour": [
           {
            "colorbar": {
             "outlinewidth": 0,
             "ticks": ""
            },
            "colorscale": [
             [
              0,
              "#0d0887"
             ],
             [
              0.1111111111111111,
              "#46039f"
             ],
             [
              0.2222222222222222,
              "#7201a8"
             ],
             [
              0.3333333333333333,
              "#9c179e"
             ],
             [
              0.4444444444444444,
              "#bd3786"
             ],
             [
              0.5555555555555556,
              "#d8576b"
             ],
             [
              0.6666666666666666,
              "#ed7953"
             ],
             [
              0.7777777777777778,
              "#fb9f3a"
             ],
             [
              0.8888888888888888,
              "#fdca26"
             ],
             [
              1,
              "#f0f921"
             ]
            ],
            "type": "histogram2dcontour"
           }
          ],
          "mesh3d": [
           {
            "colorbar": {
             "outlinewidth": 0,
             "ticks": ""
            },
            "type": "mesh3d"
           }
          ],
          "parcoords": [
           {
            "line": {
             "colorbar": {
              "outlinewidth": 0,
              "ticks": ""
             }
            },
            "type": "parcoords"
           }
          ],
          "pie": [
           {
            "automargin": true,
            "type": "pie"
           }
          ],
          "scatter": [
           {
            "fillpattern": {
             "fillmode": "overlay",
             "size": 10,
             "solidity": 0.2
            },
            "type": "scatter"
           }
          ],
          "scatter3d": [
           {
            "line": {
             "colorbar": {
              "outlinewidth": 0,
              "ticks": ""
             }
            },
            "marker": {
             "colorbar": {
              "outlinewidth": 0,
              "ticks": ""
             }
            },
            "type": "scatter3d"
           }
          ],
          "scattercarpet": [
           {
            "marker": {
             "colorbar": {
              "outlinewidth": 0,
              "ticks": ""
             }
            },
            "type": "scattercarpet"
           }
          ],
          "scattergeo": [
           {
            "marker": {
             "colorbar": {
              "outlinewidth": 0,
              "ticks": ""
             }
            },
            "type": "scattergeo"
           }
          ],
          "scattergl": [
           {
            "marker": {
             "colorbar": {
              "outlinewidth": 0,
              "ticks": ""
             }
            },
            "type": "scattergl"
           }
          ],
          "scattermapbox": [
           {
            "marker": {
             "colorbar": {
              "outlinewidth": 0,
              "ticks": ""
             }
            },
            "type": "scattermapbox"
           }
          ],
          "scatterpolar": [
           {
            "marker": {
             "colorbar": {
              "outlinewidth": 0,
              "ticks": ""
             }
            },
            "type": "scatterpolar"
           }
          ],
          "scatterpolargl": [
           {
            "marker": {
             "colorbar": {
              "outlinewidth": 0,
              "ticks": ""
             }
            },
            "type": "scatterpolargl"
           }
          ],
          "scatterternary": [
           {
            "marker": {
             "colorbar": {
              "outlinewidth": 0,
              "ticks": ""
             }
            },
            "type": "scatterternary"
           }
          ],
          "surface": [
           {
            "colorbar": {
             "outlinewidth": 0,
             "ticks": ""
            },
            "colorscale": [
             [
              0,
              "#0d0887"
             ],
             [
              0.1111111111111111,
              "#46039f"
             ],
             [
              0.2222222222222222,
              "#7201a8"
             ],
             [
              0.3333333333333333,
              "#9c179e"
             ],
             [
              0.4444444444444444,
              "#bd3786"
             ],
             [
              0.5555555555555556,
              "#d8576b"
             ],
             [
              0.6666666666666666,
              "#ed7953"
             ],
             [
              0.7777777777777778,
              "#fb9f3a"
             ],
             [
              0.8888888888888888,
              "#fdca26"
             ],
             [
              1,
              "#f0f921"
             ]
            ],
            "type": "surface"
           }
          ],
          "table": [
           {
            "cells": {
             "fill": {
              "color": "#EBF0F8"
             },
             "line": {
              "color": "white"
             }
            },
            "header": {
             "fill": {
              "color": "#C8D4E3"
             },
             "line": {
              "color": "white"
             }
            },
            "type": "table"
           }
          ]
         },
         "layout": {
          "annotationdefaults": {
           "arrowcolor": "#2a3f5f",
           "arrowhead": 0,
           "arrowwidth": 1
          },
          "autotypenumbers": "strict",
          "coloraxis": {
           "colorbar": {
            "outlinewidth": 0,
            "ticks": ""
           }
          },
          "colorscale": {
           "diverging": [
            [
             0,
             "#8e0152"
            ],
            [
             0.1,
             "#c51b7d"
            ],
            [
             0.2,
             "#de77ae"
            ],
            [
             0.3,
             "#f1b6da"
            ],
            [
             0.4,
             "#fde0ef"
            ],
            [
             0.5,
             "#f7f7f7"
            ],
            [
             0.6,
             "#e6f5d0"
            ],
            [
             0.7,
             "#b8e186"
            ],
            [
             0.8,
             "#7fbc41"
            ],
            [
             0.9,
             "#4d9221"
            ],
            [
             1,
             "#276419"
            ]
           ],
           "sequential": [
            [
             0,
             "#0d0887"
            ],
            [
             0.1111111111111111,
             "#46039f"
            ],
            [
             0.2222222222222222,
             "#7201a8"
            ],
            [
             0.3333333333333333,
             "#9c179e"
            ],
            [
             0.4444444444444444,
             "#bd3786"
            ],
            [
             0.5555555555555556,
             "#d8576b"
            ],
            [
             0.6666666666666666,
             "#ed7953"
            ],
            [
             0.7777777777777778,
             "#fb9f3a"
            ],
            [
             0.8888888888888888,
             "#fdca26"
            ],
            [
             1,
             "#f0f921"
            ]
           ],
           "sequentialminus": [
            [
             0,
             "#0d0887"
            ],
            [
             0.1111111111111111,
             "#46039f"
            ],
            [
             0.2222222222222222,
             "#7201a8"
            ],
            [
             0.3333333333333333,
             "#9c179e"
            ],
            [
             0.4444444444444444,
             "#bd3786"
            ],
            [
             0.5555555555555556,
             "#d8576b"
            ],
            [
             0.6666666666666666,
             "#ed7953"
            ],
            [
             0.7777777777777778,
             "#fb9f3a"
            ],
            [
             0.8888888888888888,
             "#fdca26"
            ],
            [
             1,
             "#f0f921"
            ]
           ]
          },
          "colorway": [
           "#636efa",
           "#EF553B",
           "#00cc96",
           "#ab63fa",
           "#FFA15A",
           "#19d3f3",
           "#FF6692",
           "#B6E880",
           "#FF97FF",
           "#FECB52"
          ],
          "font": {
           "color": "#2a3f5f"
          },
          "geo": {
           "bgcolor": "white",
           "lakecolor": "white",
           "landcolor": "#E5ECF6",
           "showlakes": true,
           "showland": true,
           "subunitcolor": "white"
          },
          "hoverlabel": {
           "align": "left"
          },
          "hovermode": "closest",
          "mapbox": {
           "style": "light"
          },
          "paper_bgcolor": "white",
          "plot_bgcolor": "#E5ECF6",
          "polar": {
           "angularaxis": {
            "gridcolor": "white",
            "linecolor": "white",
            "ticks": ""
           },
           "bgcolor": "#E5ECF6",
           "radialaxis": {
            "gridcolor": "white",
            "linecolor": "white",
            "ticks": ""
           }
          },
          "scene": {
           "xaxis": {
            "backgroundcolor": "#E5ECF6",
            "gridcolor": "white",
            "gridwidth": 2,
            "linecolor": "white",
            "showbackground": true,
            "ticks": "",
            "zerolinecolor": "white"
           },
           "yaxis": {
            "backgroundcolor": "#E5ECF6",
            "gridcolor": "white",
            "gridwidth": 2,
            "linecolor": "white",
            "showbackground": true,
            "ticks": "",
            "zerolinecolor": "white"
           },
           "zaxis": {
            "backgroundcolor": "#E5ECF6",
            "gridcolor": "white",
            "gridwidth": 2,
            "linecolor": "white",
            "showbackground": true,
            "ticks": "",
            "zerolinecolor": "white"
           }
          },
          "shapedefaults": {
           "line": {
            "color": "#2a3f5f"
           }
          },
          "ternary": {
           "aaxis": {
            "gridcolor": "white",
            "linecolor": "white",
            "ticks": ""
           },
           "baxis": {
            "gridcolor": "white",
            "linecolor": "white",
            "ticks": ""
           },
           "bgcolor": "#E5ECF6",
           "caxis": {
            "gridcolor": "white",
            "linecolor": "white",
            "ticks": ""
           }
          },
          "title": {
           "x": 0.05
          },
          "xaxis": {
           "automargin": true,
           "gridcolor": "white",
           "linecolor": "white",
           "ticks": "",
           "title": {
            "standoff": 15
           },
           "zerolinecolor": "white",
           "zerolinewidth": 2
          },
          "yaxis": {
           "automargin": true,
           "gridcolor": "white",
           "linecolor": "white",
           "ticks": "",
           "title": {
            "standoff": 15
           },
           "zerolinecolor": "white",
           "zerolinewidth": 2
          }
         }
        },
        "title": {
         "text": "Basic Scatter Plot using plotly.graph_objects"
        },
        "xaxis": {
         "autorange": true,
         "range": [
          -0.7448955644214973,
          12.744895564421498
         ],
         "title": {
          "text": "X values"
         },
         "type": "linear"
        },
        "yaxis": {
         "autorange": true,
         "range": [
          3.526315789473684,
          22.473684210526315
         ],
         "title": {
          "text": "Y value"
         },
         "type": "linear"
        }
       }
      },
      "image/png": "[encoded data removed]",
      "text/html": [
       "<div>                            <div id=\"10dd4e15-378a-4f6c-a8dc-cb3578860fb6\" class=\"plotly-graph-div\" style=\"height:525px; width:100%;\"></div>            <script type=\"text/javascript\">                require([\"plotly\"], function(Plotly) {                    window.PLOTLYENV=window.PLOTLYENV || {};                                    if (document.getElementById(\"10dd4e15-378a-4f6c-a8dc-cb3578860fb6\")) {                    Plotly.newPlot(                        \"10dd4e15-378a-4f6c-a8dc-cb3578860fb6\",                        [{\"line\":{\"color\":\"royalblue\"},\"marker\":{\"color\":\"royalblue\",\"size\":8},\"mode\":\"lines+markers\",\"name\":\"Sample\",\"x\":[0,6,10,12],\"y\":[5,15,20,21],\"type\":\"scatter\"}],                        {\"template\":{\"data\":{\"histogram2dcontour\":[{\"type\":\"histogram2dcontour\",\"colorbar\":{\"outlinewidth\":0,\"ticks\":\"\"},\"colorscale\":[[0.0,\"#0d0887\"],[0.1111111111111111,\"#46039f\"],[0.2222222222222222,\"#7201a8\"],[0.3333333333333333,\"#9c179e\"],[0.4444444444444444,\"#bd3786\"],[0.5555555555555556,\"#d8576b\"],[0.6666666666666666,\"#ed7953\"],[0.7777777777777778,\"#fb9f3a\"],[0.8888888888888888,\"#fdca26\"],[1.0,\"#f0f921\"]]}],\"choropleth\":[{\"type\":\"choropleth\",\"colorbar\":{\"outlinewidth\":0,\"ticks\":\"\"}}],\"histogram2d\":[{\"type\":\"histogram2d\",\"colorbar\":{\"outlinewidth\":0,\"ticks\":\"\"},\"colorscale\":[[0.0,\"#0d0887\"],[0.1111111111111111,\"#46039f\"],[0.2222222222222222,\"#7201a8\"],[0.3333333333333333,\"#9c179e\"],[0.4444444444444444,\"#bd3786\"],[0.5555555555555556,\"#d8576b\"],[0.6666666666666666,\"#ed7953\"],[0.7777777777777778,\"#fb9f3a\"],[0.8888888888888888,\"#fdca26\"],[1.0,\"#f0f921\"]]}],\"heatmap\":[{\"type\":\"heatmap\",\"colorbar\":{\"outlinewidth\":0,\"ticks\":\"\"},\"colorscale\":[[0.0,\"#0d0887\"],[0.1111111111111111,\"#46039f\"],[0.2222222222222222,\"#7201a8\"],[0.3333333333333333,\"#9c179e\"],[0.4444444444444444,\"#bd3786\"],[0.5555555555555556,\"#d8576b\"],[0.6666666666666666,\"#ed7953\"],[0.7777777777777778,\"#fb9f3a\"],[0.8888888888888888,\"#fdca26\"],[1.0,\"#f0f921\"]]}],\"heatmapgl\":[{\"type\":\"heatmapgl\",\"colorbar\":{\"outlinewidth\":0,\"ticks\":\"\"},\"colorscale\":[[0.0,\"#0d0887\"],[0.1111111111111111,\"#46039f\"],[0.2222222222222222,\"#7201a8\"],[0.3333333333333333,\"#9c179e\"],[0.4444444444444444,\"#bd3786\"],[0.5555555555555556,\"#d8576b\"],[0.6666666666666666,\"#ed7953\"],[0.7777777777777778,\"#fb9f3a\"],[0.8888888888888888,\"#fdca26\"],[1.0,\"#f0f921\"]]}],\"contourcarpet\":[{\"type\":\"contourcarpet\",\"colorbar\":{\"outlinewidth\":0,\"ticks\":\"\"}}],\"contour\":[{\"type\":\"contour\",\"colorbar\":{\"outlinewidth\":0,\"ticks\":\"\"},\"colorscale\":[[0.0,\"#0d0887\"],[0.1111111111111111,\"#46039f\"],[0.2222222222222222,\"#7201a8\"],[0.3333333333333333,\"#9c179e\"],[0.4444444444444444,\"#bd3786\"],[0.5555555555555556,\"#d8576b\"],[0.6666666666666666,\"#ed7953\"],[0.7777777777777778,\"#fb9f3a\"],[0.8888888888888888,\"#fdca26\"],[1.0,\"#f0f921\"]]}],\"surface\":[{\"type\":\"surface\",\"colorbar\":{\"outlinewidth\":0,\"ticks\":\"\"},\"colorscale\":[[0.0,\"#0d0887\"],[0.1111111111111111,\"#46039f\"],[0.2222222222222222,\"#7201a8\"],[0.3333333333333333,\"#9c179e\"],[0.4444444444444444,\"#bd3786\"],[0.5555555555555556,\"#d8576b\"],[0.6666666666666666,\"#ed7953\"],[0.7777777777777778,\"#fb9f3a\"],[0.8888888888888888,\"#fdca26\"],[1.0,\"#f0f921\"]]}],\"mesh3d\":[{\"type\":\"mesh3d\",\"colorbar\":{\"outlinewidth\":0,\"ticks\":\"\"}}],\"scatter\":[{\"fillpattern\":{\"fillmode\":\"overlay\",\"size\":10,\"solidity\":0.2},\"type\":\"scatter\"}],\"parcoords\":[{\"type\":\"parcoords\",\"line\":{\"colorbar\":{\"outlinewidth\":0,\"ticks\":\"\"}}}],\"scatterpolargl\":[{\"type\":\"scatterpolargl\",\"marker\":{\"colorbar\":{\"outlinewidth\":0,\"ticks\":\"\"}}}],\"bar\":[{\"error_x\":{\"color\":\"#2a3f5f\"},\"error_y\":{\"color\":\"#2a3f5f\"},\"marker\":{\"line\":{\"color\":\"#E5ECF6\",\"width\":0.5},\"pattern\":{\"fillmode\":\"overlay\",\"size\":10,\"solidity\":0.2}},\"type\":\"bar\"}],\"scattergeo\":[{\"type\":\"scattergeo\",\"marker\":{\"colorbar\":{\"outlinewidth\":0,\"ticks\":\"\"}}}],\"scatterpolar\":[{\"type\":\"scatterpolar\",\"marker\":{\"colorbar\":{\"outlinewidth\":0,\"ticks\":\"\"}}}],\"histogram\":[{\"marker\":{\"pattern\":{\"fillmode\":\"overlay\",\"size\":10,\"solidity\":0.2}},\"type\":\"histogram\"}],\"scattergl\":[{\"type\":\"scattergl\",\"marker\":{\"colorbar\":{\"outlinewidth\":0,\"ticks\":\"\"}}}],\"scatter3d\":[{\"type\":\"scatter3d\",\"line\":{\"colorbar\":{\"outlinewidth\":0,\"ticks\":\"\"}},\"marker\":{\"colorbar\":{\"outlinewidth\":0,\"ticks\":\"\"}}}],\"scattermapbox\":[{\"type\":\"scattermapbox\",\"marker\":{\"colorbar\":{\"outlinewidth\":0,\"ticks\":\"\"}}}],\"scatterternary\":[{\"type\":\"scatterternary\",\"marker\":{\"colorbar\":{\"outlinewidth\":0,\"ticks\":\"\"}}}],\"scattercarpet\":[{\"type\":\"scattercarpet\",\"marker\":{\"colorbar\":{\"outlinewidth\":0,\"ticks\":\"\"}}}],\"carpet\":[{\"aaxis\":{\"endlinecolor\":\"#2a3f5f\",\"gridcolor\":\"white\",\"linecolor\":\"white\",\"minorgridcolor\":\"white\",\"startlinecolor\":\"#2a3f5f\"},\"baxis\":{\"endlinecolor\":\"#2a3f5f\",\"gridcolor\":\"white\",\"linecolor\":\"white\",\"minorgridcolor\":\"white\",\"startlinecolor\":\"#2a3f5f\"},\"type\":\"carpet\"}],\"table\":[{\"cells\":{\"fill\":{\"color\":\"#EBF0F8\"},\"line\":{\"color\":\"white\"}},\"header\":{\"fill\":{\"color\":\"#C8D4E3\"},\"line\":{\"color\":\"white\"}},\"type\":\"table\"}],\"barpolar\":[{\"marker\":{\"line\":{\"color\":\"#E5ECF6\",\"width\":0.5},\"pattern\":{\"fillmode\":\"overlay\",\"size\":10,\"solidity\":0.2}},\"type\":\"barpolar\"}],\"pie\":[{\"automargin\":true,\"type\":\"pie\"}]},\"layout\":{\"autotypenumbers\":\"strict\",\"colorway\":[\"#636efa\",\"#EF553B\",\"#00cc96\",\"#ab63fa\",\"#FFA15A\",\"#19d3f3\",\"#FF6692\",\"#B6E880\",\"#FF97FF\",\"#FECB52\"],\"font\":{\"color\":\"#2a3f5f\"},\"hovermode\":\"closest\",\"hoverlabel\":{\"align\":\"left\"},\"paper_bgcolor\":\"white\",\"plot_bgcolor\":\"#E5ECF6\",\"polar\":{\"bgcolor\":\"#E5ECF6\",\"angularaxis\":{\"gridcolor\":\"white\",\"linecolor\":\"white\",\"ticks\":\"\"},\"radialaxis\":{\"gridcolor\":\"white\",\"linecolor\":\"white\",\"ticks\":\"\"}},\"ternary\":{\"bgcolor\":\"#E5ECF6\",\"aaxis\":{\"gridcolor\":\"white\",\"linecolor\":\"white\",\"ticks\":\"\"},\"baxis\":{\"gridcolor\":\"white\",\"linecolor\":\"white\",\"ticks\":\"\"},\"caxis\":{\"gridcolor\":\"white\",\"linecolor\":\"white\",\"ticks\":\"\"}},\"coloraxis\":{\"colorbar\":{\"outlinewidth\":0,\"ticks\":\"\"}},\"colorscale\":{\"sequential\":[[0.0,\"#0d0887\"],[0.1111111111111111,\"#46039f\"],[0.2222222222222222,\"#7201a8\"],[0.3333333333333333,\"#9c179e\"],[0.4444444444444444,\"#bd3786\"],[0.5555555555555556,\"#d8576b\"],[0.6666666666666666,\"#ed7953\"],[0.7777777777777778,\"#fb9f3a\"],[0.8888888888888888,\"#fdca26\"],[1.0,\"#f0f921\"]],\"sequentialminus\":[[0.0,\"#0d0887\"],[0.1111111111111111,\"#46039f\"],[0.2222222222222222,\"#7201a8\"],[0.3333333333333333,\"#9c179e\"],[0.4444444444444444,\"#bd3786\"],[0.5555555555555556,\"#d8576b\"],[0.6666666666666666,\"#ed7953\"],[0.7777777777777778,\"#fb9f3a\"],[0.8888888888888888,\"#fdca26\"],[1.0,\"#f0f921\"]],\"diverging\":[[0,\"#8e0152\"],[0.1,\"#c51b7d\"],[0.2,\"#de77ae\"],[0.3,\"#f1b6da\"],[0.4,\"#fde0ef\"],[0.5,\"#f7f7f7\"],[0.6,\"#e6f5d0\"],[0.7,\"#b8e186\"],[0.8,\"#7fbc41\"],[0.9,\"#4d9221\"],[1,\"#276419\"]]},\"xaxis\":{\"gridcolor\":\"white\",\"linecolor\":\"white\",\"ticks\":\"\",\"title\":{\"standoff\":15},\"zerolinecolor\":\"white\",\"automargin\":true,\"zerolinewidth\":2},\"yaxis\":{\"gridcolor\":\"white\",\"linecolor\":\"white\",\"ticks\":\"\",\"title\":{\"standoff\":15},\"zerolinecolor\":\"white\",\"automargin\":true,\"zerolinewidth\":2},\"scene\":{\"xaxis\":{\"backgroundcolor\":\"#E5ECF6\",\"gridcolor\":\"white\",\"linecolor\":\"white\",\"showbackground\":true,\"ticks\":\"\",\"zerolinecolor\":\"white\",\"gridwidth\":2},\"yaxis\":{\"backgroundcolor\":\"#E5ECF6\",\"gridcolor\":\"white\",\"linecolor\":\"white\",\"showbackground\":true,\"ticks\":\"\",\"zerolinecolor\":\"white\",\"gridwidth\":2},\"zaxis\":{\"backgroundcolor\":\"#E5ECF6\",\"gridcolor\":\"white\",\"linecolor\":\"white\",\"showbackground\":true,\"ticks\":\"\",\"zerolinecolor\":\"white\",\"gridwidth\":2}},\"shapedefaults\":{\"line\":{\"color\":\"#2a3f5f\"}},\"annotationdefaults\":{\"arrowcolor\":\"#2a3f5f\",\"arrowhead\":0,\"arrowwidth\":1},\"geo\":{\"bgcolor\":\"white\",\"landcolor\":\"#E5ECF6\",\"subunitcolor\":\"white\",\"showland\":true,\"showlakes\":true,\"lakecolor\":\"white\"},\"title\":{\"x\":0.05},\"mapbox\":{\"style\":\"light\"}}},\"title\":{\"text\":\"Basic Scatter Plot using plotly.graph_objects\"},\"xaxis\":{\"title\":{\"text\":\"X values\"}},\"yaxis\":{\"title\":{\"text\":\"Y value\"}}},                        {\"responsive\": true}                    ).then(function(){\n",
       "                            \n",
       "var gd = document.getElementById('10dd4e15-378a-4f6c-a8dc-cb3578860fb6');\n",
       "var x = new MutationObserver(function (mutations, observer) {{\n",
       "        var display = window.getComputedStyle(gd).display;\n",
       "        if (!display || display === 'none') {{\n",
       "            console.log([gd, 'removed!']);\n",
       "            Plotly.purge(gd);\n",
       "            observer.disconnect();\n",
       "        }}\n",
       "}});\n",
       "\n",
       "// Listen for the removal of the full notebook cells\n",
       "var notebookContainer = gd.closest('#notebook-container');\n",
       "if (notebookContainer) {{\n",
       "    x.observe(notebookContainer, {childList: true});\n",
       "}}\n",
       "\n",
       "// Listen for the clearing of the current output cell\n",
       "var outputEl = gd.closest('.output');\n",
       "if (outputEl) {{\n",
       "    x.observe(outputEl, {childList: true});\n",
       "}}\n",
       "\n",
       "                        })                };                });            </script>        </div>"
      ]
     },
     "metadata": {},
     "output_type": "display_data"
    }
   ],
   "source": [
    "figs = go.Figure()\n",
    "figs.add_trace(go.Scatter(x=[0, 6, 10, 12], y=[5, 15, 20, 21],mode='lines+markers', marker=dict(size=8, color='royalblue'), \n",
    "                line=dict(color='royalblue'),\n",
    "                name='Sample'))\n",
    "figs.update_layout(title='Basic Scatter Plot using plotly.graph_objects',xaxis_title='X values',yaxis_title='Y value')\n",
    "figs.show()"
   ]
  },
  {
   "cell_type": "markdown",
   "id": "f9268399-9c9c-4720-96f1-15a8923cd893",
   "metadata": {},
   "source": [
    "### Scatter plot using plotly.express."
   ]
  },
  {
   "cell_type": "code",
   "execution_count": 16,
   "id": "edd08606-a6eb-4a06-85ee-3a7831f7600c",
   "metadata": {},
   "outputs": [
    {
     "data": {
      "application/vnd.plotly.v1+json": {
       "config": {
        "plotlyServerURL": "https://plot.ly"
       },
       "data": [
        {
         "hovertemplate": "X values=%{x}<br>Y values=%{y}<extra></extra>",
         "legendgroup": "",
         "line": {
          "color": "royalblue",
          "width": 2
         },
         "marker": {
          "color": "royalblue",
          "symbol": "circle"
         },
         "mode": "lines+markers",
         "name": "",
         "orientation": "v",
         "showlegend": false,
         "type": "scatter",
         "x": [
          0,
          6,
          10,
          12
         ],
         "xaxis": "x",
         "y": [
          5,
          15,
          20,
          21
         ],
         "yaxis": "y"
        }
       ],
       "layout": {
        "height": 360,
        "legend": {
         "tracegroupgap": 0
        },
        "template": {
         "data": {
          "bar": [
           {
            "error_x": {
             "color": "#2a3f5f"
            },
            "error_y": {
             "color": "#2a3f5f"
            },
            "marker": {
             "line": {
              "color": "#E5ECF6",
              "width": 0.5
             },
             "pattern": {
              "fillmode": "overlay",
              "size": 10,
              "solidity": 0.2
             }
            },
            "type": "bar"
           }
          ],
          "barpolar": [
           {
            "marker": {
             "line": {
              "color": "#E5ECF6",
              "width": 0.5
             },
             "pattern": {
              "fillmode": "overlay",
              "size": 10,
              "solidity": 0.2
             }
            },
            "type": "barpolar"
           }
          ],
          "carpet": [
           {
            "aaxis": {
             "endlinecolor": "#2a3f5f",
             "gridcolor": "white",
             "linecolor": "white",
             "minorgridcolor": "white",
             "startlinecolor": "#2a3f5f"
            },
            "baxis": {
             "endlinecolor": "#2a3f5f",
             "gridcolor": "white",
             "linecolor": "white",
             "minorgridcolor": "white",
             "startlinecolor": "#2a3f5f"
            },
            "type": "carpet"
           }
          ],
          "choropleth": [
           {
            "colorbar": {
             "outlinewidth": 0,
             "ticks": ""
            },
            "type": "choropleth"
           }
          ],
          "contour": [
           {
            "colorbar": {
             "outlinewidth": 0,
             "ticks": ""
            },
            "colorscale": [
             [
              0,
              "#0d0887"
             ],
             [
              0.1111111111111111,
              "#46039f"
             ],
             [
              0.2222222222222222,
              "#7201a8"
             ],
             [
              0.3333333333333333,
              "#9c179e"
             ],
             [
              0.4444444444444444,
              "#bd3786"
             ],
             [
              0.5555555555555556,
              "#d8576b"
             ],
             [
              0.6666666666666666,
              "#ed7953"
             ],
             [
              0.7777777777777778,
              "#fb9f3a"
             ],
             [
              0.8888888888888888,
              "#fdca26"
             ],
             [
              1,
              "#f0f921"
             ]
            ],
            "type": "contour"
           }
          ],
          "contourcarpet": [
           {
            "colorbar": {
             "outlinewidth": 0,
             "ticks": ""
            },
            "type": "contourcarpet"
           }
          ],
          "heatmap": [
           {
            "colorbar": {
             "outlinewidth": 0,
             "ticks": ""
            },
            "colorscale": [
             [
              0,
              "#0d0887"
             ],
             [
              0.1111111111111111,
              "#46039f"
             ],
             [
              0.2222222222222222,
              "#7201a8"
             ],
             [
              0.3333333333333333,
              "#9c179e"
             ],
             [
              0.4444444444444444,
              "#bd3786"
             ],
             [
              0.5555555555555556,
              "#d8576b"
             ],
             [
              0.6666666666666666,
              "#ed7953"
             ],
             [
              0.7777777777777778,
              "#fb9f3a"
             ],
             [
              0.8888888888888888,
              "#fdca26"
             ],
             [
              1,
              "#f0f921"
             ]
            ],
            "type": "heatmap"
           }
          ],
          "heatmapgl": [
           {
            "colorbar": {
             "outlinewidth": 0,
             "ticks": ""
            },
            "colorscale": [
             [
              0,
              "#0d0887"
             ],
             [
              0.1111111111111111,
              "#46039f"
             ],
             [
              0.2222222222222222,
              "#7201a8"
             ],
             [
              0.3333333333333333,
              "#9c179e"
             ],
             [
              0.4444444444444444,
              "#bd3786"
             ],
             [
              0.5555555555555556,
              "#d8576b"
             ],
             [
              0.6666666666666666,
              "#ed7953"
             ],
             [
              0.7777777777777778,
              "#fb9f3a"
             ],
             [
              0.8888888888888888,
              "#fdca26"
             ],
             [
              1,
              "#f0f921"
             ]
            ],
            "type": "heatmapgl"
           }
          ],
          "histogram": [
           {
            "marker": {
             "pattern": {
              "fillmode": "overlay",
              "size": 10,
              "solidity": 0.2
             }
            },
            "type": "histogram"
           }
          ],
          "histogram2d": [
           {
            "colorbar": {
             "outlinewidth": 0,
             "ticks": ""
            },
            "colorscale": [
             [
              0,
              "#0d0887"
             ],
             [
              0.1111111111111111,
              "#46039f"
             ],
             [
              0.2222222222222222,
              "#7201a8"
             ],
             [
              0.3333333333333333,
              "#9c179e"
             ],
             [
              0.4444444444444444,
              "#bd3786"
             ],
             [
              0.5555555555555556,
              "#d8576b"
             ],
             [
              0.6666666666666666,
              "#ed7953"
             ],
             [
              0.7777777777777778,
              "#fb9f3a"
             ],
             [
              0.8888888888888888,
              "#fdca26"
             ],
             [
              1,
              "#f0f921"
             ]
            ],
            "type": "histogram2d"
           }
          ],
          "histogram2dcontour": [
           {
            "colorbar": {
             "outlinewidth": 0,
             "ticks": ""
            },
            "colorscale": [
             [
              0,
              "#0d0887"
             ],
             [
              0.1111111111111111,
              "#46039f"
             ],
             [
              0.2222222222222222,
              "#7201a8"
             ],
             [
              0.3333333333333333,
              "#9c179e"
             ],
             [
              0.4444444444444444,
              "#bd3786"
             ],
             [
              0.5555555555555556,
              "#d8576b"
             ],
             [
              0.6666666666666666,
              "#ed7953"
             ],
             [
              0.7777777777777778,
              "#fb9f3a"
             ],
             [
              0.8888888888888888,
              "#fdca26"
             ],
             [
              1,
              "#f0f921"
             ]
            ],
            "type": "histogram2dcontour"
           }
          ],
          "mesh3d": [
           {
            "colorbar": {
             "outlinewidth": 0,
             "ticks": ""
            },
            "type": "mesh3d"
           }
          ],
          "parcoords": [
           {
            "line": {
             "colorbar": {
              "outlinewidth": 0,
              "ticks": ""
             }
            },
            "type": "parcoords"
           }
          ],
          "pie": [
           {
            "automargin": true,
            "type": "pie"
           }
          ],
          "scatter": [
           {
            "fillpattern": {
             "fillmode": "overlay",
             "size": 10,
             "solidity": 0.2
            },
            "type": "scatter"
           }
          ],
          "scatter3d": [
           {
            "line": {
             "colorbar": {
              "outlinewidth": 0,
              "ticks": ""
             }
            },
            "marker": {
             "colorbar": {
              "outlinewidth": 0,
              "ticks": ""
             }
            },
            "type": "scatter3d"
           }
          ],
          "scattercarpet": [
           {
            "marker": {
             "colorbar": {
              "outlinewidth": 0,
              "ticks": ""
             }
            },
            "type": "scattercarpet"
           }
          ],
          "scattergeo": [
           {
            "marker": {
             "colorbar": {
              "outlinewidth": 0,
              "ticks": ""
             }
            },
            "type": "scattergeo"
           }
          ],
          "scattergl": [
           {
            "marker": {
             "colorbar": {
              "outlinewidth": 0,
              "ticks": ""
             }
            },
            "type": "scattergl"
           }
          ],
          "scattermapbox": [
           {
            "marker": {
             "colorbar": {
              "outlinewidth": 0,
              "ticks": ""
             }
            },
            "type": "scattermapbox"
           }
          ],
          "scatterpolar": [
           {
            "marker": {
             "colorbar": {
              "outlinewidth": 0,
              "ticks": ""
             }
            },
            "type": "scatterpolar"
           }
          ],
          "scatterpolargl": [
           {
            "marker": {
             "colorbar": {
              "outlinewidth": 0,
              "ticks": ""
             }
            },
            "type": "scatterpolargl"
           }
          ],
          "scatterternary": [
           {
            "marker": {
             "colorbar": {
              "outlinewidth": 0,
              "ticks": ""
             }
            },
            "type": "scatterternary"
           }
          ],
          "surface": [
           {
            "colorbar": {
             "outlinewidth": 0,
             "ticks": ""
            },
            "colorscale": [
             [
              0,
              "#0d0887"
             ],
             [
              0.1111111111111111,
              "#46039f"
             ],
             [
              0.2222222222222222,
              "#7201a8"
             ],
             [
              0.3333333333333333,
              "#9c179e"
             ],
             [
              0.4444444444444444,
              "#bd3786"
             ],
             [
              0.5555555555555556,
              "#d8576b"
             ],
             [
              0.6666666666666666,
              "#ed7953"
             ],
             [
              0.7777777777777778,
              "#fb9f3a"
             ],
             [
              0.8888888888888888,
              "#fdca26"
             ],
             [
              1,
              "#f0f921"
             ]
            ],
            "type": "surface"
           }
          ],
          "table": [
           {
            "cells": {
             "fill": {
              "color": "#EBF0F8"
             },
             "line": {
              "color": "white"
             }
            },
            "header": {
             "fill": {
              "color": "#C8D4E3"
             },
             "line": {
              "color": "white"
             }
            },
            "type": "table"
           }
          ]
         },
         "layout": {
          "annotationdefaults": {
           "arrowcolor": "#2a3f5f",
           "arrowhead": 0,
           "arrowwidth": 1
          },
          "autotypenumbers": "strict",
          "coloraxis": {
           "colorbar": {
            "outlinewidth": 0,
            "ticks": ""
           }
          },
          "colorscale": {
           "diverging": [
            [
             0,
             "#8e0152"
            ],
            [
             0.1,
             "#c51b7d"
            ],
            [
             0.2,
             "#de77ae"
            ],
            [
             0.3,
             "#f1b6da"
            ],
            [
             0.4,
             "#fde0ef"
            ],
            [
             0.5,
             "#f7f7f7"
            ],
            [
             0.6,
             "#e6f5d0"
            ],
            [
             0.7,
             "#b8e186"
            ],
            [
             0.8,
             "#7fbc41"
            ],
            [
             0.9,
             "#4d9221"
            ],
            [
             1,
             "#276419"
            ]
           ],
           "sequential": [
            [
             0,
             "#0d0887"
            ],
            [
             0.1111111111111111,
             "#46039f"
            ],
            [
             0.2222222222222222,
             "#7201a8"
            ],
            [
             0.3333333333333333,
             "#9c179e"
            ],
            [
             0.4444444444444444,
             "#bd3786"
            ],
            [
             0.5555555555555556,
             "#d8576b"
            ],
            [
             0.6666666666666666,
             "#ed7953"
            ],
            [
             0.7777777777777778,
             "#fb9f3a"
            ],
            [
             0.8888888888888888,
             "#fdca26"
            ],
            [
             1,
             "#f0f921"
            ]
           ],
           "sequentialminus": [
            [
             0,
             "#0d0887"
            ],
            [
             0.1111111111111111,
             "#46039f"
            ],
            [
             0.2222222222222222,
             "#7201a8"
            ],
            [
             0.3333333333333333,
             "#9c179e"
            ],
            [
             0.4444444444444444,
             "#bd3786"
            ],
            [
             0.5555555555555556,
             "#d8576b"
            ],
            [
             0.6666666666666666,
             "#ed7953"
            ],
            [
             0.7777777777777778,
             "#fb9f3a"
            ],
            [
             0.8888888888888888,
             "#fdca26"
            ],
            [
             1,
             "#f0f921"
            ]
           ]
          },
          "colorway": [
           "#636efa",
           "#EF553B",
           "#00cc96",
           "#ab63fa",
           "#FFA15A",
           "#19d3f3",
           "#FF6692",
           "#B6E880",
           "#FF97FF",
           "#FECB52"
          ],
          "font": {
           "color": "#2a3f5f"
          },
          "geo": {
           "bgcolor": "white",
           "lakecolor": "white",
           "landcolor": "#E5ECF6",
           "showlakes": true,
           "showland": true,
           "subunitcolor": "white"
          },
          "hoverlabel": {
           "align": "left"
          },
          "hovermode": "closest",
          "mapbox": {
           "style": "light"
          },
          "paper_bgcolor": "white",
          "plot_bgcolor": "#E5ECF6",
          "polar": {
           "angularaxis": {
            "gridcolor": "white",
            "linecolor": "white",
            "ticks": ""
           },
           "bgcolor": "#E5ECF6",
           "radialaxis": {
            "gridcolor": "white",
            "linecolor": "white",
            "ticks": ""
           }
          },
          "scene": {
           "xaxis": {
            "backgroundcolor": "#E5ECF6",
            "gridcolor": "white",
            "gridwidth": 2,
            "linecolor": "white",
            "showbackground": true,
            "ticks": "",
            "zerolinecolor": "white"
           },
           "yaxis": {
            "backgroundcolor": "#E5ECF6",
            "gridcolor": "white",
            "gridwidth": 2,
            "linecolor": "white",
            "showbackground": true,
            "ticks": "",
            "zerolinecolor": "white"
           },
           "zaxis": {
            "backgroundcolor": "#E5ECF6",
            "gridcolor": "white",
            "gridwidth": 2,
            "linecolor": "white",
            "showbackground": true,
            "ticks": "",
            "zerolinecolor": "white"
           }
          },
          "shapedefaults": {
           "line": {
            "color": "#2a3f5f"
           }
          },
          "ternary": {
           "aaxis": {
            "gridcolor": "white",
            "linecolor": "white",
            "ticks": ""
           },
           "baxis": {
            "gridcolor": "white",
            "linecolor": "white",
            "ticks": ""
           },
           "bgcolor": "#E5ECF6",
           "caxis": {
            "gridcolor": "white",
            "linecolor": "white",
            "ticks": ""
           }
          },
          "title": {
           "x": 0.05
          },
          "xaxis": {
           "automargin": true,
           "gridcolor": "white",
           "linecolor": "white",
           "ticks": "",
           "title": {
            "standoff": 15
           },
           "zerolinecolor": "white",
           "zerolinewidth": 2
          },
          "yaxis": {
           "automargin": true,
           "gridcolor": "white",
           "linecolor": "white",
           "ticks": "",
           "title": {
            "standoff": 15
           },
           "zerolinecolor": "white",
           "zerolinewidth": 2
          }
         }
        },
        "title": {
         "text": "Scatter Plot using Plotly Express"
        },
        "xaxis": {
         "anchor": "y",
         "autorange": true,
         "domain": [
          0,
          1
         ],
         "range": [
          -0.7251667251667252,
          12.725166725166725
         ],
         "title": {
          "text": "X values"
         },
         "type": "linear"
        },
        "yaxis": {
         "anchor": "x",
         "autorange": true,
         "domain": [
          0,
          1
         ],
         "range": [
          3.6796116504854366,
          22.320388349514563
         ],
         "title": {
          "text": "Y values"
         },
         "type": "linear"
        }
       }
      },
      "image/png": "[encoded data removed]",
      "text/html": [
       "<div>                            <div id=\"f9b295b0-8922-4a6c-a273-0a4a3c2ee302\" class=\"plotly-graph-div\" style=\"height:525px; width:100%;\"></div>            <script type=\"text/javascript\">                require([\"plotly\"], function(Plotly) {                    window.PLOTLYENV=window.PLOTLYENV || {};                                    if (document.getElementById(\"f9b295b0-8922-4a6c-a273-0a4a3c2ee302\")) {                    Plotly.newPlot(                        \"f9b295b0-8922-4a6c-a273-0a4a3c2ee302\",                        [{\"hovertemplate\":\"X values=%{x}\\u003cbr\\u003eY values=%{y}\\u003cextra\\u003e\\u003c\\u002fextra\\u003e\",\"legendgroup\":\"\",\"marker\":{\"color\":\"royalblue\",\"symbol\":\"circle\"},\"mode\":\"lines+markers\",\"name\":\"\",\"orientation\":\"v\",\"showlegend\":false,\"x\":[0,6,10,12],\"xaxis\":\"x\",\"y\":[5,15,20,21],\"yaxis\":\"y\",\"type\":\"scatter\",\"line\":{\"color\":\"royalblue\",\"width\":2}}],                        {\"template\":{\"data\":{\"histogram2dcontour\":[{\"type\":\"histogram2dcontour\",\"colorbar\":{\"outlinewidth\":0,\"ticks\":\"\"},\"colorscale\":[[0.0,\"#0d0887\"],[0.1111111111111111,\"#46039f\"],[0.2222222222222222,\"#7201a8\"],[0.3333333333333333,\"#9c179e\"],[0.4444444444444444,\"#bd3786\"],[0.5555555555555556,\"#d8576b\"],[0.6666666666666666,\"#ed7953\"],[0.7777777777777778,\"#fb9f3a\"],[0.8888888888888888,\"#fdca26\"],[1.0,\"#f0f921\"]]}],\"choropleth\":[{\"type\":\"choropleth\",\"colorbar\":{\"outlinewidth\":0,\"ticks\":\"\"}}],\"histogram2d\":[{\"type\":\"histogram2d\",\"colorbar\":{\"outlinewidth\":0,\"ticks\":\"\"},\"colorscale\":[[0.0,\"#0d0887\"],[0.1111111111111111,\"#46039f\"],[0.2222222222222222,\"#7201a8\"],[0.3333333333333333,\"#9c179e\"],[0.4444444444444444,\"#bd3786\"],[0.5555555555555556,\"#d8576b\"],[0.6666666666666666,\"#ed7953\"],[0.7777777777777778,\"#fb9f3a\"],[0.8888888888888888,\"#fdca26\"],[1.0,\"#f0f921\"]]}],\"heatmap\":[{\"type\":\"heatmap\",\"colorbar\":{\"outlinewidth\":0,\"ticks\":\"\"},\"colorscale\":[[0.0,\"#0d0887\"],[0.1111111111111111,\"#46039f\"],[0.2222222222222222,\"#7201a8\"],[0.3333333333333333,\"#9c179e\"],[0.4444444444444444,\"#bd3786\"],[0.5555555555555556,\"#d8576b\"],[0.6666666666666666,\"#ed7953\"],[0.7777777777777778,\"#fb9f3a\"],[0.8888888888888888,\"#fdca26\"],[1.0,\"#f0f921\"]]}],\"heatmapgl\":[{\"type\":\"heatmapgl\",\"colorbar\":{\"outlinewidth\":0,\"ticks\":\"\"},\"colorscale\":[[0.0,\"#0d0887\"],[0.1111111111111111,\"#46039f\"],[0.2222222222222222,\"#7201a8\"],[0.3333333333333333,\"#9c179e\"],[0.4444444444444444,\"#bd3786\"],[0.5555555555555556,\"#d8576b\"],[0.6666666666666666,\"#ed7953\"],[0.7777777777777778,\"#fb9f3a\"],[0.8888888888888888,\"#fdca26\"],[1.0,\"#f0f921\"]]}],\"contourcarpet\":[{\"type\":\"contourcarpet\",\"colorbar\":{\"outlinewidth\":0,\"ticks\":\"\"}}],\"contour\":[{\"type\":\"contour\",\"colorbar\":{\"outlinewidth\":0,\"ticks\":\"\"},\"colorscale\":[[0.0,\"#0d0887\"],[0.1111111111111111,\"#46039f\"],[0.2222222222222222,\"#7201a8\"],[0.3333333333333333,\"#9c179e\"],[0.4444444444444444,\"#bd3786\"],[0.5555555555555556,\"#d8576b\"],[0.6666666666666666,\"#ed7953\"],[0.7777777777777778,\"#fb9f3a\"],[0.8888888888888888,\"#fdca26\"],[1.0,\"#f0f921\"]]}],\"surface\":[{\"type\":\"surface\",\"colorbar\":{\"outlinewidth\":0,\"ticks\":\"\"},\"colorscale\":[[0.0,\"#0d0887\"],[0.1111111111111111,\"#46039f\"],[0.2222222222222222,\"#7201a8\"],[0.3333333333333333,\"#9c179e\"],[0.4444444444444444,\"#bd3786\"],[0.5555555555555556,\"#d8576b\"],[0.6666666666666666,\"#ed7953\"],[0.7777777777777778,\"#fb9f3a\"],[0.8888888888888888,\"#fdca26\"],[1.0,\"#f0f921\"]]}],\"mesh3d\":[{\"type\":\"mesh3d\",\"colorbar\":{\"outlinewidth\":0,\"ticks\":\"\"}}],\"scatter\":[{\"fillpattern\":{\"fillmode\":\"overlay\",\"size\":10,\"solidity\":0.2},\"type\":\"scatter\"}],\"parcoords\":[{\"type\":\"parcoords\",\"line\":{\"colorbar\":{\"outlinewidth\":0,\"ticks\":\"\"}}}],\"scatterpolargl\":[{\"type\":\"scatterpolargl\",\"marker\":{\"colorbar\":{\"outlinewidth\":0,\"ticks\":\"\"}}}],\"bar\":[{\"error_x\":{\"color\":\"#2a3f5f\"},\"error_y\":{\"color\":\"#2a3f5f\"},\"marker\":{\"line\":{\"color\":\"#E5ECF6\",\"width\":0.5},\"pattern\":{\"fillmode\":\"overlay\",\"size\":10,\"solidity\":0.2}},\"type\":\"bar\"}],\"scattergeo\":[{\"type\":\"scattergeo\",\"marker\":{\"colorbar\":{\"outlinewidth\":0,\"ticks\":\"\"}}}],\"scatterpolar\":[{\"type\":\"scatterpolar\",\"marker\":{\"colorbar\":{\"outlinewidth\":0,\"ticks\":\"\"}}}],\"histogram\":[{\"marker\":{\"pattern\":{\"fillmode\":\"overlay\",\"size\":10,\"solidity\":0.2}},\"type\":\"histogram\"}],\"scattergl\":[{\"type\":\"scattergl\",\"marker\":{\"colorbar\":{\"outlinewidth\":0,\"ticks\":\"\"}}}],\"scatter3d\":[{\"type\":\"scatter3d\",\"line\":{\"colorbar\":{\"outlinewidth\":0,\"ticks\":\"\"}},\"marker\":{\"colorbar\":{\"outlinewidth\":0,\"ticks\":\"\"}}}],\"scattermapbox\":[{\"type\":\"scattermapbox\",\"marker\":{\"colorbar\":{\"outlinewidth\":0,\"ticks\":\"\"}}}],\"scatterternary\":[{\"type\":\"scatterternary\",\"marker\":{\"colorbar\":{\"outlinewidth\":0,\"ticks\":\"\"}}}],\"scattercarpet\":[{\"type\":\"scattercarpet\",\"marker\":{\"colorbar\":{\"outlinewidth\":0,\"ticks\":\"\"}}}],\"carpet\":[{\"aaxis\":{\"endlinecolor\":\"#2a3f5f\",\"gridcolor\":\"white\",\"linecolor\":\"white\",\"minorgridcolor\":\"white\",\"startlinecolor\":\"#2a3f5f\"},\"baxis\":{\"endlinecolor\":\"#2a3f5f\",\"gridcolor\":\"white\",\"linecolor\":\"white\",\"minorgridcolor\":\"white\",\"startlinecolor\":\"#2a3f5f\"},\"type\":\"carpet\"}],\"table\":[{\"cells\":{\"fill\":{\"color\":\"#EBF0F8\"},\"line\":{\"color\":\"white\"}},\"header\":{\"fill\":{\"color\":\"#C8D4E3\"},\"line\":{\"color\":\"white\"}},\"type\":\"table\"}],\"barpolar\":[{\"marker\":{\"line\":{\"color\":\"#E5ECF6\",\"width\":0.5},\"pattern\":{\"fillmode\":\"overlay\",\"size\":10,\"solidity\":0.2}},\"type\":\"barpolar\"}],\"pie\":[{\"automargin\":true,\"type\":\"pie\"}]},\"layout\":{\"autotypenumbers\":\"strict\",\"colorway\":[\"#636efa\",\"#EF553B\",\"#00cc96\",\"#ab63fa\",\"#FFA15A\",\"#19d3f3\",\"#FF6692\",\"#B6E880\",\"#FF97FF\",\"#FECB52\"],\"font\":{\"color\":\"#2a3f5f\"},\"hovermode\":\"closest\",\"hoverlabel\":{\"align\":\"left\"},\"paper_bgcolor\":\"white\",\"plot_bgcolor\":\"#E5ECF6\",\"polar\":{\"bgcolor\":\"#E5ECF6\",\"angularaxis\":{\"gridcolor\":\"white\",\"linecolor\":\"white\",\"ticks\":\"\"},\"radialaxis\":{\"gridcolor\":\"white\",\"linecolor\":\"white\",\"ticks\":\"\"}},\"ternary\":{\"bgcolor\":\"#E5ECF6\",\"aaxis\":{\"gridcolor\":\"white\",\"linecolor\":\"white\",\"ticks\":\"\"},\"baxis\":{\"gridcolor\":\"white\",\"linecolor\":\"white\",\"ticks\":\"\"},\"caxis\":{\"gridcolor\":\"white\",\"linecolor\":\"white\",\"ticks\":\"\"}},\"coloraxis\":{\"colorbar\":{\"outlinewidth\":0,\"ticks\":\"\"}},\"colorscale\":{\"sequential\":[[0.0,\"#0d0887\"],[0.1111111111111111,\"#46039f\"],[0.2222222222222222,\"#7201a8\"],[0.3333333333333333,\"#9c179e\"],[0.4444444444444444,\"#bd3786\"],[0.5555555555555556,\"#d8576b\"],[0.6666666666666666,\"#ed7953\"],[0.7777777777777778,\"#fb9f3a\"],[0.8888888888888888,\"#fdca26\"],[1.0,\"#f0f921\"]],\"sequentialminus\":[[0.0,\"#0d0887\"],[0.1111111111111111,\"#46039f\"],[0.2222222222222222,\"#7201a8\"],[0.3333333333333333,\"#9c179e\"],[0.4444444444444444,\"#bd3786\"],[0.5555555555555556,\"#d8576b\"],[0.6666666666666666,\"#ed7953\"],[0.7777777777777778,\"#fb9f3a\"],[0.8888888888888888,\"#fdca26\"],[1.0,\"#f0f921\"]],\"diverging\":[[0,\"#8e0152\"],[0.1,\"#c51b7d\"],[0.2,\"#de77ae\"],[0.3,\"#f1b6da\"],[0.4,\"#fde0ef\"],[0.5,\"#f7f7f7\"],[0.6,\"#e6f5d0\"],[0.7,\"#b8e186\"],[0.8,\"#7fbc41\"],[0.9,\"#4d9221\"],[1,\"#276419\"]]},\"xaxis\":{\"gridcolor\":\"white\",\"linecolor\":\"white\",\"ticks\":\"\",\"title\":{\"standoff\":15},\"zerolinecolor\":\"white\",\"automargin\":true,\"zerolinewidth\":2},\"yaxis\":{\"gridcolor\":\"white\",\"linecolor\":\"white\",\"ticks\":\"\",\"title\":{\"standoff\":15},\"zerolinecolor\":\"white\",\"automargin\":true,\"zerolinewidth\":2},\"scene\":{\"xaxis\":{\"backgroundcolor\":\"#E5ECF6\",\"gridcolor\":\"white\",\"linecolor\":\"white\",\"showbackground\":true,\"ticks\":\"\",\"zerolinecolor\":\"white\",\"gridwidth\":2},\"yaxis\":{\"backgroundcolor\":\"#E5ECF6\",\"gridcolor\":\"white\",\"linecolor\":\"white\",\"showbackground\":true,\"ticks\":\"\",\"zerolinecolor\":\"white\",\"gridwidth\":2},\"zaxis\":{\"backgroundcolor\":\"#E5ECF6\",\"gridcolor\":\"white\",\"linecolor\":\"white\",\"showbackground\":true,\"ticks\":\"\",\"zerolinecolor\":\"white\",\"gridwidth\":2}},\"shapedefaults\":{\"line\":{\"color\":\"#2a3f5f\"}},\"annotationdefaults\":{\"arrowcolor\":\"#2a3f5f\",\"arrowhead\":0,\"arrowwidth\":1},\"geo\":{\"bgcolor\":\"white\",\"landcolor\":\"#E5ECF6\",\"subunitcolor\":\"white\",\"showland\":true,\"showlakes\":true,\"lakecolor\":\"white\"},\"title\":{\"x\":0.05},\"mapbox\":{\"style\":\"light\"}}},\"xaxis\":{\"anchor\":\"y\",\"domain\":[0.0,1.0],\"title\":{\"text\":\"X values\"}},\"yaxis\":{\"anchor\":\"x\",\"domain\":[0.0,1.0],\"title\":{\"text\":\"Y values\"}},\"legend\":{\"tracegroupgap\":0},\"title\":{\"text\":\"Scatter Plot using Plotly Express\"}},                        {\"responsive\": true}                    ).then(function(){\n",
       "                            \n",
       "var gd = document.getElementById('f9b295b0-8922-4a6c-a273-0a4a3c2ee302');\n",
       "var x = new MutationObserver(function (mutations, observer) {{\n",
       "        var display = window.getComputedStyle(gd).display;\n",
       "        if (!display || display === 'none') {{\n",
       "            console.log([gd, 'removed!']);\n",
       "            Plotly.purge(gd);\n",
       "            observer.disconnect();\n",
       "        }}\n",
       "}});\n",
       "\n",
       "// Listen for the removal of the full notebook cells\n",
       "var notebookContainer = gd.closest('#notebook-container');\n",
       "if (notebookContainer) {{\n",
       "    x.observe(notebookContainer, {childList: true});\n",
       "}}\n",
       "\n",
       "// Listen for the clearing of the current output cell\n",
       "var outputEl = gd.closest('.output');\n",
       "if (outputEl) {{\n",
       "    x.observe(outputEl, {childList: true});\n",
       "}}\n",
       "\n",
       "                        })                };                });            </script>        </div>"
      ]
     },
     "metadata": {},
     "output_type": "display_data"
    }
   ],
   "source": [
    "x=[0, 6, 10, 12]\n",
    "y=[5, 15, 20, 21]\n",
    "\n",
    "df2 = pd.DataFrame({'x': x, 'y': y})\n",
    "\n",
    "figs2 = px.scatter(df2, x='x', y='y', title='Scatter Plot using Plotly Express',labels={'x': 'X values', 'y': 'Y values'},\n",
    "                  color_discrete_sequence=['royalblue'])\n",
    "figs2.update_traces(mode='lines+markers', line=dict(color='royalblue', width=2))\n",
    "figs2.show()"
   ]
  },
  {
   "cell_type": "markdown",
   "id": "0ec2e9f1-f342-4575-9445-f13987dfb616",
   "metadata": {},
   "source": [
    "### Adding interactivity with \"ipywidgets\""
   ]
  },
  {
   "cell_type": "code",
   "execution_count": 24,
   "id": "59a6fe52-a0d8-4519-b142-7335beb21e9f",
   "metadata": {},
   "outputs": [
    {
     "data": {
      "application/vnd.jupyter.widget-view+json": {
       "model_id": "936c6ca68e2a4f62a42acb50452f3136",
       "version_major": 2,
       "version_minor": 0
      },
      "text/plain": [
       "interactive(children=(FloatSlider(value=1.0, description='frequency', max=5.0, min=0.5), Output()), _dom_class…"
      ]
     },
     "metadata": {},
     "output_type": "display_data"
    },
    {
     "data": {
      "text/plain": [
       "<function __main__.plot_sine(frequency=1.0)>"
      ]
     },
     "execution_count": 24,
     "metadata": {},
     "output_type": "execute_result"
    }
   ],
   "source": [
    "def plot_sine(frequency=1.0):\n",
    "    x = np.linspace(0, 10, 100) # Build the x axis (100 points 0..10)\n",
    "    y = np.sin(frequency * x)   # Build the y axis (sin(f·x))\n",
    "    figs3 = go.Figure(go.Scatter(x=x, y=y, mode='lines', line=dict(color='royalblue'))) # Create a Plotly figure (line)\n",
    "    figs3.update_layout(title=f\"Sine wave with frequency = {frequency}\",\n",
    "                      xaxis_title=\"x\", yaxis_title=\"sin(f·x)\", template=\"plotly_white\") # Titles / styling\n",
    "    figs3.show()  # Render the figure\n",
    "\n",
    "interact(plot_sine, frequency=widgets.FloatSlider(value=1.0, min=0.5, max=5, step=0.1)) # Create a UI slider bound to the function"
   ]
  },
  {
   "cell_type": "markdown",
   "id": "478349e0-1790-4c68-a9fc-4b10a6132bc0",
   "metadata": {},
   "source": [
    "### Creating a Custom Layout (VBox / HBox)"
   ]
  },
  {
   "cell_type": "code",
   "execution_count": 44,
   "id": "d32afd11-61bb-48a4-a46e-c54ef2fd06da",
   "metadata": {},
   "outputs": [
    {
     "data": {
      "application/vnd.jupyter.widget-view+json": {
       "model_id": "7e988316fda2461caedd791229f4416c",
       "version_major": 2,
       "version_minor": 0
      },
      "text/plain": [
       "VBox(children=(HBox(children=(Dropdown(description='Year:', index=2, options=(2023, 2024, 2025), value=2025), …"
      ]
     },
     "execution_count": 44,
     "metadata": {},
     "output_type": "execute_result"
    }
   ],
   "source": [
    "df_sales = pd.read_csv(\"consumer_goods_sales.csv\", parse_dates=[\"invoice_date\",\"delivery_date\"])\n",
    "#reads the CSV, parse_dates=[...] converts those columns to actual datetime64\n",
    "\n",
    "years = sorted(df_sales['year'].unique().tolist()) #all distinct years in ascending order.\n",
    "regions = ['All'] + sorted(df_sales['region'].unique().tolist()) # adds a \"All\" choice on top of the real regions. Selecting \"All\" means “don’t filter by region”.\n",
    "\n",
    "dd_year = Dropdown(options=years, value=years[-1], description='Year:') #defaults to the last year in the data.\n",
    "dd_region = Dropdown(options=regions, value='All', description='Region:') #defaults to \"All\".\n",
    "out = Output() #prevents duplicate charts from stacking.\n",
    "\n",
    "def refresh(_=None):\n",
    "    out.clear_output() #clears whatever is currently in out.\n",
    "    d = df_sales[df_sales['year'] == dd_year.value] #Filters the DataFrame to the selected year\n",
    "    if dd_region.value != 'All': #Applies the region filter only if you didn’t pick \"All\"\n",
    "        d = d[d['region'] == dd_region.value]\n",
    "    g = d.groupby('business_unit', as_index=False)['revenue'].sum() #Aggregates revenue by Business Unit\n",
    "    fig = px.bar(g, x='business_unit', y='revenue', title=f\"Revenue by BU — {dd_year.value}\",\n",
    "                 template='plotly_white')\n",
    "    with out:\n",
    "        fig.show()\n",
    "\n",
    "dd_year.observe(refresh, names='value')\n",
    "dd_region.observe(refresh, names='value')\n",
    "refresh() #value changes on both dropdowns.\n",
    "VBox([HBox([dd_year, dd_region]), out])#Builds the UI layout, year and region dropdowns side-by-side."
   ]
  },
  {
   "cell_type": "markdown",
   "id": "24f00ba3-6cea-4cb1-99d9-a4f3ab25d129",
   "metadata": {},
   "source": [
    "### Exploring Plotly Extensions"
   ]
  },
  {
   "cell_type": "markdown",
   "id": "54cc8741-91a9-48af-a54c-6169889671ca",
   "metadata": {},
   "source": [
    "#### Subplots"
   ]
  },
  {
   "cell_type": "code",
   "execution_count": 59,
   "id": "cb46b170-008a-4416-a830-70dcb4567605",
   "metadata": {},
   "outputs": [
    {
     "data": {
      "application/vnd.plotly.v1+json": {
       "config": {
        "plotlyServerURL": "https://plot.ly"
       },
       "data": [
        {
         "name": "Sales",
         "type": "bar",
         "x": [
          "A",
          "B",
          "C"
         ],
         "xaxis": "x",
         "y": [
          10,
          15,
          8
         ],
         "yaxis": "y"
        },
        {
         "mode": "lines+markers",
         "name": "Trend",
         "type": "scatter",
         "x": [
          1,
          2,
          3,
          4
         ],
         "xaxis": "x2",
         "y": [
          5,
          9,
          7,
          10
         ],
         "yaxis": "y2"
        }
       ],
       "layout": {
        "annotations": [
         {
          "font": {
           "size": 16
          },
          "showarrow": false,
          "text": "Bar Chart",
          "x": 0.225,
          "xanchor": "center",
          "xref": "paper",
          "y": 1,
          "yanchor": "bottom",
          "yref": "paper"
         },
         {
          "font": {
           "size": 16
          },
          "showarrow": false,
          "text": "Line Chart",
          "x": 0.775,
          "xanchor": "center",
          "xref": "paper",
          "y": 1,
          "yanchor": "bottom",
          "yref": "paper"
         }
        ],
        "autosize": true,
        "template": {
         "data": {
          "bar": [
           {
            "error_x": {
             "color": "#2a3f5f"
            },
            "error_y": {
             "color": "#2a3f5f"
            },
            "marker": {
             "line": {
              "color": "white",
              "width": 0.5
             },
             "pattern": {
              "fillmode": "overlay",
              "size": 10,
              "solidity": 0.2
             }
            },
            "type": "bar"
           }
          ],
          "barpolar": [
           {
            "marker": {
             "line": {
              "color": "white",
              "width": 0.5
             },
             "pattern": {
              "fillmode": "overlay",
              "size": 10,
              "solidity": 0.2
             }
            },
            "type": "barpolar"
           }
          ],
          "carpet": [
           {
            "aaxis": {
             "endlinecolor": "#2a3f5f",
             "gridcolor": "#C8D4E3",
             "linecolor": "#C8D4E3",
             "minorgridcolor": "#C8D4E3",
             "startlinecolor": "#2a3f5f"
            },
            "baxis": {
             "endlinecolor": "#2a3f5f",
             "gridcolor": "#C8D4E3",
             "linecolor": "#C8D4E3",
             "minorgridcolor": "#C8D4E3",
             "startlinecolor": "#2a3f5f"
            },
            "type": "carpet"
           }
          ],
          "choropleth": [
           {
            "colorbar": {
             "outlinewidth": 0,
             "ticks": ""
            },
            "type": "choropleth"
           }
          ],
          "contour": [
           {
            "colorbar": {
             "outlinewidth": 0,
             "ticks": ""
            },
            "colorscale": [
             [
              0,
              "#0d0887"
             ],
             [
              0.1111111111111111,
              "#46039f"
             ],
             [
              0.2222222222222222,
              "#7201a8"
             ],
             [
              0.3333333333333333,
              "#9c179e"
             ],
             [
              0.4444444444444444,
              "#bd3786"
             ],
             [
              0.5555555555555556,
              "#d8576b"
             ],
             [
              0.6666666666666666,
              "#ed7953"
             ],
             [
              0.7777777777777778,
              "#fb9f3a"
             ],
             [
              0.8888888888888888,
              "#fdca26"
             ],
             [
              1,
              "#f0f921"
             ]
            ],
            "type": "contour"
           }
          ],
          "contourcarpet": [
           {
            "colorbar": {
             "outlinewidth": 0,
             "ticks": ""
            },
            "type": "contourcarpet"
           }
          ],
          "heatmap": [
           {
            "colorbar": {
             "outlinewidth": 0,
             "ticks": ""
            },
            "colorscale": [
             [
              0,
              "#0d0887"
             ],
             [
              0.1111111111111111,
              "#46039f"
             ],
             [
              0.2222222222222222,
              "#7201a8"
             ],
             [
              0.3333333333333333,
              "#9c179e"
             ],
             [
              0.4444444444444444,
              "#bd3786"
             ],
             [
              0.5555555555555556,
              "#d8576b"
             ],
             [
              0.6666666666666666,
              "#ed7953"
             ],
             [
              0.7777777777777778,
              "#fb9f3a"
             ],
             [
              0.8888888888888888,
              "#fdca26"
             ],
             [
              1,
              "#f0f921"
             ]
            ],
            "type": "heatmap"
           }
          ],
          "heatmapgl": [
           {
            "colorbar": {
             "outlinewidth": 0,
             "ticks": ""
            },
            "colorscale": [
             [
              0,
              "#0d0887"
             ],
             [
              0.1111111111111111,
              "#46039f"
             ],
             [
              0.2222222222222222,
              "#7201a8"
             ],
             [
              0.3333333333333333,
              "#9c179e"
             ],
             [
              0.4444444444444444,
              "#bd3786"
             ],
             [
              0.5555555555555556,
              "#d8576b"
             ],
             [
              0.6666666666666666,
              "#ed7953"
             ],
             [
              0.7777777777777778,
              "#fb9f3a"
             ],
             [
              0.8888888888888888,
              "#fdca26"
             ],
             [
              1,
              "#f0f921"
             ]
            ],
            "type": "heatmapgl"
           }
          ],
          "histogram": [
           {
            "marker": {
             "pattern": {
              "fillmode": "overlay",
              "size": 10,
              "solidity": 0.2
             }
            },
            "type": "histogram"
           }
          ],
          "histogram2d": [
           {
            "colorbar": {
             "outlinewidth": 0,
             "ticks": ""
            },
            "colorscale": [
             [
              0,
              "#0d0887"
             ],
             [
              0.1111111111111111,
              "#46039f"
             ],
             [
              0.2222222222222222,
              "#7201a8"
             ],
             [
              0.3333333333333333,
              "#9c179e"
             ],
             [
              0.4444444444444444,
              "#bd3786"
             ],
             [
              0.5555555555555556,
              "#d8576b"
             ],
             [
              0.6666666666666666,
              "#ed7953"
             ],
             [
              0.7777777777777778,
              "#fb9f3a"
             ],
             [
              0.8888888888888888,
              "#fdca26"
             ],
             [
              1,
              "#f0f921"
             ]
            ],
            "type": "histogram2d"
           }
          ],
          "histogram2dcontour": [
           {
            "colorbar": {
             "outlinewidth": 0,
             "ticks": ""
            },
            "colorscale": [
             [
              0,
              "#0d0887"
             ],
             [
              0.1111111111111111,
              "#46039f"
             ],
             [
              0.2222222222222222,
              "#7201a8"
             ],
             [
              0.3333333333333333,
              "#9c179e"
             ],
             [
              0.4444444444444444,
              "#bd3786"
             ],
             [
              0.5555555555555556,
              "#d8576b"
             ],
             [
              0.6666666666666666,
              "#ed7953"
             ],
             [
              0.7777777777777778,
              "#fb9f3a"
             ],
             [
              0.8888888888888888,
              "#fdca26"
             ],
             [
              1,
              "#f0f921"
             ]
            ],
            "type": "histogram2dcontour"
           }
          ],
          "mesh3d": [
           {
            "colorbar": {
             "outlinewidth": 0,
             "ticks": ""
            },
            "type": "mesh3d"
           }
          ],
          "parcoords": [
           {
            "line": {
             "colorbar": {
              "outlinewidth": 0,
              "ticks": ""
             }
            },
            "type": "parcoords"
           }
          ],
          "pie": [
           {
            "automargin": true,
            "type": "pie"
           }
          ],
          "scatter": [
           {
            "fillpattern": {
             "fillmode": "overlay",
             "size": 10,
             "solidity": 0.2
            },
            "type": "scatter"
           }
          ],
          "scatter3d": [
           {
            "line": {
             "colorbar": {
              "outlinewidth": 0,
              "ticks": ""
             }
            },
            "marker": {
             "colorbar": {
              "outlinewidth": 0,
              "ticks": ""
             }
            },
            "type": "scatter3d"
           }
          ],
          "scattercarpet": [
           {
            "marker": {
             "colorbar": {
              "outlinewidth": 0,
              "ticks": ""
             }
            },
            "type": "scattercarpet"
           }
          ],
          "scattergeo": [
           {
            "marker": {
             "colorbar": {
              "outlinewidth": 0,
              "ticks": ""
             }
            },
            "type": "scattergeo"
           }
          ],
          "scattergl": [
           {
            "marker": {
             "colorbar": {
              "outlinewidth": 0,
              "ticks": ""
             }
            },
            "type": "scattergl"
           }
          ],
          "scattermapbox": [
           {
            "marker": {
             "colorbar": {
              "outlinewidth": 0,
              "ticks": ""
             }
            },
            "type": "scattermapbox"
           }
          ],
          "scatterpolar": [
           {
            "marker": {
             "colorbar": {
              "outlinewidth": 0,
              "ticks": ""
             }
            },
            "type": "scatterpolar"
           }
          ],
          "scatterpolargl": [
           {
            "marker": {
             "colorbar": {
              "outlinewidth": 0,
              "ticks": ""
             }
            },
            "type": "scatterpolargl"
           }
          ],
          "scatterternary": [
           {
            "marker": {
             "colorbar": {
              "outlinewidth": 0,
              "ticks": ""
             }
            },
            "type": "scatterternary"
           }
          ],
          "surface": [
           {
            "colorbar": {
             "outlinewidth": 0,
             "ticks": ""
            },
            "colorscale": [
             [
              0,
              "#0d0887"
             ],
             [
              0.1111111111111111,
              "#46039f"
             ],
             [
              0.2222222222222222,
              "#7201a8"
             ],
             [
              0.3333333333333333,
              "#9c179e"
             ],
             [
              0.4444444444444444,
              "#bd3786"
             ],
             [
              0.5555555555555556,
              "#d8576b"
             ],
             [
              0.6666666666666666,
              "#ed7953"
             ],
             [
              0.7777777777777778,
              "#fb9f3a"
             ],
             [
              0.8888888888888888,
              "#fdca26"
             ],
             [
              1,
              "#f0f921"
             ]
            ],
            "type": "surface"
           }
          ],
          "table": [
           {
            "cells": {
             "fill": {
              "color": "#EBF0F8"
             },
             "line": {
              "color": "white"
             }
            },
            "header": {
             "fill": {
              "color": "#C8D4E3"
             },
             "line": {
              "color": "white"
             }
            },
            "type": "table"
           }
          ]
         },
         "layout": {
          "annotationdefaults": {
           "arrowcolor": "#2a3f5f",
           "arrowhead": 0,
           "arrowwidth": 1
          },
          "autotypenumbers": "strict",
          "coloraxis": {
           "colorbar": {
            "outlinewidth": 0,
            "ticks": ""
           }
          },
          "colorscale": {
           "diverging": [
            [
             0,
             "#8e0152"
            ],
            [
             0.1,
             "#c51b7d"
            ],
            [
             0.2,
             "#de77ae"
            ],
            [
             0.3,
             "#f1b6da"
            ],
            [
             0.4,
             "#fde0ef"
            ],
            [
             0.5,
             "#f7f7f7"
            ],
            [
             0.6,
             "#e6f5d0"
            ],
            [
             0.7,
             "#b8e186"
            ],
            [
             0.8,
             "#7fbc41"
            ],
            [
             0.9,
             "#4d9221"
            ],
            [
             1,
             "#276419"
            ]
           ],
           "sequential": [
            [
             0,
             "#0d0887"
            ],
            [
             0.1111111111111111,
             "#46039f"
            ],
            [
             0.2222222222222222,
             "#7201a8"
            ],
            [
             0.3333333333333333,
             "#9c179e"
            ],
            [
             0.4444444444444444,
             "#bd3786"
            ],
            [
             0.5555555555555556,
             "#d8576b"
            ],
            [
             0.6666666666666666,
             "#ed7953"
            ],
            [
             0.7777777777777778,
             "#fb9f3a"
            ],
            [
             0.8888888888888888,
             "#fdca26"
            ],
            [
             1,
             "#f0f921"
            ]
           ],
           "sequentialminus": [
            [
             0,
             "#0d0887"
            ],
            [
             0.1111111111111111,
             "#46039f"
            ],
            [
             0.2222222222222222,
             "#7201a8"
            ],
            [
             0.3333333333333333,
             "#9c179e"
            ],
            [
             0.4444444444444444,
             "#bd3786"
            ],
            [
             0.5555555555555556,
             "#d8576b"
            ],
            [
             0.6666666666666666,
             "#ed7953"
            ],
            [
             0.7777777777777778,
             "#fb9f3a"
            ],
            [
             0.8888888888888888,
             "#fdca26"
            ],
            [
             1,
             "#f0f921"
            ]
           ]
          },
          "colorway": [
           "#636efa",
           "#EF553B",
           "#00cc96",
           "#ab63fa",
           "#FFA15A",
           "#19d3f3",
           "#FF6692",
           "#B6E880",
           "#FF97FF",
           "#FECB52"
          ],
          "font": {
           "color": "#2a3f5f"
          },
          "geo": {
           "bgcolor": "white",
           "lakecolor": "white",
           "landcolor": "white",
           "showlakes": true,
           "showland": true,
           "subunitcolor": "#C8D4E3"
          },
          "hoverlabel": {
           "align": "left"
          },
          "hovermode": "closest",
          "mapbox": {
           "style": "light"
          },
          "paper_bgcolor": "white",
          "plot_bgcolor": "white",
          "polar": {
           "angularaxis": {
            "gridcolor": "#EBF0F8",
            "linecolor": "#EBF0F8",
            "ticks": ""
           },
           "bgcolor": "white",
           "radialaxis": {
            "gridcolor": "#EBF0F8",
            "linecolor": "#EBF0F8",
            "ticks": ""
           }
          },
          "scene": {
           "xaxis": {
            "backgroundcolor": "white",
            "gridcolor": "#DFE8F3",
            "gridwidth": 2,
            "linecolor": "#EBF0F8",
            "showbackground": true,
            "ticks": "",
            "zerolinecolor": "#EBF0F8"
           },
           "yaxis": {
            "backgroundcolor": "white",
            "gridcolor": "#DFE8F3",
            "gridwidth": 2,
            "linecolor": "#EBF0F8",
            "showbackground": true,
            "ticks": "",
            "zerolinecolor": "#EBF0F8"
           },
           "zaxis": {
            "backgroundcolor": "white",
            "gridcolor": "#DFE8F3",
            "gridwidth": 2,
            "linecolor": "#EBF0F8",
            "showbackground": true,
            "ticks": "",
            "zerolinecolor": "#EBF0F8"
           }
          },
          "shapedefaults": {
           "line": {
            "color": "#2a3f5f"
           }
          },
          "ternary": {
           "aaxis": {
            "gridcolor": "#DFE8F3",
            "linecolor": "#A2B1C6",
            "ticks": ""
           },
           "baxis": {
            "gridcolor": "#DFE8F3",
            "linecolor": "#A2B1C6",
            "ticks": ""
           },
           "bgcolor": "white",
           "caxis": {
            "gridcolor": "#DFE8F3",
            "linecolor": "#A2B1C6",
            "ticks": ""
           }
          },
          "title": {
           "x": 0.05
          },
          "xaxis": {
           "automargin": true,
           "gridcolor": "#EBF0F8",
           "linecolor": "#EBF0F8",
           "ticks": "",
           "title": {
            "standoff": 15
           },
           "zerolinecolor": "#EBF0F8",
           "zerolinewidth": 2
          },
          "yaxis": {
           "automargin": true,
           "gridcolor": "#EBF0F8",
           "linecolor": "#EBF0F8",
           "ticks": "",
           "title": {
            "standoff": 15
           },
           "zerolinecolor": "#EBF0F8",
           "zerolinewidth": 2
          }
         }
        },
        "title": {
         "text": "Example of Subplots"
        },
        "xaxis": {
         "anchor": "y",
         "autorange": true,
         "domain": [
          0,
          0.45
         ],
         "range": [
          -0.5,
          2.5
         ],
         "type": "category"
        },
        "xaxis2": {
         "anchor": "y2",
         "autorange": true,
         "domain": [
          0.55,
          1
         ],
         "range": [
          0.7993972959765434,
          4.200602704023456
         ],
         "type": "linear"
        },
        "yaxis": {
         "anchor": "x",
         "autorange": true,
         "domain": [
          0,
          1
         ],
         "range": [
          0,
          15.789473684210526
         ],
         "type": "linear"
        },
        "yaxis2": {
         "anchor": "x2",
         "autorange": true,
         "domain": [
          0,
          1
         ],
         "range": [
          4.587378640776699,
          10.412621359223301
         ],
         "type": "linear"
        }
       }
      },
      "image/png": "[encoded data removed]",
      "text/html": [
       "<div>                            <div id=\"2d66f9fd-2f5f-4286-ae54-ae1795cca823\" class=\"plotly-graph-div\" style=\"height:525px; width:100%;\"></div>            <script type=\"text/javascript\">                require([\"plotly\"], function(Plotly) {                    window.PLOTLYENV=window.PLOTLYENV || {};                                    if (document.getElementById(\"2d66f9fd-2f5f-4286-ae54-ae1795cca823\")) {                    Plotly.newPlot(                        \"2d66f9fd-2f5f-4286-ae54-ae1795cca823\",                        [{\"name\":\"Sales\",\"x\":[\"A\",\"B\",\"C\"],\"y\":[10,15,8],\"type\":\"bar\",\"xaxis\":\"x\",\"yaxis\":\"y\"},{\"mode\":\"lines+markers\",\"name\":\"Trend\",\"x\":[1,2,3,4],\"y\":[5,9,7,10],\"type\":\"scatter\",\"xaxis\":\"x2\",\"yaxis\":\"y2\"}],                        {\"template\":{\"data\":{\"barpolar\":[{\"marker\":{\"line\":{\"color\":\"white\",\"width\":0.5},\"pattern\":{\"fillmode\":\"overlay\",\"size\":10,\"solidity\":0.2}},\"type\":\"barpolar\"}],\"bar\":[{\"error_x\":{\"color\":\"#2a3f5f\"},\"error_y\":{\"color\":\"#2a3f5f\"},\"marker\":{\"line\":{\"color\":\"white\",\"width\":0.5},\"pattern\":{\"fillmode\":\"overlay\",\"size\":10,\"solidity\":0.2}},\"type\":\"bar\"}],\"carpet\":[{\"aaxis\":{\"endlinecolor\":\"#2a3f5f\",\"gridcolor\":\"#C8D4E3\",\"linecolor\":\"#C8D4E3\",\"minorgridcolor\":\"#C8D4E3\",\"startlinecolor\":\"#2a3f5f\"},\"baxis\":{\"endlinecolor\":\"#2a3f5f\",\"gridcolor\":\"#C8D4E3\",\"linecolor\":\"#C8D4E3\",\"minorgridcolor\":\"#C8D4E3\",\"startlinecolor\":\"#2a3f5f\"},\"type\":\"carpet\"}],\"choropleth\":[{\"colorbar\":{\"outlinewidth\":0,\"ticks\":\"\"},\"type\":\"choropleth\"}],\"contourcarpet\":[{\"colorbar\":{\"outlinewidth\":0,\"ticks\":\"\"},\"type\":\"contourcarpet\"}],\"contour\":[{\"colorbar\":{\"outlinewidth\":0,\"ticks\":\"\"},\"colorscale\":[[0.0,\"#0d0887\"],[0.1111111111111111,\"#46039f\"],[0.2222222222222222,\"#7201a8\"],[0.3333333333333333,\"#9c179e\"],[0.4444444444444444,\"#bd3786\"],[0.5555555555555556,\"#d8576b\"],[0.6666666666666666,\"#ed7953\"],[0.7777777777777778,\"#fb9f3a\"],[0.8888888888888888,\"#fdca26\"],[1.0,\"#f0f921\"]],\"type\":\"contour\"}],\"heatmapgl\":[{\"colorbar\":{\"outlinewidth\":0,\"ticks\":\"\"},\"colorscale\":[[0.0,\"#0d0887\"],[0.1111111111111111,\"#46039f\"],[0.2222222222222222,\"#7201a8\"],[0.3333333333333333,\"#9c179e\"],[0.4444444444444444,\"#bd3786\"],[0.5555555555555556,\"#d8576b\"],[0.6666666666666666,\"#ed7953\"],[0.7777777777777778,\"#fb9f3a\"],[0.8888888888888888,\"#fdca26\"],[1.0,\"#f0f921\"]],\"type\":\"heatmapgl\"}],\"heatmap\":[{\"colorbar\":{\"outlinewidth\":0,\"ticks\":\"\"},\"colorscale\":[[0.0,\"#0d0887\"],[0.1111111111111111,\"#46039f\"],[0.2222222222222222,\"#7201a8\"],[0.3333333333333333,\"#9c179e\"],[0.4444444444444444,\"#bd3786\"],[0.5555555555555556,\"#d8576b\"],[0.6666666666666666,\"#ed7953\"],[0.7777777777777778,\"#fb9f3a\"],[0.8888888888888888,\"#fdca26\"],[1.0,\"#f0f921\"]],\"type\":\"heatmap\"}],\"histogram2dcontour\":[{\"colorbar\":{\"outlinewidth\":0,\"ticks\":\"\"},\"colorscale\":[[0.0,\"#0d0887\"],[0.1111111111111111,\"#46039f\"],[0.2222222222222222,\"#7201a8\"],[0.3333333333333333,\"#9c179e\"],[0.4444444444444444,\"#bd3786\"],[0.5555555555555556,\"#d8576b\"],[0.6666666666666666,\"#ed7953\"],[0.7777777777777778,\"#fb9f3a\"],[0.8888888888888888,\"#fdca26\"],[1.0,\"#f0f921\"]],\"type\":\"histogram2dcontour\"}],\"histogram2d\":[{\"colorbar\":{\"outlinewidth\":0,\"ticks\":\"\"},\"colorscale\":[[0.0,\"#0d0887\"],[0.1111111111111111,\"#46039f\"],[0.2222222222222222,\"#7201a8\"],[0.3333333333333333,\"#9c179e\"],[0.4444444444444444,\"#bd3786\"],[0.5555555555555556,\"#d8576b\"],[0.6666666666666666,\"#ed7953\"],[0.7777777777777778,\"#fb9f3a\"],[0.8888888888888888,\"#fdca26\"],[1.0,\"#f0f921\"]],\"type\":\"histogram2d\"}],\"histogram\":[{\"marker\":{\"pattern\":{\"fillmode\":\"overlay\",\"size\":10,\"solidity\":0.2}},\"type\":\"histogram\"}],\"mesh3d\":[{\"colorbar\":{\"outlinewidth\":0,\"ticks\":\"\"},\"type\":\"mesh3d\"}],\"parcoords\":[{\"line\":{\"colorbar\":{\"outlinewidth\":0,\"ticks\":\"\"}},\"type\":\"parcoords\"}],\"pie\":[{\"automargin\":true,\"type\":\"pie\"}],\"scatter3d\":[{\"line\":{\"colorbar\":{\"outlinewidth\":0,\"ticks\":\"\"}},\"marker\":{\"colorbar\":{\"outlinewidth\":0,\"ticks\":\"\"}},\"type\":\"scatter3d\"}],\"scattercarpet\":[{\"marker\":{\"colorbar\":{\"outlinewidth\":0,\"ticks\":\"\"}},\"type\":\"scattercarpet\"}],\"scattergeo\":[{\"marker\":{\"colorbar\":{\"outlinewidth\":0,\"ticks\":\"\"}},\"type\":\"scattergeo\"}],\"scattergl\":[{\"marker\":{\"colorbar\":{\"outlinewidth\":0,\"ticks\":\"\"}},\"type\":\"scattergl\"}],\"scattermapbox\":[{\"marker\":{\"colorbar\":{\"outlinewidth\":0,\"ticks\":\"\"}},\"type\":\"scattermapbox\"}],\"scatterpolargl\":[{\"marker\":{\"colorbar\":{\"outlinewidth\":0,\"ticks\":\"\"}},\"type\":\"scatterpolargl\"}],\"scatterpolar\":[{\"marker\":{\"colorbar\":{\"outlinewidth\":0,\"ticks\":\"\"}},\"type\":\"scatterpolar\"}],\"scatter\":[{\"fillpattern\":{\"fillmode\":\"overlay\",\"size\":10,\"solidity\":0.2},\"type\":\"scatter\"}],\"scatterternary\":[{\"marker\":{\"colorbar\":{\"outlinewidth\":0,\"ticks\":\"\"}},\"type\":\"scatterternary\"}],\"surface\":[{\"colorbar\":{\"outlinewidth\":0,\"ticks\":\"\"},\"colorscale\":[[0.0,\"#0d0887\"],[0.1111111111111111,\"#46039f\"],[0.2222222222222222,\"#7201a8\"],[0.3333333333333333,\"#9c179e\"],[0.4444444444444444,\"#bd3786\"],[0.5555555555555556,\"#d8576b\"],[0.6666666666666666,\"#ed7953\"],[0.7777777777777778,\"#fb9f3a\"],[0.8888888888888888,\"#fdca26\"],[1.0,\"#f0f921\"]],\"type\":\"surface\"}],\"table\":[{\"cells\":{\"fill\":{\"color\":\"#EBF0F8\"},\"line\":{\"color\":\"white\"}},\"header\":{\"fill\":{\"color\":\"#C8D4E3\"},\"line\":{\"color\":\"white\"}},\"type\":\"table\"}]},\"layout\":{\"annotationdefaults\":{\"arrowcolor\":\"#2a3f5f\",\"arrowhead\":0,\"arrowwidth\":1},\"autotypenumbers\":\"strict\",\"coloraxis\":{\"colorbar\":{\"outlinewidth\":0,\"ticks\":\"\"}},\"colorscale\":{\"diverging\":[[0,\"#8e0152\"],[0.1,\"#c51b7d\"],[0.2,\"#de77ae\"],[0.3,\"#f1b6da\"],[0.4,\"#fde0ef\"],[0.5,\"#f7f7f7\"],[0.6,\"#e6f5d0\"],[0.7,\"#b8e186\"],[0.8,\"#7fbc41\"],[0.9,\"#4d9221\"],[1,\"#276419\"]],\"sequential\":[[0.0,\"#0d0887\"],[0.1111111111111111,\"#46039f\"],[0.2222222222222222,\"#7201a8\"],[0.3333333333333333,\"#9c179e\"],[0.4444444444444444,\"#bd3786\"],[0.5555555555555556,\"#d8576b\"],[0.6666666666666666,\"#ed7953\"],[0.7777777777777778,\"#fb9f3a\"],[0.8888888888888888,\"#fdca26\"],[1.0,\"#f0f921\"]],\"sequentialminus\":[[0.0,\"#0d0887\"],[0.1111111111111111,\"#46039f\"],[0.2222222222222222,\"#7201a8\"],[0.3333333333333333,\"#9c179e\"],[0.4444444444444444,\"#bd3786\"],[0.5555555555555556,\"#d8576b\"],[0.6666666666666666,\"#ed7953\"],[0.7777777777777778,\"#fb9f3a\"],[0.8888888888888888,\"#fdca26\"],[1.0,\"#f0f921\"]]},\"colorway\":[\"#636efa\",\"#EF553B\",\"#00cc96\",\"#ab63fa\",\"#FFA15A\",\"#19d3f3\",\"#FF6692\",\"#B6E880\",\"#FF97FF\",\"#FECB52\"],\"font\":{\"color\":\"#2a3f5f\"},\"geo\":{\"bgcolor\":\"white\",\"lakecolor\":\"white\",\"landcolor\":\"white\",\"showlakes\":true,\"showland\":true,\"subunitcolor\":\"#C8D4E3\"},\"hoverlabel\":{\"align\":\"left\"},\"hovermode\":\"closest\",\"mapbox\":{\"style\":\"light\"},\"paper_bgcolor\":\"white\",\"plot_bgcolor\":\"white\",\"polar\":{\"angularaxis\":{\"gridcolor\":\"#EBF0F8\",\"linecolor\":\"#EBF0F8\",\"ticks\":\"\"},\"bgcolor\":\"white\",\"radialaxis\":{\"gridcolor\":\"#EBF0F8\",\"linecolor\":\"#EBF0F8\",\"ticks\":\"\"}},\"scene\":{\"xaxis\":{\"backgroundcolor\":\"white\",\"gridcolor\":\"#DFE8F3\",\"gridwidth\":2,\"linecolor\":\"#EBF0F8\",\"showbackground\":true,\"ticks\":\"\",\"zerolinecolor\":\"#EBF0F8\"},\"yaxis\":{\"backgroundcolor\":\"white\",\"gridcolor\":\"#DFE8F3\",\"gridwidth\":2,\"linecolor\":\"#EBF0F8\",\"showbackground\":true,\"ticks\":\"\",\"zerolinecolor\":\"#EBF0F8\"},\"zaxis\":{\"backgroundcolor\":\"white\",\"gridcolor\":\"#DFE8F3\",\"gridwidth\":2,\"linecolor\":\"#EBF0F8\",\"showbackground\":true,\"ticks\":\"\",\"zerolinecolor\":\"#EBF0F8\"}},\"shapedefaults\":{\"line\":{\"color\":\"#2a3f5f\"}},\"ternary\":{\"aaxis\":{\"gridcolor\":\"#DFE8F3\",\"linecolor\":\"#A2B1C6\",\"ticks\":\"\"},\"baxis\":{\"gridcolor\":\"#DFE8F3\",\"linecolor\":\"#A2B1C6\",\"ticks\":\"\"},\"bgcolor\":\"white\",\"caxis\":{\"gridcolor\":\"#DFE8F3\",\"linecolor\":\"#A2B1C6\",\"ticks\":\"\"}},\"title\":{\"x\":0.05},\"xaxis\":{\"automargin\":true,\"gridcolor\":\"#EBF0F8\",\"linecolor\":\"#EBF0F8\",\"ticks\":\"\",\"title\":{\"standoff\":15},\"zerolinecolor\":\"#EBF0F8\",\"zerolinewidth\":2},\"yaxis\":{\"automargin\":true,\"gridcolor\":\"#EBF0F8\",\"linecolor\":\"#EBF0F8\",\"ticks\":\"\",\"title\":{\"standoff\":15},\"zerolinecolor\":\"#EBF0F8\",\"zerolinewidth\":2}}},\"xaxis\":{\"anchor\":\"y\",\"domain\":[0.0,0.45]},\"yaxis\":{\"anchor\":\"x\",\"domain\":[0.0,1.0]},\"xaxis2\":{\"anchor\":\"y2\",\"domain\":[0.55,1.0]},\"yaxis2\":{\"anchor\":\"x2\",\"domain\":[0.0,1.0]},\"annotations\":[{\"font\":{\"size\":16},\"showarrow\":false,\"text\":\"Bar Chart\",\"x\":0.225,\"xanchor\":\"center\",\"xref\":\"paper\",\"y\":1.0,\"yanchor\":\"bottom\",\"yref\":\"paper\"},{\"font\":{\"size\":16},\"showarrow\":false,\"text\":\"Line Chart\",\"x\":0.775,\"xanchor\":\"center\",\"xref\":\"paper\",\"y\":1.0,\"yanchor\":\"bottom\",\"yref\":\"paper\"}],\"title\":{\"text\":\"Example of Subplots\"}},                        {\"responsive\": true}                    ).then(function(){\n",
       "                            \n",
       "var gd = document.getElementById('2d66f9fd-2f5f-4286-ae54-ae1795cca823');\n",
       "var x = new MutationObserver(function (mutations, observer) {{\n",
       "        var display = window.getComputedStyle(gd).display;\n",
       "        if (!display || display === 'none') {{\n",
       "            console.log([gd, 'removed!']);\n",
       "            Plotly.purge(gd);\n",
       "            observer.disconnect();\n",
       "        }}\n",
       "}});\n",
       "\n",
       "// Listen for the removal of the full notebook cells\n",
       "var notebookContainer = gd.closest('#notebook-container');\n",
       "if (notebookContainer) {{\n",
       "    x.observe(notebookContainer, {childList: true});\n",
       "}}\n",
       "\n",
       "// Listen for the clearing of the current output cell\n",
       "var outputEl = gd.closest('.output');\n",
       "if (outputEl) {{\n",
       "    x.observe(outputEl, {childList: true});\n",
       "}}\n",
       "\n",
       "                        })                };                });            </script>        </div>"
      ]
     },
     "metadata": {},
     "output_type": "display_data"
    }
   ],
   "source": [
    "figsp = make_subplots(rows=1, cols=2, subplot_titles=(\"Bar Chart\", \"Line Chart\"))\n",
    "figsp.add_trace(go.Bar(x=['A','B','C'], y=[10,15,8], name=\"Sales\"), row=1, col=1)\n",
    "figsp.add_trace(go.Scatter(x=[1,2,3,4], y=[5,9,7,10], mode='lines+markers', name=\"Trend\"), row=1, col=2)\n",
    "\n",
    "figsp.update_layout(title=\"Example of Subplots\", template=\"plotly_white\")\n",
    "figsp.show()"
   ]
  },
  {
   "cell_type": "markdown",
   "id": "1a7894eb-6d9f-4a29-9dc2-ba9cffe4d9c2",
   "metadata": {},
   "source": [
    "#### Save plots as HTML"
   ]
  },
  {
   "cell_type": "code",
   "execution_count": 54,
   "id": "5c37b4b7-316c-4e8c-82df-f7a2f05a82db",
   "metadata": {},
   "outputs": [],
   "source": [
    "fightml = go.Figure(go.Bar(x=['Q1','Q2','Q3','Q4'], y=[300,400,350,500]))\n",
    "fightml.update_layout(title=\"Quarterly Sales\")\n",
    "\n",
    "# Save as interactive HTML\n",
    "pio.write_html(fig, file='quarterly_sales.html', auto_open=False)"
   ]
  },
  {
   "cell_type": "markdown",
   "id": "ec6cb650-5623-495d-98f3-ed7bbc55d44b",
   "metadata": {},
   "source": [
    "#### Creating a distribution plot such as Histograms"
   ]
  },
  {
   "cell_type": "code",
   "execution_count": 63,
   "id": "cc9d62db-5bef-4d73-9d48-490b44387f62",
   "metadata": {},
   "outputs": [
    {
     "data": {
      "application/vnd.plotly.v1+json": {
       "config": {
        "plotlyServerURL": "https://plot.ly"
       },
       "data": [
        {
         "histnorm": "probability density",
         "legendgroup": "Group A",
         "marker": {
          "color": "rgb(31, 119, 180)"
         },
         "name": "Group A",
         "opacity": 0.7,
         "type": "histogram",
         "x": [
          0.5226106571422477,
          -0.9862045594268695,
          0.2523149705675462,
          0.4340712301624237,
          0.4881503216726591,
          -0.5677487462413985,
          0.5299269369063085,
          -1.6324042323837882,
          0.32294523259966224,
          0.08101404059844737,
          1.011055820492742,
          0.7493593064480719,
          0.3581896660668545,
          -0.4326037722127551,
          -0.9429691992146093,
          -0.8810177874415466,
          0.42536312870641524,
          -0.3945079073485604,
          0.28441222616499373,
          -0.3614823117769486,
          2.94911572502335,
          -3.1289737033914196,
          0.05431017241079503,
          -0.7872656150196359,
          0.2002524088958735,
          -1.3326792945033281,
          0.4152937588316102,
          -0.19603901523666203,
          1.17133572138937,
          -0.36284399195738004,
          0.48145573868306013,
          0.3339965409602627,
          -0.45320911037304795,
          2.568748968513351,
          -0.22642297686272678,
          -0.46426163905556905,
          0.2747955442946937,
          0.22380898825325216,
          -1.5991729805906678,
          -0.4968096434281557,
          1.5799038690097762,
          0.0002943716616984785,
          0.9675784943055157,
          -0.9149053311797869,
          -0.1956774732818473,
          -1.0353125507683523,
          -0.14014201284118621,
          0.14661725926151367,
          -1.6708580298035378,
          -0.5346162416664917,
          0.07331740436358339,
          0.2850545394414067,
          0.7408591920689229,
          -0.6151413059930887,
          -0.16896608136836458,
          -0.3216381130888585,
          -0.5629790634934019,
          0.18724127935958723,
          0.08272169433011438,
          -0.7429831206731979,
          -2.030237522361153,
          0.22624574499984695,
          -1.6841709644359524,
          -0.47347899632092083,
          -0.11487799110834873,
          -0.7658473128439227,
          1.783903163561235,
          1.0727747652558608,
          -0.8141229496917883,
          1.4453949473067855,
          0.021381095728903746,
          0.5392073668044653,
          -0.3472507935326009,
          -0.2272483793101159,
          0.13337916445051215,
          -1.8919005498161832,
          1.3039887691985659,
          -0.11694217497628429,
          -0.6620049439521447,
          0.08415242932347888,
          0.12234432861542997,
          0.5132557382648872,
          -0.7400426597678136,
          -1.736285600165537,
          -0.27888135060080127,
          1.5485521800775177,
          -0.5420162706298582,
          0.9559521802264879,
          1.5849877476906673,
          1.0348553967183918,
          0.861479121809729,
          -0.5302601456620268,
          0.6452467596350188,
          -0.11336747674616965,
          -0.11163748640781261,
          0.9395672245325211,
          0.4187782387854749,
          1.0918119532709099,
          -1.1125163536707408,
          1.203660963340982,
          0.6971470264345518,
          0.36315295434485595,
          0.5680282224531296,
          0.4575137894069297,
          0.1404837070479387,
          0.49203983943262375,
          1.038076308243128,
          0.46857104917450265,
          0.4061769552516953,
          0.21099303106174186,
          -0.8504243190233117,
          -0.8385927045185514,
          0.7221637167404696,
          -1.116382088396497,
          0.18081843898651118,
          1.3095300230586284,
          0.4967400706568351,
          -0.5440515298820844,
          2.2033818365339757,
          -1.7928643944557874,
          -0.6417350232775179,
          -1.0913622187285612,
          0.9507287155074792,
          0.2670048606496645,
          0.3845566869978087,
          -1.2184057559045904,
          1.5851054842973498,
          0.13271211655240575,
          0.1777662973113108,
          -0.11024079280676119,
          -0.31128050088209996,
          0.003631973487656079,
          0.010638602489157644,
          -1.1589446173620501,
          -1.206261615189687,
          -0.29536661492881783,
          0.3941726686653391,
          0.7235555939753961,
          -0.7059245238109748,
          -0.5275449280099233,
          0.12640554800305276,
          -0.6195292105088843,
          -0.6518652845261954,
          0.3167274848137016,
          -0.35556118185933033,
          -1.0898392316578334,
          1.3737119723506952,
          0.4698846438969035,
          -0.7629508516755182,
          -0.6756225935232677,
          0.48304770206339487,
          0.7018254039766645,
          -0.37257240542353126,
          -0.6669523288783781,
          0.44006852001423474,
          1.176496330624501,
          0.18848987955605678,
          0.19852722502607975,
          0.2562480562204262,
          -0.11634881522587709,
          0.4814100725951739,
          -0.9994836182052129,
          1.4214692165141778,
          0.6473724613427756,
          0.4874386039656413,
          -0.665255508584248,
          0.35927471556265544,
          0.4002673859331011,
          0.9416393061413662,
          -1.5380543949881074,
          0.85506565552347,
          1.8948417014060275,
          0.9225513541007317,
          1.107421693453896,
          -1.0595383846941184,
          -0.32269409271491356,
          -0.0441791629318729,
          0.09853848133911114,
          1.302420386936118,
          1.0787303769537715,
          -0.6827148583641135,
          -1.4018666439394194,
          -0.5175961004213605,
          0.9708406212962156,
          -0.6934978337692776,
          -0.10291097814743211,
          0.05738499511897776,
          1.1172061257351245,
          1.5924218334986535,
          -0.6583703152025933,
          0.0878820491470042,
          -0.14796151409183633,
          -0.2829053897245801,
          -0.5330530579385333,
          -0.7861517875876604,
          1.5618896518129424,
          -1.5258348741228531,
          -1.3141816263127108,
          0.7369508705927297,
          -0.06919395198785923
         ],
         "xaxis": "x",
         "xbins": {
          "end": 2.94911572502335,
          "size": 0.2,
          "start": -3.1289737033914196
         },
         "yaxis": "y"
        },
        {
         "histnorm": "probability density",
         "legendgroup": "Group B",
         "marker": {
          "color": "rgb(255, 127, 14)"
         },
         "name": "Group B",
         "opacity": 0.7,
         "type": "histogram",
         "x": [
          0.6700491412140166,
          3.2691557906147706,
          3.4862887583342745,
          0.543321686598689,
          2.5000020108076124,
          0.7543424835190429,
          3.8334031311166914,
          1.2062535107257943,
          1.8693318580674043,
          1.5000046114996557,
          1.8347837816868668,
          -0.6972954147447705,
          2.7348086368970423,
          3.258096869871526,
          1.231231742451845,
          1.9710510773694554,
          0.9271372672694123,
          1.8411793208467964,
          1.4067307365384154,
          1.4001366894425917,
          1.5087192818307478,
          2.224952054976384,
          0.9100981462381308,
          2.954981427523218,
          1.8224300106537572,
          2.963165257791669,
          1.9384398490100545,
          0.6996088386930526,
          2.0276824814573144,
          2.1548033503238004,
          1.371418864886832,
          0.09911676898967747,
          2.44695976148266,
          2.268679679876869,
          2.2387837150682093,
          3.059402760419637,
          2.5120444643057347,
          1.8246015851321837,
          0.8507925243229388,
          1.6884695499563942,
          2.600377130812438,
          2.391524093431419,
          2.621732332790492,
          2.1654251145667276,
          3.1365948883293693,
          1.0109645664553102,
          2.585438553034426,
          1.8963777328248208,
          2.87596164796499,
          1.3457841581231236,
          1.7900071852989106,
          0.25620644679793636,
          0.7149142985188313,
          1.3797109400011363,
          3.6696638000313735,
          3.6911182191454395,
          2.4316169269773025,
          3.0270306096477277,
          0.7600964760020803,
          2.0249386625280836,
          -0.831888672056476,
          0.33172161606652906,
          3.702435706882773,
          2.199454147042249,
          1.5204206593667744,
          3.1599067571892094,
          3.3016119606660608,
          2.1332465104412575,
          3.0825787974022276,
          1.3652439099421974,
          2.3140936761856103,
          3.6757796834462555,
          3.645138047902138,
          1.8240845240901296,
          1.8171339406914426,
          2.127172879230957,
          0.5206785254576387,
          1.0024188291635459,
          3.068595056155027,
          1.4100285343369603,
          1.2889674027792806,
          3.186710281488124,
          1.568927292847317,
          2.73383148169614,
          2.8751502816876084,
          1.8821884362492753,
          2.229254694496547,
          2.5647712812838486,
          2.117564171158039,
          2.0547535832727846,
          1.857239425596543,
          4.156568042204068,
          2.3936759811804404,
          2.245192039901097,
          1.239954055875945,
          2.2468770610519027,
          1.8605351316633376,
          1.9162053662584737,
          2.3010781791075803,
          2.3373455811014727,
          3.4796331223103207,
          4.477478637819356,
          2.6548084295546115,
          2.6642246749126977,
          2.985809935781125,
          2.5536292397552365,
          2.1505853680451628,
          3.172170143797464,
          -0.42131550752547753,
          1.5934198068243688,
          2.690296958765697,
          2.320997616343173,
          1.269078841703588,
          1.9342862511313679,
          1.2091847986454283,
          0.6657676672343105,
          2.2506053313045493,
          2.2978782125982353,
          2.1587793125688317,
          1.5129381031983338,
          2.8308281295336855,
          3.860821065794456,
          3.90946754334815,
          -0.16050554906193293,
          0.9585820519921966,
          1.905693272170756,
          2.7563017536018712,
          2.5695389190437763,
          2.3546665721458786,
          2.264652109521661,
          2.5314671108103313,
          0.026624698781496425,
          3.875949881981085,
          2.7689773736853556,
          2.21580699439299,
          1.4625671050407996,
          1.2440396620954226,
          2.4277510432529916,
          -0.30862370300825903,
          0.998444813050644,
          1.7152857267225357,
          1.9823012780167264,
          0.47909148926732215,
          3.108352140589506,
          1.74361638878487,
          1.506705337340562,
          1.5178242490071308,
          1.9591913645062153,
          1.618220128982703,
          2.271102158859126,
          1.5138467884290385,
          2.4304253971947043,
          1.839477055872798,
          2.6167931017562913,
          1.2319233774381764,
          1.8908368617336584,
          2.6519662506132047,
          1.222858104648423,
          0.7735542274729876,
          2.3624033028693416,
          0.9245979528785857,
          1.1569994577557245,
          0.49611144802211316,
          3.001822119903552,
          -0.03124154310442462,
          0.6405390972176759,
          0.47976002933849005,
          0.04047372185083953,
          2.7824831191833432,
          1.4594969216189313,
          4.219394683240266,
          1.2144467498868239,
          1.9149572840175748,
          1.4577626117119897,
          2.1201073397382793,
          2.520796618755196,
          1.4865830562329427,
          0.29319883656195334,
          2.6822987508959177,
          2.446178845507568,
          2.690855843380838,
          1.2024425351596242,
          3.5714152733549973,
          2.9575776091310324,
          2.637339214089947,
          2.3915046879351247,
          3.086266333108208,
          0.45469236854824246,
          0.30434862795936835,
          2.8488373234617876,
          2.5459305055161265,
          2.3039290312225815,
          3.400183634591133,
          2.5510952425903506,
          4.5979149668354165,
          1.5246271071882933,
          2.7583305120505823,
          4.251689483157774,
          0.49385978879616643,
          1.4308860613116883
         ],
         "xaxis": "x",
         "xbins": {
          "end": 4.5979149668354165,
          "size": 0.2,
          "start": -0.831888672056476
         },
         "yaxis": "y"
        },
        {
         "legendgroup": "Group A",
         "marker": {
          "color": "rgb(31, 119, 180)"
         },
         "mode": "lines",
         "name": "Group A",
         "showlegend": false,
         "type": "scatter",
         "x": [
          -3.1289737033914196,
          -3.11681752453459,
          -3.1046613456777603,
          -3.092505166820931,
          -3.0803489879641015,
          -3.0681928091072717,
          -3.0560366302504423,
          -3.043880451393613,
          -3.0317242725367834,
          -3.0195680936799536,
          -3.007411914823124,
          -2.995255735966295,
          -2.983099557109465,
          -2.9709433782526355,
          -2.958787199395806,
          -2.9466310205389763,
          -2.934474841682147,
          -2.9223186628253175,
          -2.9101624839684876,
          -2.8980063051116582,
          -2.885850126254829,
          -2.8736939473979994,
          -2.8615377685411696,
          -2.84938158968434,
          -2.837225410827511,
          -2.825069231970681,
          -2.8129130531138515,
          -2.800756874257022,
          -2.7886006954001923,
          -2.776444516543363,
          -2.7642883376865335,
          -2.7521321588297036,
          -2.7399759799728742,
          -2.727819801116045,
          -2.715663622259215,
          -2.7035074434023856,
          -2.691351264545556,
          -2.6791950856887268,
          -2.667038906831897,
          -2.6548827279750675,
          -2.642726549118238,
          -2.6305703702614083,
          -2.618414191404579,
          -2.6062580125477495,
          -2.59410183369092,
          -2.58194565483409,
          -2.569789475977261,
          -2.5576332971204314,
          -2.5454771182636016,
          -2.533320939406772,
          -2.5211647605499428,
          -2.509008581693113,
          -2.4968524028362835,
          -2.484696223979454,
          -2.4725400451226243,
          -2.460383866265795,
          -2.4482276874089655,
          -2.4360715085521356,
          -2.423915329695306,
          -2.411759150838477,
          -2.399602971981647,
          -2.3874467931248176,
          -2.375290614267988,
          -2.3631344354111588,
          -2.350978256554329,
          -2.3388220776974995,
          -2.32666589884067,
          -2.3145097199838407,
          -2.302353541127011,
          -2.2901973622701814,
          -2.278041183413352,
          -2.265885004556522,
          -2.253728825699693,
          -2.2415726468428634,
          -2.2294164679860335,
          -2.217260289129204,
          -2.2051041102723747,
          -2.192947931415545,
          -2.1807917525587155,
          -2.168635573701886,
          -2.1564793948450562,
          -2.144323215988227,
          -2.1321670371313974,
          -2.1200108582745676,
          -2.107854679417738,
          -2.095698500560909,
          -2.083542321704079,
          -2.0713861428472495,
          -2.05922996399042,
          -2.0470737851335903,
          -2.0349176062767613,
          -2.0227614274199315,
          -2.0106052485631016,
          -1.9984490697062725,
          -1.9862928908494428,
          -1.9741367119926132,
          -1.9619805331357838,
          -1.9498243542789542,
          -1.9376681754221248,
          -1.9255119965652951,
          -1.9133558177084655,
          -1.9011996388516361,
          -1.8890434599948067,
          -1.8768872811379769,
          -1.8647311022811475,
          -1.8525749234243178,
          -1.8404187445674884,
          -1.8282625657106588,
          -1.8161063868538292,
          -1.8039502079969998,
          -1.7917940291401704,
          -1.7796378502833405,
          -1.7674816714265111,
          -1.7553254925696817,
          -1.743169313712852,
          -1.7310131348560225,
          -1.7188569559991929,
          -1.7067007771423635,
          -1.694544598285534,
          -1.6823884194287042,
          -1.6702322405718748,
          -1.6580760617150454,
          -1.6459198828582158,
          -1.6337637040013862,
          -1.6216075251445565,
          -1.6094513462877271,
          -1.5972951674308977,
          -1.5851389885740679,
          -1.5729828097172385,
          -1.560826630860409,
          -1.5486704520035794,
          -1.5365142731467498,
          -1.5243580942899204,
          -1.5122019154330908,
          -1.5000457365762614,
          -1.4878895577194315,
          -1.4757333788626021,
          -1.4635772000057727,
          -1.4514210211489431,
          -1.4392648422921135,
          -1.427108663435284,
          -1.4149524845784545,
          -1.402796305721625,
          -1.3906401268647952,
          -1.3784839480079658,
          -1.3663277691511364,
          -1.3541715902943068,
          -1.3420154114374772,
          -1.3298592325806478,
          -1.3177030537238181,
          -1.3055468748669887,
          -1.293390696010159,
          -1.2812345171533295,
          -1.2690783382965,
          -1.2569221594396704,
          -1.2447659805828408,
          -1.2326098017260114,
          -1.2204536228691818,
          -1.2082974440123524,
          -1.1961412651555228,
          -1.1839850862986931,
          -1.1718289074418637,
          -1.1596727285850343,
          -1.1475165497282045,
          -1.135360370871375,
          -1.1232041920145455,
          -1.111048013157716,
          -1.0988918343008867,
          -1.0867356554440568,
          -1.074579476587227,
          -1.062423297730398,
          -1.0502671188735682,
          -1.0381109400167388,
          -1.0259547611599094,
          -1.0137985823030795,
          -1.00164240344625,
          -0.9894862245894207,
          -0.9773300457325909,
          -0.9651738668757615,
          -0.953017688018932,
          -0.9408615091621026,
          -0.9287053303052728,
          -0.9165491514484434,
          -0.904392972591614,
          -0.8922367937347842,
          -0.8800806148779547,
          -0.8679244360211253,
          -0.8557682571642955,
          -0.8436120783074661,
          -0.8314558994506367,
          -0.8192997205938068,
          -0.8071435417369774,
          -0.794987362880148,
          -0.7828311840233182,
          -0.7706750051664888,
          -0.7585188263096594,
          -0.74636264745283,
          -0.7342064685960001,
          -0.7220502897391707,
          -0.7098941108823413,
          -0.6977379320255115,
          -0.6855817531686825,
          -0.6734255743118527,
          -0.6612693954550228,
          -0.6491132165981939,
          -0.636957037741364,
          -0.6248008588845342,
          -0.6126446800277048,
          -0.6004885011708754,
          -0.5883323223140455,
          -0.5761761434572161,
          -0.5640199646003867,
          -0.5518637857435573,
          -0.5397076068867275,
          -0.5275514280298981,
          -0.5153952491730687,
          -0.5032390703162388,
          -0.49108289145940986,
          -0.47892671260258,
          -0.46677053374575017,
          -0.4546143548889212,
          -0.44245817603209137,
          -0.4303019971752615,
          -0.41814581831843256,
          -0.4059896394616027,
          -0.3938334606047733,
          -0.3816772817479439,
          -0.36952110289111406,
          -0.35736492403428466,
          -0.3452087451774548,
          -0.3330525663206254,
          -0.320896387463796,
          -0.30874020860696616,
          -0.2965840297501372,
          -0.28442785089330735,
          -0.2722716720364775,
          -0.26011549317964855,
          -0.2479593143228187,
          -0.23580313546598886,
          -0.2236469566091599,
          -0.21149077775233005,
          -0.19933459889550065,
          -0.18717842003867124,
          -0.1750222411818414,
          -0.162866062325012,
          -0.1507098834681826,
          -0.13855370461135275,
          -0.12639752575452334,
          -0.1142413468976935,
          -0.10208516804086454,
          -0.08992898918403469,
          -0.07777281032720484,
          -0.06561663147037589,
          -0.05346045261354604,
          -0.04130427375671619,
          -0.029148094899887234,
          -0.016991916043057387,
          -0.004835737186227984,
          0.007320441670601419,
          0.019476620527431265,
          0.03163279938426067,
          0.04378897824109007,
          0.05594515709791992,
          0.06810133595474932,
          0.08025751481157872,
          0.09241369366840813,
          0.10456987252523797,
          0.11672605138206782,
          0.12888223023889678,
          0.14103840909572662,
          0.15319458795255647,
          0.16535076680938543,
          0.17750694566621528,
          0.18966312452304468,
          0.20181930337987408,
          0.21397548223670393,
          0.22613166109353333,
          0.23828783995036273,
          0.2504440188071926,
          0.262600197664022,
          0.2747563765208514,
          0.2869125553776808,
          0.29906873423451064,
          0.31122491309134004,
          0.32338109194816944,
          0.3355372708049993,
          0.34769344966182913,
          0.3598496285186581,
          0.37200580737548794,
          0.38416198623231734,
          0.39631816508914675,
          0.4084743439459766,
          0.420630522802806,
          0.4327867016596354,
          0.44494288051646524,
          0.45709905937329465,
          0.46925523823012405,
          0.48141141708695345,
          0.4935675959437833,
          0.5057237748006127,
          0.5178799536574421,
          0.530036132514272,
          0.5421923113711014,
          0.5543484902279308,
          0.5665046690847606,
          0.5786608479415896,
          0.5908170267984194,
          0.6029732056552493,
          0.6151293845120787,
          0.6272855633689081,
          0.6394417422257379,
          0.6515979210825673,
          0.6637540999393967,
          0.6759102787962261,
          0.688066457653056,
          0.7002226365098854,
          0.7123788153667148,
          0.7245349942235446,
          0.736691173080374,
          0.7488473519372034,
          0.7610035307940333,
          0.7731597096508622,
          0.7853158885076921,
          0.7974720673645219,
          0.8096282462213509,
          0.8217844250781807,
          0.8339406039350106,
          0.84609678279184,
          0.8582529616486694,
          0.8704091405054988,
          0.8825653193623286,
          0.8947214982191576,
          0.9068776770759874,
          0.9190338559328173,
          0.9311900347896462,
          0.9433462136464761,
          0.9555023925033059,
          0.9676585713601358,
          0.9798147502169656,
          0.9919709290737937,
          1.0041271079306235,
          1.0162832867874534,
          1.0284394656442832,
          1.040595644501113,
          1.052751823357942,
          1.064908002214771,
          1.0770641810716008,
          1.0892203599284307,
          1.1013765387852605,
          1.1135327176420895,
          1.1256888964989193,
          1.1378450753557483,
          1.1500012542125782,
          1.162157433069408,
          1.1743136119262378,
          1.1864697907830668,
          1.1986259696398966,
          1.2107821484967265,
          1.2229383273535555,
          1.2350945062103853,
          1.2472506850672143,
          1.259406863924044,
          1.271563042780874,
          1.2837192216377038,
          1.2958754004945328,
          1.3080315793513617,
          1.3201877582081916,
          1.3323439370650214,
          1.3445001159218513,
          1.356656294778681,
          1.36881247363551,
          1.380968652492339,
          1.3931248313491689,
          1.4052810102059987,
          1.4174371890628286,
          1.4295933679196584,
          1.4417495467764874,
          1.4539057256333163,
          1.4660619044901462,
          1.478218083346976,
          1.4903742622038059,
          1.5025304410606348,
          1.5146866199174647,
          1.5268427987742936,
          1.5389989776311235,
          1.5511551564879533,
          1.5633113353447832,
          1.5754675142016121,
          1.587623693058442,
          1.599779871915271,
          1.6119360507721008,
          1.6240922296289306,
          1.6362484084857596,
          1.6484045873425894,
          1.6605607661994193,
          1.6727169450562491,
          1.684873123913078,
          1.697029302769907,
          1.709185481626737,
          1.7213416604835667,
          1.7334978393403966,
          1.7456540181972264,
          1.7578101970540545,
          1.7699663759108843,
          1.7821225547677142,
          1.794278733624544,
          1.8064349124813739,
          1.8185910913382037,
          1.8307472701950318,
          1.8429034490518617,
          1.8550596279086915,
          1.8672158067655213,
          1.8793719856223512,
          1.8915281644791802,
          1.90368434333601,
          1.915840522192839,
          1.9279967010496688,
          1.9401528799064987,
          1.9523090587633285,
          1.9644652376201575,
          1.9766214164769873,
          1.9887775953338163,
          2.000933774190646,
          2.013089953047476,
          2.025246131904305,
          2.0374023107611348,
          2.0495584896179646,
          2.0617146684747936,
          2.0738708473316234,
          2.0860270261884524,
          2.098183205045282,
          2.110339383902112,
          2.122495562758942,
          2.134651741615771,
          2.1468079204726,
          2.1589640993294297,
          2.1711202781862595,
          2.1832764570430894,
          2.195432635899919,
          2.207588814756749,
          2.219744993613577,
          2.231901172470407,
          2.244057351327237,
          2.2562135301840667,
          2.2683697090408965,
          2.2805258878977255,
          2.2926820667545544,
          2.3048382456113843,
          2.316994424468214,
          2.329150603325044,
          2.341306782181873,
          2.353462961038703,
          2.3656191398955317,
          2.3777753187523616,
          2.3899314976091914,
          2.4020876764660213,
          2.4142438553228502,
          2.42640003417968,
          2.43855621303651,
          2.450712391893339,
          2.4628685707501687,
          2.4750247496069977,
          2.4871809284638275,
          2.4993371073206574,
          2.5114932861774872,
          2.523649465034316,
          2.535805643891145,
          2.547961822747975,
          2.560118001604805,
          2.5722741804616347,
          2.5844303593184645,
          2.5965865381752935,
          2.6087427170321225,
          2.6208988958889523,
          2.633055074745782,
          2.645211253602612,
          2.657367432459442,
          2.669523611316271,
          2.6816797901730998,
          2.6938359690299296,
          2.7059921478867595,
          2.7181483267435893,
          2.7303045056004183,
          2.742460684457248,
          2.754616863314077,
          2.766773042170907,
          2.7789292210277368,
          2.7910853998845666,
          2.8032415787413956,
          2.8153977575982254,
          2.8275539364550544,
          2.839710115311884,
          2.851866294168714,
          2.864022473025543,
          2.876178651882373,
          2.8883348307392027,
          2.9004910095960326,
          2.9126471884528615,
          2.9248033673096905,
          2.9369595461665203
         ],
         "xaxis": "x",
         "y": [
          0.006393895423559215,
          0.0063917149580522345,
          0.006380298449754255,
          0.00635975750144239,
          0.006330251759512574,
          0.006291988569460123,
          0.006245222348505949,
          0.006190253687615718,
          0.006127428198062534,
          0.00605713512036134,
          0.005979805715816539,
          0.005895911463039759,
          0.0058059620835823915,
          0.005710503422262926,
          0.005610115208834078,
          0.005505408728315666,
          0.005397024427608872,
          0.005285629485905554,
          0.005171915375917245,
          0.005056595442082342,
          0.004940402520684682,
          0.004824086625252519,
          0.004708412718730457,
          0.004594158591759548,
          0.0044821128639965235,
          0.004373073122789732,
          0.004267844210747215,
          0.004167236670823574,
          0.00407206535455978,
          0.00398314819607796,
          0.0039013051514045867,
          0.0038273572997132763,
          0.0037621261001837187,
          0.0037064327954051146,
          0.0036610979496475037,
          0.00362694110791647,
          0.003604780559525513,
          0.0035954331879930845,
          0.0035997143874200574,
          0.0036184380241471056,
          0.0036524164214442744,
          0.0037024603442574575,
          0.0037693789606342586,
          0.003853979756377409,
          0.0039570683797253816,
          0.004079448393431959,
          0.004221920912500486,
          0.004385284107012984,
          0.004570332550963826,
          0.004777856399746237,
          0.005008640380928417,
          0.005263462585172677,
          0.005543093046574992,
          0.005848292104309389,
          0.006179808540227303,
          0.006538377489962253,
          0.0069247181280991,
          0.007339531131059131,
          0.007783495924501468,
          0.008257267725223548,
          0.00876147439073011,
          0.009296713092808625,
          0.009863546834572806,
          0.010462500833487686,
          0.01109405879584768,
          0.011758659111013692,
          0.012456690996404784,
          0.01318849062675434,
          0.013954337283458872,
          0.01475444956193876,
          0.015588981676771406,
          0.016458019905920697,
          0.01736157921664547,
          0.01829960011660028,
          0.019271945774214184,
          0.020278399452626623,
          0.021318662301248664,
          0.022392351548377782,
          0.02349899913720898,
          0.024638050846033276,
          0.025808865931381847,
          0.02701071733034959,
          0.02824279245530975,
          0.029504194610705033,
          0.030793945057577918,
          0.03211098574699212,
          0.03345418273851059,
          0.03482233031445893,
          0.03621415579484963,
          0.03762832505160144,
          0.0390634487141129,
          0.040518089051393966,
          0.04199076750887438,
          0.04347997287077941,
          0.0449841700116503,
          0.04650180919328173,
          0.048031335856136385,
          0.04957120084726786,
          0.05111987102003359,
          0.052675840134508274,
          0.05423763998161244,
          0.05580385164864374,
          0.05737311683924282,
          0.058944149156918695,
          0.06051574525819575,
          0.06208679577929493,
          0.06365629593908764,
          0.06522335572092565,
          0.06678720953688791,
          0.06834722528002402,
          0.06990291267332696,
          0.07145393082843088,
          0.07300009493237448,
          0.07454138198717129,
          0.07607793553430926,
          0.07761006930460983,
          0.0791382697430056,
          0.08066319736764588,
          0.08218568693319374,
          0.08370674637909895,
          0.08522755455487611,
          0.0867494577258409,
          0.08827396487419387,
          0.08980274182163489,
          0.09133760421068637,
          0.09288050939242974,
          0.09443354727827613,
          0.09599893022255367,
          0.09757898201095841,
          0.09917612603718233,
          0.10079287275618205,
          0.10243180650751413,
          0.10409557180587502,
          0.10578685919840028,
          0.10750839078938891,
          0.109262905532934,
          0.11105314439248429,
          0.11288183546370358,
          0.11475167915319968,
          0.11666533350087538,
          0.1186253997279279,
          0.12063440808602509,
          0.12269480407607458,
          0.12480893509744086,
          0.1269790375806193,
          0.12920722464844026,
          0.13149547434300463,
          0.13384561844794549,
          0.13625933192841444,
          0.13873812300457453,
          0.14128332386848833,
          0.14389608204922816,
          0.14657735242693373,
          0.14932788989345028,
          0.15214824265517912,
          0.1550387461728674,
          0.15799951773325785,
          0.1610304516487952,
          0.16413121508384726,
          0.16730124450910758,
          0.1705397427898381,
          0.17384567691827862,
          0.1772177764057296,
          0.1806545323553083,
          0.1841541972420232,
          0.18771478543238462,
          0.19133407448105677,
          0.19500960724687916,
          0.1987386948747046,
          0.20251842069273399,
          0.20634564507719524,
          0.21021701133715043,
          0.2141289526717507,
          0.2180777002503264,
          0.222059292462164,
          0.2260695853776346,
          0.2301042644555221,
          0.23415885752288926,
          0.2382287490437358,
          0.2423091956810963,
          0.24639534314421419,
          0.2504822442981866,
          0.25456487849816567,
          0.25863817209407064,
          0.2626970200349915,
          0.2667363084854037,
          0.270750938348122,
          0.2747358495719957,
          0.27868604610589365,
          0.2825966213449063,
          0.2864627839001141,
          0.2902798835100962,
          0.29404343690076784,
          0.2977491533904139,
          0.3013929600291366,
          0.3049710260565358,
          0.3084797864584359,
          0.3119159644029793,
          0.3152765923385294,
          0.3185590315405119,
          0.321760989901698,
          0.32488053777031994,
          0.32791612165282685,
          0.3308665756128326,
          0.3337311302147946,
          0.3365094188799255,
          0.33920148154262647,
          0.3418077655180429,
          0.34432912351494144,
          0.3467668087527041,
          0.34912246716651746,
          0.3513981267105187,
          0.35359618379444957,
          0.3557193869148982,
          0.3577708175673066,
          0.3597538685491468,
          0.36167221978791086,
          0.3635298118494425,
          0.36533081730253714,
          0.3670796101343817,
          0.3687807334281652,
          0.37043886552890887,
          0.3720587849361393,
          0.37364533417233975,
          0.3752033828841964,
          0.3767377904393556,
          0.37825336828489636,
          0.37975484233484613,
          0.38124681565307794,
          0.3827337316947254,
          0.3842198383640924,
          0.3857091531399101,
          0.3872054295099388,
          0.3887121249463925,
          0.3902323706416813,
          0.3917689432106617,
          0.3933242385511242,
          0.3949002480387634,
          0.39649853721660405,
          0.398120227121835,
          0.39976597837550965,
          0.401435978142623,
          0.403129930051917,
          0.4048470471464076,
          0.40658604791728803,
          0.40834515545553035,
          0.41012209973736774,
          0.4119141230418991,
          0.4137179884814021,
          0.415529991607633,
          0.41734597504047327,
          0.4191613460487533,
          0.4209710969970465,
          0.42276982855663164,
          0.42455177556372065,
          0.4263108353934842,
          0.4280405987043348,
          0.4297343823934336,
          0.43138526459143467,
          0.4329861215121335,
          0.4345296659609575,
          0.43600848729515246,
          0.4374150926181403,
          0.438741948980899,
          0.4399815263543736,
          0.4411263411289845,
          0.4421689998902788,
          0.44310224321379715,
          0.44391898921736433,
          0.4446123766053576,
          0.4451758069371764,
          0.4456029858512151,
          0.44588796297624156,
          0.44602517026430594,
          0.44600945848325185,
          0.445836131612656,
          0.44550097889468226,
          0.4450003043009642,
          0.4443309531882811,
          0.443490335929501,
          0.4424764483220944,
          0.4412878885943738,
          0.43992387084957885,
          0.4383842348098413,
          0.43666945174591737,
          0.43478062650419586,
          0.4327194955697976,
          0.43048842113329927,
          0.42809038115865267,
          0.4255289554808864,
          0.4228083079939498,
          0.4199331650213153,
          0.4169087899943128,
          0.4137409545953515,
          0.41043590655482376,
          0.40700033432116967,
          0.4034413288530243,
          0.3997663428101076,
          0.39598314744526525,
          0.39209978752339675,
          0.38812453461362967,
          0.38406583911868336,
          0.3799322814195909,
          0.3757325225246115,
          0.3714752546180144,
          0.3671691519073032,
          0.36282282216620954,
          0.35844475936542625,
          0.3540432977734646,
          0.3496265678963172,
          0.3452024546068584,
          0.34077855779326754,
          0.336362155830442,
          0.33196017214965046,
          0.32757914514985,
          0.32322520165954877,
          0.31890403412124907,
          0.31462088163176716,
          0.31038051493161833,
          0.30618722539563975,
          0.30204481803565186,
          0.297956608484735,
          0.29392542389214843,
          0.2899536076186026,
          0.28604302758394623,
          0.28219508808390864,
          0.27841074485974165,
          0.27469052317484444,
          0.2710345386261562,
          0.26744252039549277,
          0.2639138366274216,
          0.26044752160588347,
          0.25704230439170306,
          0.2536966385775104,
          0.25040873281535825,
          0.24717658177548535,
          0.24399799720206206,
          0.2408706387432152,
          0.2377920442479158,
          0.23475965924112893,
          0.23177086531062174,
          0.2288230071636485,
          0.2259134181389058,
          0.22303944398829362,
          0.22019846477359667,
          0.21738791475477492,
          0.21460530017861373,
          0.21184821490855277,
          0.20911435386810465,
          0.20640152430095182,
          0.2037076548801223,
          0.20103080272619886,
          0.19836915841995756,
          0.19572104911782962,
          0.19308493989888018,
          0.19045943348935554,
          0.18784326852513128,
          0.1852353165234604,
          0.18263457774322434,
          0.180040176117438,
          0.1774513534431042,
          0.17486746301173364,
          0.17228796285914735,
          0.16971240880569352,
          0.1671404474480348,
          0.16457180925142872,
          0.16200630187724674,
          0.15944380386468845,
          0.1568842587685666,
          0.15432766983703905,
          0.15177409529458358,
          0.14922364427670115,
          0.14667647344416146,
          0.1441327842863537,
          0.14159282110583246,
          0.13905686965970687,
          0.13652525641837615,
          0.1339983483884828,
          0.13147655343504683,
          0.1289603210276636,
          0.12645014332756208,
          0.12394655652625745,
          0.12145014234254206,
          0.11896152958264283,
          0.11648139566845708,
          0.11401046804083952,
          0.11154952534876617,
          0.1090993983407776,
          0.10666097038219619,
          0.10423517753003958,
          0.10182300810712483,
          0.09942550172735211,
          0.09704374773533057,
          0.09467888303516998,
          0.09233208929514213,
          0.09000458952681367,
          0.08769764404895242,
          0.08541254585778911,
          0.08315061543591347,
          0.08091319504200324,
          0.07870164253258646,
          0.07651732477500509,
          0.07436161071754765,
          0.07223586418829962,
          0.07014143649855742,
          0.0680796589296152,
          0.06605183518340074,
          0.06405923387777639,
          0.062103081166407066,
          0.0601845535609701,
          0.058304771030235354,
          0.05646479044624331,
          0.05466559944260378,
          0.05290811074390186,
          0.05119315701848947,
          0.04952148629967898,
          0.04789375801267142,
          0.046310539636600555,
          0.044772304022960945,
          0.043279427383574126,
          0.041832187953230765,
          0.04043076532436181,
          0.03907524044363062,
          0.03776559625331205,
          0.03650171895379931,
          0.03528339985764151,
          0.034110337800215336,
          0.03298214206751106,
          0.03189833579761419,
          0.03085835980928834,
          0.029861576808629303,
          0.028907275923057103,
          0.0279946775109173,
          0.02712293819465721,
          0.02629115606588211,
          0.025498376011542027,
          0.02474359511199723,
          0.024025768063707688,
          0.02334381258172704,
          0.02269661473999437,
          0.02208303421054403,
          0.021501909366131864,
          0.02095206221434645,
          0.020432303134969843,
          0.01994143539612709,
          0.019478259428554724,
          0.019041576841082344,
          0.018630194164113222,
          0.01824292631146792,
          0.017878599754388602,
          0.01753605540475979,
          0.017214151207661028,
          0.01691176444621031,
          0.016627793764268192,
          0.016361160914945314,
          0.01611081224498095,
          0.015875719926939317,
          0.015654882952801416,
          0.015447327903919892,
          0.015252109513455578,
          0.015068311038337757,
          0.014895044458491716,
          0.014731450521567012,
          0.014576698651689715,
          0.014429986740858209,
          0.014290540841518286,
          0.014157614778597177,
          0.014030489698857288,
          0.013908473574858329,
          0.01379090068009997,
          0.013677131051063733,
          0.013566549950892725,
          0.013458567348347146,
          0.013352617424463663,
          0.013248158118034413,
          0.01314467071961871,
          0.013041659522316389,
          0.012938651535979423,
          0.01283519626992961,
          0.012730865587600056,
          0.012625253634841703,
          0.012517976841949767,
          0.012408673997788205,
          0.012297006392739456,
          0.0121826580256051,
          0.012065335868047554,
          0.011944770178718242,
          0.011820714857880433,
          0.011692947832129649,
          0.011561271457757368,
          0.011425512930414964,
          0.01128552468802976,
          0.01114118479341945,
          0.010992397282754779,
          0.010839092465944302,
          0.010681227165163619,
          0.010518784878127073,
          0.010351775853301812,
          0.010180237065085584,
          0.010004232078003827
         ],
         "yaxis": "y"
        },
        {
         "legendgroup": "Group B",
         "marker": {
          "color": "rgb(255, 127, 14)"
         },
         "mode": "lines",
         "name": "Group B",
         "showlegend": false,
         "type": "scatter",
         "x": [
          -0.831888672056476,
          -0.8210290647786922,
          -0.8101694575009084,
          -0.7993098502231246,
          -0.7884502429453408,
          -0.777590635667557,
          -0.7667310283897733,
          -0.7558714211119895,
          -0.7450118138342057,
          -0.7341522065564219,
          -0.7232925992786381,
          -0.7124329920008543,
          -0.7015733847230705,
          -0.6907137774452868,
          -0.6798541701675029,
          -0.6689945628897193,
          -0.6581349556119355,
          -0.6472753483341517,
          -0.6364157410563679,
          -0.6255561337785841,
          -0.6146965265008003,
          -0.6038369192230165,
          -0.5929773119452327,
          -0.5821177046674489,
          -0.5712580973896652,
          -0.5603984901118814,
          -0.5495388828340977,
          -0.5386792755563139,
          -0.52781966827853,
          -0.5169600610007463,
          -0.5061004537229625,
          -0.4952408464451787,
          -0.4843812391673949,
          -0.4735216318896111,
          -0.4626620246118273,
          -0.4518024173340435,
          -0.4409428100562598,
          -0.43008320277847595,
          -0.4192235955006922,
          -0.4083639882229084,
          -0.39750438094512464,
          -0.38664477366734085,
          -0.37578516638955706,
          -0.3649255591117733,
          -0.3540659518339895,
          -0.3432063445562057,
          -0.33234673727842196,
          -0.3214871300006381,
          -0.3106275227228543,
          -0.29976791544507053,
          -0.28890830816728674,
          -0.27804870088950295,
          -0.2671890936117193,
          -0.2563294863339355,
          -0.2454698790561517,
          -0.2346102717783678,
          -0.223750664500584,
          -0.21289105722280033,
          -0.20203144994501654,
          -0.19117184266723275,
          -0.18031223538944896,
          -0.16945262811166506,
          -0.15859302083388138,
          -0.1477334135560976,
          -0.1368738062783138,
          -0.12601419900053001,
          -0.11515459172274622,
          -0.10429498444496255,
          -0.09343537716717865,
          -0.08257576988939486,
          -0.07171616261161107,
          -0.06085655533382739,
          -0.0499969480560436,
          -0.03913734077825981,
          -0.02827773350047591,
          -0.01741812622269212,
          -0.0065585189449084424,
          0.004301088332875347,
          0.015160695610659136,
          0.026020302888442925,
          0.036879910166226715,
          0.047739517444010504,
          0.05859912472179429,
          0.06945873199957808,
          0.08031833927736187,
          0.09117794655514566,
          0.10203755383292934,
          0.11289716111071324,
          0.12375676838849703,
          0.13461637566628082,
          0.1454759829440646,
          0.1563355902218483,
          0.16719519749963208,
          0.17805480477741598,
          0.18891441205519977,
          0.19977401933298355,
          0.21063362661076734,
          0.22149323388855113,
          0.23235284116633492,
          0.2432124484441185,
          0.2540720557219025,
          0.26493166299968607,
          0.2757912702774701,
          0.28665087755525387,
          0.29751048483303744,
          0.30837009211082145,
          0.319229699388605,
          0.330089306666389,
          0.3409489139441726,
          0.3518085212219564,
          0.3626681284997404,
          0.37352773577752396,
          0.384387343055308,
          0.39524695033309154,
          0.40610655761087533,
          0.4169661648886591,
          0.4278257721664429,
          0.4386853794442269,
          0.4495449867220105,
          0.4604045939997943,
          0.47126420127757807,
          0.48212380855536185,
          0.49298341583314587,
          0.5038430231109294,
          0.5147026303887132,
          0.525562237666497,
          0.5364218449442808,
          0.5472814522220646,
          0.5581410594998484,
          0.5690006667776322,
          0.579860274055416,
          0.5907198813331997,
          0.6015794886109835,
          0.6124390958887673,
          0.6232987031665509,
          0.6341583104443349,
          0.6450179177221187,
          0.6558775249999025,
          0.6667371322776863,
          0.6775967395554698,
          0.6884563468332539,
          0.6993159541110376,
          0.7101755613888212,
          0.7210351686666052,
          0.7318947759443888,
          0.7427543832221728,
          0.7536139904999564,
          0.7644735977777402,
          0.7753332050555242,
          0.7861928123333077,
          0.7970524196110917,
          0.8079120268888753,
          0.8187716341666591,
          0.8296312414444429,
          0.8404908487222267,
          0.8513504560000107,
          0.8622100632777943,
          0.873069670555578,
          0.8839292778333618,
          0.8947888851111456,
          0.9056484923889294,
          0.9165080996667132,
          0.927367706944497,
          0.9382273142222808,
          0.9490869215000646,
          0.9599465287778484,
          0.9708061360556322,
          0.9816657433334159,
          0.9925253506111997,
          1.0033849578889835,
          1.0142445651667673,
          1.025104172444551,
          1.0359637797223347,
          1.0468233870001187,
          1.0576829942779025,
          1.0685426015556863,
          1.07940220883347,
          1.0902618161112536,
          1.1011214233890376,
          1.1119810306668212,
          1.1228406379446052,
          1.133700245222389,
          1.1445598525001726,
          1.1554194597779566,
          1.1662790670557401,
          1.177138674333524,
          1.187998281611308,
          1.1988578888890915,
          1.2097174961668755,
          1.2205771034446595,
          1.231436710722443,
          1.2422963180002267,
          1.2531559252780107,
          1.2640155325557942,
          1.2748751398335783,
          1.2857347471113618,
          1.2965943543891458,
          1.3074539616669294,
          1.318313568944713,
          1.3291731762224974,
          1.340032783500281,
          1.3508923907780646,
          1.3617519980558481,
          1.3726116053336321,
          1.3834712126114161,
          1.3943308198891997,
          1.4051904271669837,
          1.4160500344447673,
          1.4269096417225509,
          1.4377692490003349,
          1.4486288562781189,
          1.4594884635559024,
          1.470348070833686,
          1.48120767811147,
          1.492067285389254,
          1.5029268926670376,
          1.5137864999448212,
          1.5246461072226052,
          1.5355057145003888,
          1.5463653217781728,
          1.5572249290559568,
          1.5680845363337403,
          1.578944143611524,
          1.5898037508893075,
          1.600663358167092,
          1.6115229654448755,
          1.622382572722659,
          1.633242180000443,
          1.6441017872782266,
          1.6549613945560107,
          1.6658210018337942,
          1.6766806091115782,
          1.6875402163893618,
          1.6983998236671454,
          1.7092594309449298,
          1.7201190382227134,
          1.730978645500497,
          1.741838252778281,
          1.7526978600560645,
          1.7635574673338485,
          1.7744170746116321,
          1.7852766818894161,
          1.7961362891671997,
          1.8069958964449833,
          1.8178555037227677,
          1.8287151110005513,
          1.8395747182783349,
          1.8504343255561184,
          1.8612939328339024,
          1.8721535401116864,
          1.88301314738947,
          1.893872754667254,
          1.9047323619450376,
          1.9155919692228212,
          1.9264515765006052,
          1.9373111837783892,
          1.9481707910561727,
          1.9590303983339563,
          1.9698900056117403,
          1.9807496128895243,
          1.991609220167308,
          2.0024688274450915,
          2.0133284347228755,
          2.024188042000659,
          2.035047649278443,
          2.045907256556227,
          2.0567668638340106,
          2.067626471111794,
          2.0784860783895778,
          2.0893456856673622,
          2.100205292945146,
          2.1110649002229294,
          2.1219245075007134,
          2.132784114778497,
          2.143643722056281,
          2.1545033293340645,
          2.1653629366118485,
          2.176222543889632,
          2.1870821511674157,
          2.1979417584452,
          2.2088013657229837,
          2.2196609730007673,
          2.2305205802785513,
          2.241380187556335,
          2.2522397948341184,
          2.2630994021119024,
          2.2739590093896864,
          2.28481861666747,
          2.2956782239452536,
          2.306537831223038,
          2.3173974385008216,
          2.328257045778605,
          2.3391166530563887,
          2.3499762603341727,
          2.3608358676119563,
          2.3716954748897403,
          2.3825550821675243,
          2.393414689445308,
          2.4042742967230915,
          2.415133904000875,
          2.4259935112786595,
          2.436853118556443,
          2.4477127258342266,
          2.4585723331120106,
          2.469431940389794,
          2.480291547667578,
          2.4911511549453618,
          2.502010762223146,
          2.5128703695009293,
          2.523729976778713,
          2.5345895840564974,
          2.545449191334281,
          2.5563087986120645,
          2.567168405889848,
          2.578028013167632,
          2.588887620445416,
          2.5997472277231997,
          2.6106068350009837,
          2.6214664422787672,
          2.632326049556551,
          2.643185656834335,
          2.654045264112119,
          2.6649048713899024,
          2.675764478667686,
          2.68662408594547,
          2.697483693223254,
          2.7083433005010376,
          2.7192029077788216,
          2.730062515056605,
          2.7409221223343887,
          2.7517817296121727,
          2.7626413368899567,
          2.7735009441677403,
          2.784360551445524,
          2.795220158723308,
          2.806079766001092,
          2.8169393732788754,
          2.827798980556659,
          2.838658587834443,
          2.8495181951122266,
          2.8603778023900106,
          2.8712374096677946,
          2.882097016945578,
          2.8929566242233618,
          2.9038162315011453,
          2.9146758387789298,
          2.9255354460567133,
          2.936395053334497,
          2.947254660612281,
          2.9581142678900645,
          2.9689738751678485,
          2.979833482445632,
          2.990693089723416,
          3.0015526970011996,
          3.012412304278983,
          3.0232719115567677,
          3.0341315188345512,
          3.044991126112335,
          3.0558507333901184,
          3.0667103406679024,
          3.0775699479456864,
          3.08842955522347,
          3.099289162501254,
          3.1101487697790375,
          3.121008377056821,
          3.1318679843346056,
          3.142727591612389,
          3.1535871988901727,
          3.1644468061679563,
          3.1753064134457403,
          3.186166020723524,
          3.1970256280013074,
          3.207885235279092,
          3.2187448425568754,
          3.229604449834659,
          3.2404640571124426,
          3.251323664390227,
          3.2621832716680106,
          3.273042878945795,
          3.2839024862235786,
          3.294762093501362,
          3.3056217007791457,
          3.3164813080569293,
          3.327340915334713,
          3.3382005226124973,
          3.349060129890281,
          3.3599197371680645,
          3.370779344445848,
          3.3816389517236325,
          3.392498559001416,
          3.4033581662791996,
          3.414217773556984,
          3.4250773808347676,
          3.435936988112551,
          3.446796595390335,
          3.4576562026681184,
          3.468515809945902,
          3.4793754172236855,
          3.490235024501471,
          3.5010946317792544,
          3.511954239057038,
          3.5228138463348215,
          3.533673453612605,
          3.5445330608903887,
          3.5553926681681722,
          3.5662522754459567,
          3.5771118827237403,
          3.587971490001524,
          3.5988310972793083,
          3.609690704557092,
          3.6205503118348754,
          3.631409919112659,
          3.6422695263904434,
          3.653129133668227,
          3.6639887409460106,
          3.674848348223794,
          3.6857079555015777,
          3.6965675627793613,
          3.7074271700571457,
          3.71828677733493,
          3.7291463846127137,
          3.7400059918904973,
          3.750865599168281,
          3.7617252064460645,
          3.772584813723848,
          3.7834444210016316,
          3.794304028279416,
          3.8051636355571996,
          3.816023242834984,
          3.8268828501127676,
          3.837742457390551,
          3.8486020646683348,
          3.8594616719461183,
          3.870321279223903,
          3.8811808865016864,
          3.89204049377947,
          3.9029001010572535,
          3.913759708335037,
          3.9246193156128215,
          3.935478922890605,
          3.9463385301683895,
          3.957198137446173,
          3.9680577447239567,
          3.9789173520017402,
          3.989776959279524,
          4.000636566557308,
          4.011496173835091,
          4.022355781112875,
          4.03321538839066,
          4.044074995668444,
          4.054934602946227,
          4.065794210224011,
          4.076653817501795,
          4.087513424779578,
          4.098373032057362,
          4.109232639335145,
          4.120092246612929,
          4.130951853890712,
          4.141811461168498,
          4.152671068446281,
          4.163530675724065,
          4.1743902830018484,
          4.185249890279632,
          4.196109497557416,
          4.206969104835199,
          4.217828712112983,
          4.228688319390766,
          4.23954792666855,
          4.250407533946335,
          4.261267141224119,
          4.272126748501902,
          4.282986355779686,
          4.2938459630574695,
          4.304705570335253,
          4.315565177613038,
          4.326424784890822,
          4.3372843921686055,
          4.348143999446389,
          4.359003606724173,
          4.369863214001956,
          4.38072282127974,
          4.391582428557525,
          4.402442035835309,
          4.413301643113092,
          4.424161250390876,
          4.435020857668659,
          4.445880464946443,
          4.4567400722242265,
          4.467599679502012,
          4.478459286779795,
          4.489318894057579,
          4.500178501335363,
          4.511038108613146,
          4.52189771589093,
          4.532757323168713,
          4.543616930446497,
          4.55447653772428,
          4.565336145002064,
          4.576195752279849,
          4.587055359557633
         ],
         "xaxis": "x",
         "y": [
          0.01798801962529272,
          0.018399221768484516,
          0.01881355773094137,
          0.01923107183533817,
          0.019651823338449368,
          0.020075886582093957,
          0.020503351075135106,
          0.020934321506409663,
          0.02136891768891585,
          0.021807274436034908,
          0.0222495413709987,
          0.022695882671236754,
          0.023146476749639343,
          0.023601515875154182,
          0.024061205735489314,
          0.024525764945021348,
          0.024995424501303137,
          0.025470427193825026,
          0.02595102696890865,
          0.026437488254797324,
          0.026930085251153348,
          0.0274291011872783,
          0.027934827553435137,
          0.02844756330967403,
          0.02896761407654426,
          0.02949529131201422,
          0.030030911478822593,
          0.0305747952063452,
          0.031127266450888202,
          0.03168865165811078,
          0.032259278931039574,
          0.03283947720687106,
          0.033429575445463676,
          0.034029901832107926,
          0.03464078299683042,
          0.03526254325214166,
          0.03589550385078224,
          0.036539982264661985,
          0.03719629148582416,
          0.03786473934991051,
          0.038545627882251486,
          0.039239252666370225,
          0.03994590223436708,
          0.04066585747835222,
          0.04139939108181798,
          0.04214676696959677,
          0.04290823977483542,
          0.04368405432123665,
          0.044474445118677174,
          0.04527963587021066,
          0.04609983898840492,
          0.04693525511894628,
          0.04778607266947681,
          0.04865246734170342,
          0.04953460166494114,
          0.05043262452941993,
          0.05134667071789631,
          0.05227686043436636,
          0.05322329882897434,
          0.054186075518545,
          0.05516526410254195,
          0.056160921674656354,
          0.05717308833066523,
          0.05820178667365471,
          0.059247021318181305,
          0.060308778395436066,
          0.061387025061976866,
          0.06248170901509745,
          0.06359275801840532,
          0.06472007944166995,
          0.06586355981948386,
          0.06702306443373136,
          0.06819843692529166,
          0.06938949894079242,
          0.0705960498205882,
          0.0718178663344396,
          0.07305470247162854,
          0.07430628929243689,
          0.07557233484805351,
          0.07685252417603604,
          0.07814651937845268,
          0.07945395978974314,
          0.08077446224117935,
          0.08210762142856637,
          0.08345301038949761,
          0.0848101810960717,
          0.08617866516848767,
          0.08755797471435799,
          0.08894760329792484,
          0.09034702704262594,
          0.09175570586964683,
          0.09317308487420704,
          0.09459859584037934,
          0.09603165889422142,
          0.09747168429393152,
          0.09891807435461879,
          0.10037022550411717,
          0.10182753046508135,
          0.10328938055738299,
          0.10475516811359822,
          0.10622428899914307,
          0.10769614522738304,
          0.10917014765883835,
          0.11064571877242056,
          0.11212229549549788,
          0.11359933207849554,
          0.11507630299870496,
          0.11655270587702893,
          0.1180280643905066,
          0.11950193116269485,
          0.1209738906133023,
          0.12244356174791544,
          0.12391060086821752,
          0.1253747041827939,
          0.12683561029844714,
          0.1282931025719205,
          0.1297470113020511,
          0.1311972157426514,
          0.1326436459168522,
          0.1340862842142347,
          0.13552516675282753,
          0.1369603844889643,
          0.1383920840590633,
          0.13982046833861375,
          0.14124579670503634,
          0.1426683849925991,
          0.14408860512923202,
          0.14550688444687157,
          0.14692370465887508,
          0.14833960050006295,
          0.14975515802706146,
          0.1511710125788229,
          0.1525878463994654,
          0.1540063859279067,
          0.15542739876112638,
          0.15685169030028628,
          0.1582801000913268,
          0.15971349787404102,
          0.16115277935598077,
          0.162598861729846,
          0.16405267895524617,
          0.16551517682786185,
          0.1669873078610806,
          0.16847002600709168,
          0.1699642812461984,
          0.1714710140747204,
          0.1729911499232953,
          0.174525593538631,
          0.17607522336280548,
          0.1776408859450198,
          0.1792233904213061,
          0.18082350309803122,
          0.18244194217513304,
          0.18407937264486054,
          0.1857364014013634,
          0.18741357259577932,
          0.1891113632705117,
          0.1908301793051586,
          0.19257035170506334,
          0.1943321332617145,
          0.19611569561222053,
          0.197921126722847,
          0.19974842881914864,
          0.20159751678253493,
          0.20346821703025184,
          0.2053602668926983,
          0.20727331449878925,
          0.20920691917673664,
          0.21116055237415757,
          0.21313359909787985,
          0.21512535987021458,
          0.21713505319482787,
          0.21916181852170746,
          0.221204719697112,
          0.22326274888082626,
          0.22533483090958215,
          0.22741982808213534,
          0.22951654533827834,
          0.2316237358010225,
          0.23374010664832648,
          0.2358643252781257,
          0.23799502572803968,
          0.24013081530901353,
          0.24227028141033918,
          0.24441199843197506,
          0.24655453479890344,
          0.24869646001139567,
          0.25083635168454776,
          0.2529728025302943,
          0.2551044272352929,
          0.2572298691886313,
          0.2593478070142148,
          0.2614569608639399,
          0.26355609842935934,
          0.2656440406314604,
          0.26771966695040755,
          0.2697819203596372,
          0.27182981183147514,
          0.273862424384515,
          0.27587891664625325,
          0.2778785259079586,
          0.2798605706523889,
          0.28182445253873956,
          0.2837696578330872,
          0.2856957582765502,
          0.2876024113873622,
          0.2894893601970574,
          0.2913564324249192,
          0.2932035390987531,
          0.29503067263383576,
          0.29683790438557944,
          0.29862538169496666,
          0.3003933244491525,
          0.30214202118275235,
          0.30387182474823543,
          0.3055831475864822,
          0.3072764566309266,
          0.3089522678807947,
          0.3106111406807223,
          0.31225367174550933,
          0.31388048896992266,
          0.3154922450642904,
          0.31708961105715844,
          0.318673269706467,
          0.3202439088606065,
          0.3218022148103052,
          0.32334886567159093,
          0.3248845248391061,
          0.3264098345478259,
          0.32792540957974353,
          0.32943183115041147,
          0.33092964100832656,
          0.3324193357780751,
          0.33390136157595834,
          0.33537610892443837,
          0.33684390798933095,
          0.338305024161116,
          0.3397596539991686,
          0.3412079215550988,
          0.34264987508877337,
          0.3440854841879743,
          0.3455146373001028,
          0.34693713968180073,
          0.34835271176994037,
          0.34976098797506733,
          0.35116151589613986,
          0.3525537559532706,
          0.3539370814331679,
          0.35531077894009894,
          0.3566740492434609,
          0.35802600851144817,
          0.35936568991887075,
          0.36069204561585944,
          0.36200394904305655,
          0.36330019757786913,
          0.3645795154954903,
          0.36584055722765124,
          0.3670819109014581,
          0.3683021021401629,
          0.36949959810733873,
          0.37067281177564476,
          0.37182010640117347,
          0.3729398001842633,
          0.3740301710976326,
          0.375089461862714,
          0.3761158850551556,
          0.3771076283205972,
          0.3780628596819889,
          0.37897973291994247,
          0.3798563930078184,
          0.3806909815835254,
          0.3814816424402554,
          0.3822265270186754,
          0.38292379988337544,
          0.3835716441666756,
          0.38416826696319983,
          0.38471190465892546,
          0.38520082817875256,
          0.385633348136948,
          0.3860078198751708,
          0.38632264837313035,
          0.38657629301731067,
          0.38676727221357,
          0.38689416782986413,
          0.3869556294557685,
          0.3869503784659748,
          0.38687721187544066,
          0.38673500597443766,
          0.3865227197323585,
          0.38623939795977796,
          0.3858841742189828,
          0.38545627347394235,
          0.3849550144714951,
          0.38437981184640174,
          0.3837301779438298,
          0.383005724353821,
          0.38220616315330314,
          0.38133130785229724,
          0.3803810740420895,
          0.3793554797442872,
          0.37825464546089493,
          0.37707879392675075,
          0.375828249566923,
          0.37450343766293215,
          0.3731048832329178,
          0.37163320963214425,
          0.37008913688149214,
          0.3684734797328102,
          0.36678714548120056,
          0.3650311315354751,
          0.363206522759116,
          0.3613144885951308,
          0.3593562799891521,
          0.357333226126035,
          0.35524673099600457,
          0.3530982698071062,
          0.3508893852613209,
          0.34862168371218444,
          0.34629683122212696,
          0.34391654953798456,
          0.34148261200326874,
          0.3389968394257517,
          0.33646109591879536,
          0.3338772847345662,
          0.33124734410689294,
          0.32857324312096514,
          0.32585697762643445,
          0.32310056620969846,
          0.320306046240245,
          0.31747547000496135,
          0.31461090094319233,
          0.3117144099941779,
          0.3087880720672217,
          0.30583396264363144,
          0.3028541545180972,
          0.2998507146857572,
          0.29682570137976205,
          0.2937811612627059,
          0.2907191267738401,
          0.2876416136325643,
          0.284550618497291,
          0.2814481167774415,
          0.2783360605950375,
          0.2752163768911529,
          0.2720909656713619,
          0.2689616983832999,
          0.2658304164185501,
          0.2626989297302619,
          0.25956901555726686,
          0.25644241724491473,
          0.2533208431524778,
          0.2502059656367329,
          0.24709942010123218,
          0.24400280410084235,
          0.24091767649132834,
          0.23784555661410892,
          0.2347879235068033,
          0.2317462151308037,
          0.22872182760786286,
          0.22571611445854398,
          0.22273038583635224,
          0.2197659077524232,
          0.21682390128678833,
          0.21390554178344154,
          0.21101195802767864,
          0.208144231405473,
          0.20530339504595746,
          0.2024904329493661,
          0.1997062791040985,
          0.19695181659779604,
          0.19422787672852587,
          0.19153523812329817,
          0.1888746258721794,
          0.1862467106872245,
          0.18365210809626623,
          0.18109137768233405,
          0.17856502238003488,
          0.17607348784066437,
          0.17361716187810255,
          0.1711963740076684,
          0.168811395090067,
          0.16646243709236896,
          0.16414965297759115,
          0.1618731367339258,
          0.1596329235539801,
          0.1574289901735582,
          0.15526125537852986,
          0.15312958068723284,
          0.15103377121460346,
          0.14897357672289474,
          0.1469486928623973,
          0.14495876260404764,
          0.14300337786423037,
          0.14108208132043226,
          0.1391943684147508,
          0.13733968954057452,
          0.13551745240608234,
          0.1337270245665663,
          0.13196773611597526,
          0.1302388825265393,
          0.12853972762386723,
          0.1268695066835502,
          0.1252274296340339,
          0.12361268434940174,
          0.12202444001470383,
          0.1204618505456237,
          0.11892405804358458,
          0.11741019626686672,
          0.11591939409795983,
          0.11445077898719562,
          0.11300348035270116,
          0.1115766329169022,
          0.11016937996015316,
          0.1087808764726062,
          0.10741029218612455,
          0.10605681446890876,
          0.10471965106651364,
          0.10339803267408554,
          0.10209121532593732,
          0.10079848258997656,
          0.09951914755600816,
          0.09825255460852533,
          0.09699808097626933,
          0.09575513805255945,
          0.09452317248215407,
          0.09330166701218885,
          0.09209014110652582,
          0.09088815132462265,
          0.08969529146777856,
          0.08851119249732285,
          0.08733552223094718,
          0.08616798482495987,
          0.08500832005172039,
          0.0838563023828905,
          0.08271173989041458,
          0.08157447297828407,
          0.08044437295916501,
          0.0793213404908443,
          0.0782053038881923,
          0.07709621732692878,
          0.07599405895592323,
          0.07489882893505188,
          0.07381054741577295,
          0.0727292524815824,
          0.07165499806535329,
          0.07058785186027654,
          0.06952789324069412,
          0.06847521120856255,
          0.06742990238061533,
          0.06639206903051094,
          0.06536181719936937,
          0.06433925488713545,
          0.06332449033614983,
          0.062317630417201224,
          0.0613187791271533,
          0.06032803620603288,
          0.05934549588021656,
          0.05837124573708997,
          0.05740536573528218,
          0.05644792735331173,
          0.05549899287822525,
          0.05455861483458954,
          0.053626835553002496,
          0.052703686876145885,
          0.05178918999931129,
          0.05088335544130164,
          0.04998618314064716,
          0.04909766267119094,
          0.04821777357028948,
          0.04734648577215289,
          0.04648376013820914,
          0.045629549075837626,
          0.04478379723635476,
          0.04394644228277556,
          0.04311741571760295,
          0.0422966437607152,
          0.04148404826732903,
          0.04067954767601422,
          0.03988305797680985,
          0.03909449368965193,
          0.038313768843555814,
          0.037540797947299726,
          0.03677549694272767,
          0.03601778413221553,
          0.03526758107233482,
          0.034524813426274725,
          0.033789411768162886,
          0.033061312333033506,
          0.03234045770683344,
          0.031626797451521554,
          0.030920288660996286,
          0.03022089644428214,
          0.029528594333101777,
          0.02884336461165868,
          0.028165198567148417,
          0.027494096660195973,
          0.026830068615082518,
          0.02617313343026912,
          0.02552331931034403,
          0.024880663521112407
         ],
         "yaxis": "y"
        },
        {
         "legendgroup": "Group A",
         "marker": {
          "color": "rgb(31, 119, 180)",
          "symbol": "line-ns-open"
         },
         "mode": "markers",
         "name": "Group A",
         "showlegend": false,
         "type": "scatter",
         "x": [
          0.5226106571422477,
          -0.9862045594268695,
          0.2523149705675462,
          0.4340712301624237,
          0.4881503216726591,
          -0.5677487462413985,
          0.5299269369063085,
          -1.6324042323837882,
          0.32294523259966224,
          0.08101404059844737,
          1.011055820492742,
          0.7493593064480719,
          0.3581896660668545,
          -0.4326037722127551,
          -0.9429691992146093,
          -0.8810177874415466,
          0.42536312870641524,
          -0.3945079073485604,
          0.28441222616499373,
          -0.3614823117769486,
          2.94911572502335,
          -3.1289737033914196,
          0.05431017241079503,
          -0.7872656150196359,
          0.2002524088958735,
          -1.3326792945033281,
          0.4152937588316102,
          -0.19603901523666203,
          1.17133572138937,
          -0.36284399195738004,
          0.48145573868306013,
          0.3339965409602627,
          -0.45320911037304795,
          2.568748968513351,
          -0.22642297686272678,
          -0.46426163905556905,
          0.2747955442946937,
          0.22380898825325216,
          -1.5991729805906678,
          -0.4968096434281557,
          1.5799038690097762,
          0.0002943716616984785,
          0.9675784943055157,
          -0.9149053311797869,
          -0.1956774732818473,
          -1.0353125507683523,
          -0.14014201284118621,
          0.14661725926151367,
          -1.6708580298035378,
          -0.5346162416664917,
          0.07331740436358339,
          0.2850545394414067,
          0.7408591920689229,
          -0.6151413059930887,
          -0.16896608136836458,
          -0.3216381130888585,
          -0.5629790634934019,
          0.18724127935958723,
          0.08272169433011438,
          -0.7429831206731979,
          -2.030237522361153,
          0.22624574499984695,
          -1.6841709644359524,
          -0.47347899632092083,
          -0.11487799110834873,
          -0.7658473128439227,
          1.783903163561235,
          1.0727747652558608,
          -0.8141229496917883,
          1.4453949473067855,
          0.021381095728903746,
          0.5392073668044653,
          -0.3472507935326009,
          -0.2272483793101159,
          0.13337916445051215,
          -1.8919005498161832,
          1.3039887691985659,
          -0.11694217497628429,
          -0.6620049439521447,
          0.08415242932347888,
          0.12234432861542997,
          0.5132557382648872,
          -0.7400426597678136,
          -1.736285600165537,
          -0.27888135060080127,
          1.5485521800775177,
          -0.5420162706298582,
          0.9559521802264879,
          1.5849877476906673,
          1.0348553967183918,
          0.861479121809729,
          -0.5302601456620268,
          0.6452467596350188,
          -0.11336747674616965,
          -0.11163748640781261,
          0.9395672245325211,
          0.4187782387854749,
          1.0918119532709099,
          -1.1125163536707408,
          1.203660963340982,
          0.6971470264345518,
          0.36315295434485595,
          0.5680282224531296,
          0.4575137894069297,
          0.1404837070479387,
          0.49203983943262375,
          1.038076308243128,
          0.46857104917450265,
          0.4061769552516953,
          0.21099303106174186,
          -0.8504243190233117,
          -0.8385927045185514,
          0.7221637167404696,
          -1.116382088396497,
          0.18081843898651118,
          1.3095300230586284,
          0.4967400706568351,
          -0.5440515298820844,
          2.2033818365339757,
          -1.7928643944557874,
          -0.6417350232775179,
          -1.0913622187285612,
          0.9507287155074792,
          0.2670048606496645,
          0.3845566869978087,
          -1.2184057559045904,
          1.5851054842973498,
          0.13271211655240575,
          0.1777662973113108,
          -0.11024079280676119,
          -0.31128050088209996,
          0.003631973487656079,
          0.010638602489157644,
          -1.1589446173620501,
          -1.206261615189687,
          -0.29536661492881783,
          0.3941726686653391,
          0.7235555939753961,
          -0.7059245238109748,
          -0.5275449280099233,
          0.12640554800305276,
          -0.6195292105088843,
          -0.6518652845261954,
          0.3167274848137016,
          -0.35556118185933033,
          -1.0898392316578334,
          1.3737119723506952,
          0.4698846438969035,
          -0.7629508516755182,
          -0.6756225935232677,
          0.48304770206339487,
          0.7018254039766645,
          -0.37257240542353126,
          -0.6669523288783781,
          0.44006852001423474,
          1.176496330624501,
          0.18848987955605678,
          0.19852722502607975,
          0.2562480562204262,
          -0.11634881522587709,
          0.4814100725951739,
          -0.9994836182052129,
          1.4214692165141778,
          0.6473724613427756,
          0.4874386039656413,
          -0.665255508584248,
          0.35927471556265544,
          0.4002673859331011,
          0.9416393061413662,
          -1.5380543949881074,
          0.85506565552347,
          1.8948417014060275,
          0.9225513541007317,
          1.107421693453896,
          -1.0595383846941184,
          -0.32269409271491356,
          -0.0441791629318729,
          0.09853848133911114,
          1.302420386936118,
          1.0787303769537715,
          -0.6827148583641135,
          -1.4018666439394194,
          -0.5175961004213605,
          0.9708406212962156,
          -0.6934978337692776,
          -0.10291097814743211,
          0.05738499511897776,
          1.1172061257351245,
          1.5924218334986535,
          -0.6583703152025933,
          0.0878820491470042,
          -0.14796151409183633,
          -0.2829053897245801,
          -0.5330530579385333,
          -0.7861517875876604,
          1.5618896518129424,
          -1.5258348741228531,
          -1.3141816263127108,
          0.7369508705927297,
          -0.06919395198785923
         ],
         "xaxis": "x",
         "y": [
          "Group A",
          "Group A",
          "Group A",
          "Group A",
          "Group A",
          "Group A",
          "Group A",
          "Group A",
          "Group A",
          "Group A",
          "Group A",
          "Group A",
          "Group A",
          "Group A",
          "Group A",
          "Group A",
          "Group A",
          "Group A",
          "Group A",
          "Group A",
          "Group A",
          "Group A",
          "Group A",
          "Group A",
          "Group A",
          "Group A",
          "Group A",
          "Group A",
          "Group A",
          "Group A",
          "Group A",
          "Group A",
          "Group A",
          "Group A",
          "Group A",
          "Group A",
          "Group A",
          "Group A",
          "Group A",
          "Group A",
          "Group A",
          "Group A",
          "Group A",
          "Group A",
          "Group A",
          "Group A",
          "Group A",
          "Group A",
          "Group A",
          "Group A",
          "Group A",
          "Group A",
          "Group A",
          "Group A",
          "Group A",
          "Group A",
          "Group A",
          "Group A",
          "Group A",
          "Group A",
          "Group A",
          "Group A",
          "Group A",
          "Group A",
          "Group A",
          "Group A",
          "Group A",
          "Group A",
          "Group A",
          "Group A",
          "Group A",
          "Group A",
          "Group A",
          "Group A",
          "Group A",
          "Group A",
          "Group A",
          "Group A",
          "Group A",
          "Group A",
          "Group A",
          "Group A",
          "Group A",
          "Group A",
          "Group A",
          "Group A",
          "Group A",
          "Group A",
          "Group A",
          "Group A",
          "Group A",
          "Group A",
          "Group A",
          "Group A",
          "Group A",
          "Group A",
          "Group A",
          "Group A",
          "Group A",
          "Group A",
          "Group A",
          "Group A",
          "Group A",
          "Group A",
          "Group A",
          "Group A",
          "Group A",
          "Group A",
          "Group A",
          "Group A",
          "Group A",
          "Group A",
          "Group A",
          "Group A",
          "Group A",
          "Group A",
          "Group A",
          "Group A",
          "Group A",
          "Group A",
          "Group A",
          "Group A",
          "Group A",
          "Group A",
          "Group A",
          "Group A",
          "Group A",
          "Group A",
          "Group A",
          "Group A",
          "Group A",
          "Group A",
          "Group A",
          "Group A",
          "Group A",
          "Group A",
          "Group A",
          "Group A",
          "Group A",
          "Group A",
          "Group A",
          "Group A",
          "Group A",
          "Group A",
          "Group A",
          "Group A",
          "Group A",
          "Group A",
          "Group A",
          "Group A",
          "Group A",
          "Group A",
          "Group A",
          "Group A",
          "Group A",
          "Group A",
          "Group A",
          "Group A",
          "Group A",
          "Group A",
          "Group A",
          "Group A",
          "Group A",
          "Group A",
          "Group A",
          "Group A",
          "Group A",
          "Group A",
          "Group A",
          "Group A",
          "Group A",
          "Group A",
          "Group A",
          "Group A",
          "Group A",
          "Group A",
          "Group A",
          "Group A",
          "Group A",
          "Group A",
          "Group A",
          "Group A",
          "Group A",
          "Group A",
          "Group A",
          "Group A",
          "Group A",
          "Group A",
          "Group A",
          "Group A",
          "Group A",
          "Group A",
          "Group A",
          "Group A",
          "Group A",
          "Group A",
          "Group A",
          "Group A",
          "Group A",
          "Group A"
         ],
         "yaxis": "y2"
        },
        {
         "legendgroup": "Group B",
         "marker": {
          "color": "rgb(255, 127, 14)",
          "symbol": "line-ns-open"
         },
         "mode": "markers",
         "name": "Group B",
         "showlegend": false,
         "type": "scatter",
         "x": [
          0.6700491412140166,
          3.2691557906147706,
          3.4862887583342745,
          0.543321686598689,
          2.5000020108076124,
          0.7543424835190429,
          3.8334031311166914,
          1.2062535107257943,
          1.8693318580674043,
          1.5000046114996557,
          1.8347837816868668,
          -0.6972954147447705,
          2.7348086368970423,
          3.258096869871526,
          1.231231742451845,
          1.9710510773694554,
          0.9271372672694123,
          1.8411793208467964,
          1.4067307365384154,
          1.4001366894425917,
          1.5087192818307478,
          2.224952054976384,
          0.9100981462381308,
          2.954981427523218,
          1.8224300106537572,
          2.963165257791669,
          1.9384398490100545,
          0.6996088386930526,
          2.0276824814573144,
          2.1548033503238004,
          1.371418864886832,
          0.09911676898967747,
          2.44695976148266,
          2.268679679876869,
          2.2387837150682093,
          3.059402760419637,
          2.5120444643057347,
          1.8246015851321837,
          0.8507925243229388,
          1.6884695499563942,
          2.600377130812438,
          2.391524093431419,
          2.621732332790492,
          2.1654251145667276,
          3.1365948883293693,
          1.0109645664553102,
          2.585438553034426,
          1.8963777328248208,
          2.87596164796499,
          1.3457841581231236,
          1.7900071852989106,
          0.25620644679793636,
          0.7149142985188313,
          1.3797109400011363,
          3.6696638000313735,
          3.6911182191454395,
          2.4316169269773025,
          3.0270306096477277,
          0.7600964760020803,
          2.0249386625280836,
          -0.831888672056476,
          0.33172161606652906,
          3.702435706882773,
          2.199454147042249,
          1.5204206593667744,
          3.1599067571892094,
          3.3016119606660608,
          2.1332465104412575,
          3.0825787974022276,
          1.3652439099421974,
          2.3140936761856103,
          3.6757796834462555,
          3.645138047902138,
          1.8240845240901296,
          1.8171339406914426,
          2.127172879230957,
          0.5206785254576387,
          1.0024188291635459,
          3.068595056155027,
          1.4100285343369603,
          1.2889674027792806,
          3.186710281488124,
          1.568927292847317,
          2.73383148169614,
          2.8751502816876084,
          1.8821884362492753,
          2.229254694496547,
          2.5647712812838486,
          2.117564171158039,
          2.0547535832727846,
          1.857239425596543,
          4.156568042204068,
          2.3936759811804404,
          2.245192039901097,
          1.239954055875945,
          2.2468770610519027,
          1.8605351316633376,
          1.9162053662584737,
          2.3010781791075803,
          2.3373455811014727,
          3.4796331223103207,
          4.477478637819356,
          2.6548084295546115,
          2.6642246749126977,
          2.985809935781125,
          2.5536292397552365,
          2.1505853680451628,
          3.172170143797464,
          -0.42131550752547753,
          1.5934198068243688,
          2.690296958765697,
          2.320997616343173,
          1.269078841703588,
          1.9342862511313679,
          1.2091847986454283,
          0.6657676672343105,
          2.2506053313045493,
          2.2978782125982353,
          2.1587793125688317,
          1.5129381031983338,
          2.8308281295336855,
          3.860821065794456,
          3.90946754334815,
          -0.16050554906193293,
          0.9585820519921966,
          1.905693272170756,
          2.7563017536018712,
          2.5695389190437763,
          2.3546665721458786,
          2.264652109521661,
          2.5314671108103313,
          0.026624698781496425,
          3.875949881981085,
          2.7689773736853556,
          2.21580699439299,
          1.4625671050407996,
          1.2440396620954226,
          2.4277510432529916,
          -0.30862370300825903,
          0.998444813050644,
          1.7152857267225357,
          1.9823012780167264,
          0.47909148926732215,
          3.108352140589506,
          1.74361638878487,
          1.506705337340562,
          1.5178242490071308,
          1.9591913645062153,
          1.618220128982703,
          2.271102158859126,
          1.5138467884290385,
          2.4304253971947043,
          1.839477055872798,
          2.6167931017562913,
          1.2319233774381764,
          1.8908368617336584,
          2.6519662506132047,
          1.222858104648423,
          0.7735542274729876,
          2.3624033028693416,
          0.9245979528785857,
          1.1569994577557245,
          0.49611144802211316,
          3.001822119903552,
          -0.03124154310442462,
          0.6405390972176759,
          0.47976002933849005,
          0.04047372185083953,
          2.7824831191833432,
          1.4594969216189313,
          4.219394683240266,
          1.2144467498868239,
          1.9149572840175748,
          1.4577626117119897,
          2.1201073397382793,
          2.520796618755196,
          1.4865830562329427,
          0.29319883656195334,
          2.6822987508959177,
          2.446178845507568,
          2.690855843380838,
          1.2024425351596242,
          3.5714152733549973,
          2.9575776091310324,
          2.637339214089947,
          2.3915046879351247,
          3.086266333108208,
          0.45469236854824246,
          0.30434862795936835,
          2.8488373234617876,
          2.5459305055161265,
          2.3039290312225815,
          3.400183634591133,
          2.5510952425903506,
          4.5979149668354165,
          1.5246271071882933,
          2.7583305120505823,
          4.251689483157774,
          0.49385978879616643,
          1.4308860613116883
         ],
         "xaxis": "x",
         "y": [
          "Group B",
          "Group B",
          "Group B",
          "Group B",
          "Group B",
          "Group B",
          "Group B",
          "Group B",
          "Group B",
          "Group B",
          "Group B",
          "Group B",
          "Group B",
          "Group B",
          "Group B",
          "Group B",
          "Group B",
          "Group B",
          "Group B",
          "Group B",
          "Group B",
          "Group B",
          "Group B",
          "Group B",
          "Group B",
          "Group B",
          "Group B",
          "Group B",
          "Group B",
          "Group B",
          "Group B",
          "Group B",
          "Group B",
          "Group B",
          "Group B",
          "Group B",
          "Group B",
          "Group B",
          "Group B",
          "Group B",
          "Group B",
          "Group B",
          "Group B",
          "Group B",
          "Group B",
          "Group B",
          "Group B",
          "Group B",
          "Group B",
          "Group B",
          "Group B",
          "Group B",
          "Group B",
          "Group B",
          "Group B",
          "Group B",
          "Group B",
          "Group B",
          "Group B",
          "Group B",
          "Group B",
          "Group B",
          "Group B",
          "Group B",
          "Group B",
          "Group B",
          "Group B",
          "Group B",
          "Group B",
          "Group B",
          "Group B",
          "Group B",
          "Group B",
          "Group B",
          "Group B",
          "Group B",
          "Group B",
          "Group B",
          "Group B",
          "Group B",
          "Group B",
          "Group B",
          "Group B",
          "Group B",
          "Group B",
          "Group B",
          "Group B",
          "Group B",
          "Group B",
          "Group B",
          "Group B",
          "Group B",
          "Group B",
          "Group B",
          "Group B",
          "Group B",
          "Group B",
          "Group B",
          "Group B",
          "Group B",
          "Group B",
          "Group B",
          "Group B",
          "Group B",
          "Group B",
          "Group B",
          "Group B",
          "Group B",
          "Group B",
          "Group B",
          "Group B",
          "Group B",
          "Group B",
          "Group B",
          "Group B",
          "Group B",
          "Group B",
          "Group B",
          "Group B",
          "Group B",
          "Group B",
          "Group B",
          "Group B",
          "Group B",
          "Group B",
          "Group B",
          "Group B",
          "Group B",
          "Group B",
          "Group B",
          "Group B",
          "Group B",
          "Group B",
          "Group B",
          "Group B",
          "Group B",
          "Group B",
          "Group B",
          "Group B",
          "Group B",
          "Group B",
          "Group B",
          "Group B",
          "Group B",
          "Group B",
          "Group B",
          "Group B",
          "Group B",
          "Group B",
          "Group B",
          "Group B",
          "Group B",
          "Group B",
          "Group B",
          "Group B",
          "Group B",
          "Group B",
          "Group B",
          "Group B",
          "Group B",
          "Group B",
          "Group B",
          "Group B",
          "Group B",
          "Group B",
          "Group B",
          "Group B",
          "Group B",
          "Group B",
          "Group B",
          "Group B",
          "Group B",
          "Group B",
          "Group B",
          "Group B",
          "Group B",
          "Group B",
          "Group B",
          "Group B",
          "Group B",
          "Group B",
          "Group B",
          "Group B",
          "Group B",
          "Group B",
          "Group B",
          "Group B",
          "Group B",
          "Group B",
          "Group B",
          "Group B",
          "Group B",
          "Group B",
          "Group B",
          "Group B",
          "Group B",
          "Group B",
          "Group B",
          "Group B",
          "Group B"
         ],
         "yaxis": "y2"
        }
       ],
       "layout": {
        "autosize": true,
        "barmode": "overlay",
        "hovermode": "closest",
        "legend": {
         "traceorder": "reversed"
        },
        "template": {
         "data": {
          "bar": [
           {
            "error_x": {
             "color": "#2a3f5f"
            },
            "error_y": {
             "color": "#2a3f5f"
            },
            "marker": {
             "line": {
              "color": "#E5ECF6",
              "width": 0.5
             },
             "pattern": {
              "fillmode": "overlay",
              "size": 10,
              "solidity": 0.2
             }
            },
            "type": "bar"
           }
          ],
          "barpolar": [
           {
            "marker": {
             "line": {
              "color": "#E5ECF6",
              "width": 0.5
             },
             "pattern": {
              "fillmode": "overlay",
              "size": 10,
              "solidity": 0.2
             }
            },
            "type": "barpolar"
           }
          ],
          "carpet": [
           {
            "aaxis": {
             "endlinecolor": "#2a3f5f",
             "gridcolor": "white",
             "linecolor": "white",
             "minorgridcolor": "white",
             "startlinecolor": "#2a3f5f"
            },
            "baxis": {
             "endlinecolor": "#2a3f5f",
             "gridcolor": "white",
             "linecolor": "white",
             "minorgridcolor": "white",
             "startlinecolor": "#2a3f5f"
            },
            "type": "carpet"
           }
          ],
          "choropleth": [
           {
            "colorbar": {
             "outlinewidth": 0,
             "ticks": ""
            },
            "type": "choropleth"
           }
          ],
          "contour": [
           {
            "colorbar": {
             "outlinewidth": 0,
             "ticks": ""
            },
            "colorscale": [
             [
              0,
              "#0d0887"
             ],
             [
              0.1111111111111111,
              "#46039f"
             ],
             [
              0.2222222222222222,
              "#7201a8"
             ],
             [
              0.3333333333333333,
              "#9c179e"
             ],
             [
              0.4444444444444444,
              "#bd3786"
             ],
             [
              0.5555555555555556,
              "#d8576b"
             ],
             [
              0.6666666666666666,
              "#ed7953"
             ],
             [
              0.7777777777777778,
              "#fb9f3a"
             ],
             [
              0.8888888888888888,
              "#fdca26"
             ],
             [
              1,
              "#f0f921"
             ]
            ],
            "type": "contour"
           }
          ],
          "contourcarpet": [
           {
            "colorbar": {
             "outlinewidth": 0,
             "ticks": ""
            },
            "type": "contourcarpet"
           }
          ],
          "heatmap": [
           {
            "colorbar": {
             "outlinewidth": 0,
             "ticks": ""
            },
            "colorscale": [
             [
              0,
              "#0d0887"
             ],
             [
              0.1111111111111111,
              "#46039f"
             ],
             [
              0.2222222222222222,
              "#7201a8"
             ],
             [
              0.3333333333333333,
              "#9c179e"
             ],
             [
              0.4444444444444444,
              "#bd3786"
             ],
             [
              0.5555555555555556,
              "#d8576b"
             ],
             [
              0.6666666666666666,
              "#ed7953"
             ],
             [
              0.7777777777777778,
              "#fb9f3a"
             ],
             [
              0.8888888888888888,
              "#fdca26"
             ],
             [
              1,
              "#f0f921"
             ]
            ],
            "type": "heatmap"
           }
          ],
          "heatmapgl": [
           {
            "colorbar": {
             "outlinewidth": 0,
             "ticks": ""
            },
            "colorscale": [
             [
              0,
              "#0d0887"
             ],
             [
              0.1111111111111111,
              "#46039f"
             ],
             [
              0.2222222222222222,
              "#7201a8"
             ],
             [
              0.3333333333333333,
              "#9c179e"
             ],
             [
              0.4444444444444444,
              "#bd3786"
             ],
             [
              0.5555555555555556,
              "#d8576b"
             ],
             [
              0.6666666666666666,
              "#ed7953"
             ],
             [
              0.7777777777777778,
              "#fb9f3a"
             ],
             [
              0.8888888888888888,
              "#fdca26"
             ],
             [
              1,
              "#f0f921"
             ]
            ],
            "type": "heatmapgl"
           }
          ],
          "histogram": [
           {
            "marker": {
             "pattern": {
              "fillmode": "overlay",
              "size": 10,
              "solidity": 0.2
             }
            },
            "type": "histogram"
           }
          ],
          "histogram2d": [
           {
            "colorbar": {
             "outlinewidth": 0,
             "ticks": ""
            },
            "colorscale": [
             [
              0,
              "#0d0887"
             ],
             [
              0.1111111111111111,
              "#46039f"
             ],
             [
              0.2222222222222222,
              "#7201a8"
             ],
             [
              0.3333333333333333,
              "#9c179e"
             ],
             [
              0.4444444444444444,
              "#bd3786"
             ],
             [
              0.5555555555555556,
              "#d8576b"
             ],
             [
              0.6666666666666666,
              "#ed7953"
             ],
             [
              0.7777777777777778,
              "#fb9f3a"
             ],
             [
              0.8888888888888888,
              "#fdca26"
             ],
             [
              1,
              "#f0f921"
             ]
            ],
            "type": "histogram2d"
           }
          ],
          "histogram2dcontour": [
           {
            "colorbar": {
             "outlinewidth": 0,
             "ticks": ""
            },
            "colorscale": [
             [
              0,
              "#0d0887"
             ],
             [
              0.1111111111111111,
              "#46039f"
             ],
             [
              0.2222222222222222,
              "#7201a8"
             ],
             [
              0.3333333333333333,
              "#9c179e"
             ],
             [
              0.4444444444444444,
              "#bd3786"
             ],
             [
              0.5555555555555556,
              "#d8576b"
             ],
             [
              0.6666666666666666,
              "#ed7953"
             ],
             [
              0.7777777777777778,
              "#fb9f3a"
             ],
             [
              0.8888888888888888,
              "#fdca26"
             ],
             [
              1,
              "#f0f921"
             ]
            ],
            "type": "histogram2dcontour"
           }
          ],
          "mesh3d": [
           {
            "colorbar": {
             "outlinewidth": 0,
             "ticks": ""
            },
            "type": "mesh3d"
           }
          ],
          "parcoords": [
           {
            "line": {
             "colorbar": {
              "outlinewidth": 0,
              "ticks": ""
             }
            },
            "type": "parcoords"
           }
          ],
          "pie": [
           {
            "automargin": true,
            "type": "pie"
           }
          ],
          "scatter": [
           {
            "fillpattern": {
             "fillmode": "overlay",
             "size": 10,
             "solidity": 0.2
            },
            "type": "scatter"
           }
          ],
          "scatter3d": [
           {
            "line": {
             "colorbar": {
              "outlinewidth": 0,
              "ticks": ""
             }
            },
            "marker": {
             "colorbar": {
              "outlinewidth": 0,
              "ticks": ""
             }
            },
            "type": "scatter3d"
           }
          ],
          "scattercarpet": [
           {
            "marker": {
             "colorbar": {
              "outlinewidth": 0,
              "ticks": ""
             }
            },
            "type": "scattercarpet"
           }
          ],
          "scattergeo": [
           {
            "marker": {
             "colorbar": {
              "outlinewidth": 0,
              "ticks": ""
             }
            },
            "type": "scattergeo"
           }
          ],
          "scattergl": [
           {
            "marker": {
             "colorbar": {
              "outlinewidth": 0,
              "ticks": ""
             }
            },
            "type": "scattergl"
           }
          ],
          "scattermapbox": [
           {
            "marker": {
             "colorbar": {
              "outlinewidth": 0,
              "ticks": ""
             }
            },
            "type": "scattermapbox"
           }
          ],
          "scatterpolar": [
           {
            "marker": {
             "colorbar": {
              "outlinewidth": 0,
              "ticks": ""
             }
            },
            "type": "scatterpolar"
           }
          ],
          "scatterpolargl": [
           {
            "marker": {
             "colorbar": {
              "outlinewidth": 0,
              "ticks": ""
             }
            },
            "type": "scatterpolargl"
           }
          ],
          "scatterternary": [
           {
            "marker": {
             "colorbar": {
              "outlinewidth": 0,
              "ticks": ""
             }
            },
            "type": "scatterternary"
           }
          ],
          "surface": [
           {
            "colorbar": {
             "outlinewidth": 0,
             "ticks": ""
            },
            "colorscale": [
             [
              0,
              "#0d0887"
             ],
             [
              0.1111111111111111,
              "#46039f"
             ],
             [
              0.2222222222222222,
              "#7201a8"
             ],
             [
              0.3333333333333333,
              "#9c179e"
             ],
             [
              0.4444444444444444,
              "#bd3786"
             ],
             [
              0.5555555555555556,
              "#d8576b"
             ],
             [
              0.6666666666666666,
              "#ed7953"
             ],
             [
              0.7777777777777778,
              "#fb9f3a"
             ],
             [
              0.8888888888888888,
              "#fdca26"
             ],
             [
              1,
              "#f0f921"
             ]
            ],
            "type": "surface"
           }
          ],
          "table": [
           {
            "cells": {
             "fill": {
              "color": "#EBF0F8"
             },
             "line": {
              "color": "white"
             }
            },
            "header": {
             "fill": {
              "color": "#C8D4E3"
             },
             "line": {
              "color": "white"
             }
            },
            "type": "table"
           }
          ]
         },
         "layout": {
          "annotationdefaults": {
           "arrowcolor": "#2a3f5f",
           "arrowhead": 0,
           "arrowwidth": 1
          },
          "autotypenumbers": "strict",
          "coloraxis": {
           "colorbar": {
            "outlinewidth": 0,
            "ticks": ""
           }
          },
          "colorscale": {
           "diverging": [
            [
             0,
             "#8e0152"
            ],
            [
             0.1,
             "#c51b7d"
            ],
            [
             0.2,
             "#de77ae"
            ],
            [
             0.3,
             "#f1b6da"
            ],
            [
             0.4,
             "#fde0ef"
            ],
            [
             0.5,
             "#f7f7f7"
            ],
            [
             0.6,
             "#e6f5d0"
            ],
            [
             0.7,
             "#b8e186"
            ],
            [
             0.8,
             "#7fbc41"
            ],
            [
             0.9,
             "#4d9221"
            ],
            [
             1,
             "#276419"
            ]
           ],
           "sequential": [
            [
             0,
             "#0d0887"
            ],
            [
             0.1111111111111111,
             "#46039f"
            ],
            [
             0.2222222222222222,
             "#7201a8"
            ],
            [
             0.3333333333333333,
             "#9c179e"
            ],
            [
             0.4444444444444444,
             "#bd3786"
            ],
            [
             0.5555555555555556,
             "#d8576b"
            ],
            [
             0.6666666666666666,
             "#ed7953"
            ],
            [
             0.7777777777777778,
             "#fb9f3a"
            ],
            [
             0.8888888888888888,
             "#fdca26"
            ],
            [
             1,
             "#f0f921"
            ]
           ],
           "sequentialminus": [
            [
             0,
             "#0d0887"
            ],
            [
             0.1111111111111111,
             "#46039f"
            ],
            [
             0.2222222222222222,
             "#7201a8"
            ],
            [
             0.3333333333333333,
             "#9c179e"
            ],
            [
             0.4444444444444444,
             "#bd3786"
            ],
            [
             0.5555555555555556,
             "#d8576b"
            ],
            [
             0.6666666666666666,
             "#ed7953"
            ],
            [
             0.7777777777777778,
             "#fb9f3a"
            ],
            [
             0.8888888888888888,
             "#fdca26"
            ],
            [
             1,
             "#f0f921"
            ]
           ]
          },
          "colorway": [
           "#636efa",
           "#EF553B",
           "#00cc96",
           "#ab63fa",
           "#FFA15A",
           "#19d3f3",
           "#FF6692",
           "#B6E880",
           "#FF97FF",
           "#FECB52"
          ],
          "font": {
           "color": "#2a3f5f"
          },
          "geo": {
           "bgcolor": "white",
           "lakecolor": "white",
           "landcolor": "#E5ECF6",
           "showlakes": true,
           "showland": true,
           "subunitcolor": "white"
          },
          "hoverlabel": {
           "align": "left"
          },
          "hovermode": "closest",
          "mapbox": {
           "style": "light"
          },
          "paper_bgcolor": "white",
          "plot_bgcolor": "#E5ECF6",
          "polar": {
           "angularaxis": {
            "gridcolor": "white",
            "linecolor": "white",
            "ticks": ""
           },
           "bgcolor": "#E5ECF6",
           "radialaxis": {
            "gridcolor": "white",
            "linecolor": "white",
            "ticks": ""
           }
          },
          "scene": {
           "xaxis": {
            "backgroundcolor": "#E5ECF6",
            "gridcolor": "white",
            "gridwidth": 2,
            "linecolor": "white",
            "showbackground": true,
            "ticks": "",
            "zerolinecolor": "white"
           },
           "yaxis": {
            "backgroundcolor": "#E5ECF6",
            "gridcolor": "white",
            "gridwidth": 2,
            "linecolor": "white",
            "showbackground": true,
            "ticks": "",
            "zerolinecolor": "white"
           },
           "zaxis": {
            "backgroundcolor": "#E5ECF6",
            "gridcolor": "white",
            "gridwidth": 2,
            "linecolor": "white",
            "showbackground": true,
            "ticks": "",
            "zerolinecolor": "white"
           }
          },
          "shapedefaults": {
           "line": {
            "color": "#2a3f5f"
           }
          },
          "ternary": {
           "aaxis": {
            "gridcolor": "white",
            "linecolor": "white",
            "ticks": ""
           },
           "baxis": {
            "gridcolor": "white",
            "linecolor": "white",
            "ticks": ""
           },
           "bgcolor": "#E5ECF6",
           "caxis": {
            "gridcolor": "white",
            "linecolor": "white",
            "ticks": ""
           }
          },
          "title": {
           "x": 0.05
          },
          "xaxis": {
           "automargin": true,
           "gridcolor": "white",
           "linecolor": "white",
           "ticks": "",
           "title": {
            "standoff": 15
           },
           "zerolinecolor": "white",
           "zerolinewidth": 2
          },
          "yaxis": {
           "automargin": true,
           "gridcolor": "white",
           "linecolor": "white",
           "ticks": "",
           "title": {
            "standoff": 15
           },
           "zerolinecolor": "white",
           "zerolinewidth": 2
          }
         }
        },
        "title": {
         "text": "Distribution Plot (Figure Factory)"
        },
        "xaxis": {
         "anchor": "y2",
         "autorange": true,
         "domain": [
          0,
          1
         ],
         "range": [
          -3.5977876315530577,
          5.066728894997055
         ],
         "type": "linear",
         "zeroline": false
        },
        "yaxis": {
         "anchor": "free",
         "autorange": true,
         "domain": [
          0.35,
          1
         ],
         "position": 0,
         "range": [
          -0.02953815385711842,
          0.6331335870451116
         ],
         "type": "linear"
        },
        "yaxis2": {
         "anchor": "x",
         "autorange": true,
         "domain": [
          0,
          0.25
         ],
         "dtick": 1,
         "range": [
          -0.18181818181818182,
          1.1818181818181819
         ],
         "showticklabels": false,
         "type": "category"
        }
       }
      },
      "image/png": "[encoded data removed]",
      "text/html": [
       "<div>                            <div id=\"e1e63835-d2b8-41bf-b3b6-40723746e82b\" class=\"plotly-graph-div\" style=\"height:525px; width:100%;\"></div>            <script type=\"text/javascript\">                require([\"plotly\"], function(Plotly) {                    window.PLOTLYENV=window.PLOTLYENV || {};                                    if (document.getElementById(\"e1e63835-d2b8-41bf-b3b6-40723746e82b\")) {                    Plotly.newPlot(                        \"e1e63835-d2b8-41bf-b3b6-40723746e82b\",                        [{\"autobinx\":false,\"histnorm\":\"probability density\",\"legendgroup\":\"Group A\",\"marker\":{\"color\":\"rgb(31, 119, 180)\"},\"name\":\"Group A\",\"opacity\":0.7,\"x\":[0.5226106571422477,-0.9862045594268695,0.2523149705675462,0.4340712301624237,0.4881503216726591,-0.5677487462413985,0.5299269369063085,-1.6324042323837882,0.32294523259966224,0.08101404059844737,1.011055820492742,0.7493593064480719,0.3581896660668545,-0.4326037722127551,-0.9429691992146093,-0.8810177874415466,0.42536312870641524,-0.3945079073485604,0.28441222616499373,-0.3614823117769486,2.94911572502335,-3.1289737033914196,0.05431017241079503,-0.7872656150196359,0.2002524088958735,-1.3326792945033281,0.4152937588316102,-0.19603901523666203,1.17133572138937,-0.36284399195738004,0.48145573868306013,0.3339965409602627,-0.45320911037304795,2.568748968513351,-0.22642297686272678,-0.46426163905556905,0.2747955442946937,0.22380898825325216,-1.5991729805906678,-0.4968096434281557,1.5799038690097762,0.0002943716616984785,0.9675784943055157,-0.9149053311797869,-0.1956774732818473,-1.0353125507683523,-0.14014201284118621,0.14661725926151367,-1.6708580298035378,-0.5346162416664917,0.07331740436358339,0.2850545394414067,0.7408591920689229,-0.6151413059930887,-0.16896608136836458,-0.3216381130888585,-0.5629790634934019,0.18724127935958723,0.08272169433011438,-0.7429831206731979,-2.030237522361153,0.22624574499984695,-1.6841709644359524,-0.47347899632092083,-0.11487799110834873,-0.7658473128439227,1.783903163561235,1.0727747652558608,-0.8141229496917883,1.4453949473067855,0.021381095728903746,0.5392073668044653,-0.3472507935326009,-0.2272483793101159,0.13337916445051215,-1.8919005498161832,1.3039887691985659,-0.11694217497628429,-0.6620049439521447,0.08415242932347888,0.12234432861542997,0.5132557382648872,-0.7400426597678136,-1.736285600165537,-0.27888135060080127,1.5485521800775177,-0.5420162706298582,0.9559521802264879,1.5849877476906673,1.0348553967183918,0.861479121809729,-0.5302601456620268,0.6452467596350188,-0.11336747674616965,-0.11163748640781261,0.9395672245325211,0.4187782387854749,1.0918119532709099,-1.1125163536707408,1.203660963340982,0.6971470264345518,0.36315295434485595,0.5680282224531296,0.4575137894069297,0.1404837070479387,0.49203983943262375,1.038076308243128,0.46857104917450265,0.4061769552516953,0.21099303106174186,-0.8504243190233117,-0.8385927045185514,0.7221637167404696,-1.116382088396497,0.18081843898651118,1.3095300230586284,0.4967400706568351,-0.5440515298820844,2.2033818365339757,-1.7928643944557874,-0.6417350232775179,-1.0913622187285612,0.9507287155074792,0.2670048606496645,0.3845566869978087,-1.2184057559045904,1.5851054842973498,0.13271211655240575,0.1777662973113108,-0.11024079280676119,-0.31128050088209996,0.003631973487656079,0.010638602489157644,-1.1589446173620501,-1.206261615189687,-0.29536661492881783,0.3941726686653391,0.7235555939753961,-0.7059245238109748,-0.5275449280099233,0.12640554800305276,-0.6195292105088843,-0.6518652845261954,0.3167274848137016,-0.35556118185933033,-1.0898392316578334,1.3737119723506952,0.4698846438969035,-0.7629508516755182,-0.6756225935232677,0.48304770206339487,0.7018254039766645,-0.37257240542353126,-0.6669523288783781,0.44006852001423474,1.176496330624501,0.18848987955605678,0.19852722502607975,0.2562480562204262,-0.11634881522587709,0.4814100725951739,-0.9994836182052129,1.4214692165141778,0.6473724613427756,0.4874386039656413,-0.665255508584248,0.35927471556265544,0.4002673859331011,0.9416393061413662,-1.5380543949881074,0.85506565552347,1.8948417014060275,0.9225513541007317,1.107421693453896,-1.0595383846941184,-0.32269409271491356,-0.0441791629318729,0.09853848133911114,1.302420386936118,1.0787303769537715,-0.6827148583641135,-1.4018666439394194,-0.5175961004213605,0.9708406212962156,-0.6934978337692776,-0.10291097814743211,0.05738499511897776,1.1172061257351245,1.5924218334986535,-0.6583703152025933,0.0878820491470042,-0.14796151409183633,-0.2829053897245801,-0.5330530579385333,-0.7861517875876604,1.5618896518129424,-1.5258348741228531,-1.3141816263127108,0.7369508705927297,-0.06919395198785923],\"xaxis\":\"x\",\"xbins\":{\"end\":2.94911572502335,\"size\":0.2,\"start\":-3.1289737033914196},\"yaxis\":\"y\",\"type\":\"histogram\"},{\"autobinx\":false,\"histnorm\":\"probability density\",\"legendgroup\":\"Group B\",\"marker\":{\"color\":\"rgb(255, 127, 14)\"},\"name\":\"Group B\",\"opacity\":0.7,\"x\":[0.6700491412140166,3.2691557906147706,3.4862887583342745,0.543321686598689,2.5000020108076124,0.7543424835190429,3.8334031311166914,1.2062535107257943,1.8693318580674043,1.5000046114996557,1.8347837816868668,-0.6972954147447705,2.7348086368970423,3.258096869871526,1.231231742451845,1.9710510773694554,0.9271372672694123,1.8411793208467964,1.4067307365384154,1.4001366894425917,1.5087192818307478,2.224952054976384,0.9100981462381308,2.954981427523218,1.8224300106537572,2.963165257791669,1.9384398490100545,0.6996088386930526,2.0276824814573144,2.1548033503238004,1.371418864886832,0.09911676898967747,2.44695976148266,2.268679679876869,2.2387837150682093,3.059402760419637,2.5120444643057347,1.8246015851321837,0.8507925243229388,1.6884695499563942,2.600377130812438,2.391524093431419,2.621732332790492,2.1654251145667276,3.1365948883293693,1.0109645664553102,2.585438553034426,1.8963777328248208,2.87596164796499,1.3457841581231236,1.7900071852989106,0.25620644679793636,0.7149142985188313,1.3797109400011363,3.6696638000313735,3.6911182191454395,2.4316169269773025,3.0270306096477277,0.7600964760020803,2.0249386625280836,-0.831888672056476,0.33172161606652906,3.702435706882773,2.199454147042249,1.5204206593667744,3.1599067571892094,3.3016119606660608,2.1332465104412575,3.0825787974022276,1.3652439099421974,2.3140936761856103,3.6757796834462555,3.645138047902138,1.8240845240901296,1.8171339406914426,2.127172879230957,0.5206785254576387,1.0024188291635459,3.068595056155027,1.4100285343369603,1.2889674027792806,3.186710281488124,1.568927292847317,2.73383148169614,2.8751502816876084,1.8821884362492753,2.229254694496547,2.5647712812838486,2.117564171158039,2.0547535832727846,1.857239425596543,4.156568042204068,2.3936759811804404,2.245192039901097,1.239954055875945,2.2468770610519027,1.8605351316633376,1.9162053662584737,2.3010781791075803,2.3373455811014727,3.4796331223103207,4.477478637819356,2.6548084295546115,2.6642246749126977,2.985809935781125,2.5536292397552365,2.1505853680451628,3.172170143797464,-0.42131550752547753,1.5934198068243688,2.690296958765697,2.320997616343173,1.269078841703588,1.9342862511313679,1.2091847986454283,0.6657676672343105,2.2506053313045493,2.2978782125982353,2.1587793125688317,1.5129381031983338,2.8308281295336855,3.860821065794456,3.90946754334815,-0.16050554906193293,0.9585820519921966,1.905693272170756,2.7563017536018712,2.5695389190437763,2.3546665721458786,2.264652109521661,2.5314671108103313,0.026624698781496425,3.875949881981085,2.7689773736853556,2.21580699439299,1.4625671050407996,1.2440396620954226,2.4277510432529916,-0.30862370300825903,0.998444813050644,1.7152857267225357,1.9823012780167264,0.47909148926732215,3.108352140589506,1.74361638878487,1.506705337340562,1.5178242490071308,1.9591913645062153,1.618220128982703,2.271102158859126,1.5138467884290385,2.4304253971947043,1.839477055872798,2.6167931017562913,1.2319233774381764,1.8908368617336584,2.6519662506132047,1.222858104648423,0.7735542274729876,2.3624033028693416,0.9245979528785857,1.1569994577557245,0.49611144802211316,3.001822119903552,-0.03124154310442462,0.6405390972176759,0.47976002933849005,0.04047372185083953,2.7824831191833432,1.4594969216189313,4.219394683240266,1.2144467498868239,1.9149572840175748,1.4577626117119897,2.1201073397382793,2.520796618755196,1.4865830562329427,0.29319883656195334,2.6822987508959177,2.446178845507568,2.690855843380838,1.2024425351596242,3.5714152733549973,2.9575776091310324,2.637339214089947,2.3915046879351247,3.086266333108208,0.45469236854824246,0.30434862795936835,2.8488373234617876,2.5459305055161265,2.3039290312225815,3.400183634591133,2.5510952425903506,4.5979149668354165,1.5246271071882933,2.7583305120505823,4.251689483157774,0.49385978879616643,1.4308860613116883],\"xaxis\":\"x\",\"xbins\":{\"end\":4.5979149668354165,\"size\":0.2,\"start\":-0.831888672056476},\"yaxis\":\"y\",\"type\":\"histogram\"},{\"legendgroup\":\"Group A\",\"marker\":{\"color\":\"rgb(31, 119, 180)\"},\"mode\":\"lines\",\"name\":\"Group A\",\"showlegend\":false,\"x\":[-3.1289737033914196,-3.11681752453459,-3.1046613456777603,-3.092505166820931,-3.0803489879641015,-3.0681928091072717,-3.0560366302504423,-3.043880451393613,-3.0317242725367834,-3.0195680936799536,-3.007411914823124,-2.995255735966295,-2.983099557109465,-2.9709433782526355,-2.958787199395806,-2.9466310205389763,-2.934474841682147,-2.9223186628253175,-2.9101624839684876,-2.8980063051116582,-2.885850126254829,-2.8736939473979994,-2.8615377685411696,-2.84938158968434,-2.837225410827511,-2.825069231970681,-2.8129130531138515,-2.800756874257022,-2.7886006954001923,-2.776444516543363,-2.7642883376865335,-2.7521321588297036,-2.7399759799728742,-2.727819801116045,-2.715663622259215,-2.7035074434023856,-2.691351264545556,-2.6791950856887268,-2.667038906831897,-2.6548827279750675,-2.642726549118238,-2.6305703702614083,-2.618414191404579,-2.6062580125477495,-2.59410183369092,-2.58194565483409,-2.569789475977261,-2.5576332971204314,-2.5454771182636016,-2.533320939406772,-2.5211647605499428,-2.509008581693113,-2.4968524028362835,-2.484696223979454,-2.4725400451226243,-2.460383866265795,-2.4482276874089655,-2.4360715085521356,-2.423915329695306,-2.411759150838477,-2.399602971981647,-2.3874467931248176,-2.375290614267988,-2.3631344354111588,-2.350978256554329,-2.3388220776974995,-2.32666589884067,-2.3145097199838407,-2.302353541127011,-2.2901973622701814,-2.278041183413352,-2.265885004556522,-2.253728825699693,-2.2415726468428634,-2.2294164679860335,-2.217260289129204,-2.2051041102723747,-2.192947931415545,-2.1807917525587155,-2.168635573701886,-2.1564793948450562,-2.144323215988227,-2.1321670371313974,-2.1200108582745676,-2.107854679417738,-2.095698500560909,-2.083542321704079,-2.0713861428472495,-2.05922996399042,-2.0470737851335903,-2.0349176062767613,-2.0227614274199315,-2.0106052485631016,-1.9984490697062725,-1.9862928908494428,-1.9741367119926132,-1.9619805331357838,-1.9498243542789542,-1.9376681754221248,-1.9255119965652951,-1.9133558177084655,-1.9011996388516361,-1.8890434599948067,-1.8768872811379769,-1.8647311022811475,-1.8525749234243178,-1.8404187445674884,-1.8282625657106588,-1.8161063868538292,-1.8039502079969998,-1.7917940291401704,-1.7796378502833405,-1.7674816714265111,-1.7553254925696817,-1.743169313712852,-1.7310131348560225,-1.7188569559991929,-1.7067007771423635,-1.694544598285534,-1.6823884194287042,-1.6702322405718748,-1.6580760617150454,-1.6459198828582158,-1.6337637040013862,-1.6216075251445565,-1.6094513462877271,-1.5972951674308977,-1.5851389885740679,-1.5729828097172385,-1.560826630860409,-1.5486704520035794,-1.5365142731467498,-1.5243580942899204,-1.5122019154330908,-1.5000457365762614,-1.4878895577194315,-1.4757333788626021,-1.4635772000057727,-1.4514210211489431,-1.4392648422921135,-1.427108663435284,-1.4149524845784545,-1.402796305721625,-1.3906401268647952,-1.3784839480079658,-1.3663277691511364,-1.3541715902943068,-1.3420154114374772,-1.3298592325806478,-1.3177030537238181,-1.3055468748669887,-1.293390696010159,-1.2812345171533295,-1.2690783382965,-1.2569221594396704,-1.2447659805828408,-1.2326098017260114,-1.2204536228691818,-1.2082974440123524,-1.1961412651555228,-1.1839850862986931,-1.1718289074418637,-1.1596727285850343,-1.1475165497282045,-1.135360370871375,-1.1232041920145455,-1.111048013157716,-1.0988918343008867,-1.0867356554440568,-1.074579476587227,-1.062423297730398,-1.0502671188735682,-1.0381109400167388,-1.0259547611599094,-1.0137985823030795,-1.00164240344625,-0.9894862245894207,-0.9773300457325909,-0.9651738668757615,-0.953017688018932,-0.9408615091621026,-0.9287053303052728,-0.9165491514484434,-0.904392972591614,-0.8922367937347842,-0.8800806148779547,-0.8679244360211253,-0.8557682571642955,-0.8436120783074661,-0.8314558994506367,-0.8192997205938068,-0.8071435417369774,-0.794987362880148,-0.7828311840233182,-0.7706750051664888,-0.7585188263096594,-0.74636264745283,-0.7342064685960001,-0.7220502897391707,-0.7098941108823413,-0.6977379320255115,-0.6855817531686825,-0.6734255743118527,-0.6612693954550228,-0.6491132165981939,-0.636957037741364,-0.6248008588845342,-0.6126446800277048,-0.6004885011708754,-0.5883323223140455,-0.5761761434572161,-0.5640199646003867,-0.5518637857435573,-0.5397076068867275,-0.5275514280298981,-0.5153952491730687,-0.5032390703162388,-0.49108289145940986,-0.47892671260258,-0.46677053374575017,-0.4546143548889212,-0.44245817603209137,-0.4303019971752615,-0.41814581831843256,-0.4059896394616027,-0.3938334606047733,-0.3816772817479439,-0.36952110289111406,-0.35736492403428466,-0.3452087451774548,-0.3330525663206254,-0.320896387463796,-0.30874020860696616,-0.2965840297501372,-0.28442785089330735,-0.2722716720364775,-0.26011549317964855,-0.2479593143228187,-0.23580313546598886,-0.2236469566091599,-0.21149077775233005,-0.19933459889550065,-0.18717842003867124,-0.1750222411818414,-0.162866062325012,-0.1507098834681826,-0.13855370461135275,-0.12639752575452334,-0.1142413468976935,-0.10208516804086454,-0.08992898918403469,-0.07777281032720484,-0.06561663147037589,-0.05346045261354604,-0.04130427375671619,-0.029148094899887234,-0.016991916043057387,-0.004835737186227984,0.007320441670601419,0.019476620527431265,0.03163279938426067,0.04378897824109007,0.05594515709791992,0.06810133595474932,0.08025751481157872,0.09241369366840813,0.10456987252523797,0.11672605138206782,0.12888223023889678,0.14103840909572662,0.15319458795255647,0.16535076680938543,0.17750694566621528,0.18966312452304468,0.20181930337987408,0.21397548223670393,0.22613166109353333,0.23828783995036273,0.2504440188071926,0.262600197664022,0.2747563765208514,0.2869125553776808,0.29906873423451064,0.31122491309134004,0.32338109194816944,0.3355372708049993,0.34769344966182913,0.3598496285186581,0.37200580737548794,0.38416198623231734,0.39631816508914675,0.4084743439459766,0.420630522802806,0.4327867016596354,0.44494288051646524,0.45709905937329465,0.46925523823012405,0.48141141708695345,0.4935675959437833,0.5057237748006127,0.5178799536574421,0.530036132514272,0.5421923113711014,0.5543484902279308,0.5665046690847606,0.5786608479415896,0.5908170267984194,0.6029732056552493,0.6151293845120787,0.6272855633689081,0.6394417422257379,0.6515979210825673,0.6637540999393967,0.6759102787962261,0.688066457653056,0.7002226365098854,0.7123788153667148,0.7245349942235446,0.736691173080374,0.7488473519372034,0.7610035307940333,0.7731597096508622,0.7853158885076921,0.7974720673645219,0.8096282462213509,0.8217844250781807,0.8339406039350106,0.84609678279184,0.8582529616486694,0.8704091405054988,0.8825653193623286,0.8947214982191576,0.9068776770759874,0.9190338559328173,0.9311900347896462,0.9433462136464761,0.9555023925033059,0.9676585713601358,0.9798147502169656,0.9919709290737937,1.0041271079306235,1.0162832867874534,1.0284394656442832,1.040595644501113,1.052751823357942,1.064908002214771,1.0770641810716008,1.0892203599284307,1.1013765387852605,1.1135327176420895,1.1256888964989193,1.1378450753557483,1.1500012542125782,1.162157433069408,1.1743136119262378,1.1864697907830668,1.1986259696398966,1.2107821484967265,1.2229383273535555,1.2350945062103853,1.2472506850672143,1.259406863924044,1.271563042780874,1.2837192216377038,1.2958754004945328,1.3080315793513617,1.3201877582081916,1.3323439370650214,1.3445001159218513,1.356656294778681,1.36881247363551,1.380968652492339,1.3931248313491689,1.4052810102059987,1.4174371890628286,1.4295933679196584,1.4417495467764874,1.4539057256333163,1.4660619044901462,1.478218083346976,1.4903742622038059,1.5025304410606348,1.5146866199174647,1.5268427987742936,1.5389989776311235,1.5511551564879533,1.5633113353447832,1.5754675142016121,1.587623693058442,1.599779871915271,1.6119360507721008,1.6240922296289306,1.6362484084857596,1.6484045873425894,1.6605607661994193,1.6727169450562491,1.684873123913078,1.697029302769907,1.709185481626737,1.7213416604835667,1.7334978393403966,1.7456540181972264,1.7578101970540545,1.7699663759108843,1.7821225547677142,1.794278733624544,1.8064349124813739,1.8185910913382037,1.8307472701950318,1.8429034490518617,1.8550596279086915,1.8672158067655213,1.8793719856223512,1.8915281644791802,1.90368434333601,1.915840522192839,1.9279967010496688,1.9401528799064987,1.9523090587633285,1.9644652376201575,1.9766214164769873,1.9887775953338163,2.000933774190646,2.013089953047476,2.025246131904305,2.0374023107611348,2.0495584896179646,2.0617146684747936,2.0738708473316234,2.0860270261884524,2.098183205045282,2.110339383902112,2.122495562758942,2.134651741615771,2.1468079204726,2.1589640993294297,2.1711202781862595,2.1832764570430894,2.195432635899919,2.207588814756749,2.219744993613577,2.231901172470407,2.244057351327237,2.2562135301840667,2.2683697090408965,2.2805258878977255,2.2926820667545544,2.3048382456113843,2.316994424468214,2.329150603325044,2.341306782181873,2.353462961038703,2.3656191398955317,2.3777753187523616,2.3899314976091914,2.4020876764660213,2.4142438553228502,2.42640003417968,2.43855621303651,2.450712391893339,2.4628685707501687,2.4750247496069977,2.4871809284638275,2.4993371073206574,2.5114932861774872,2.523649465034316,2.535805643891145,2.547961822747975,2.560118001604805,2.5722741804616347,2.5844303593184645,2.5965865381752935,2.6087427170321225,2.6208988958889523,2.633055074745782,2.645211253602612,2.657367432459442,2.669523611316271,2.6816797901730998,2.6938359690299296,2.7059921478867595,2.7181483267435893,2.7303045056004183,2.742460684457248,2.754616863314077,2.766773042170907,2.7789292210277368,2.7910853998845666,2.8032415787413956,2.8153977575982254,2.8275539364550544,2.839710115311884,2.851866294168714,2.864022473025543,2.876178651882373,2.8883348307392027,2.9004910095960326,2.9126471884528615,2.9248033673096905,2.9369595461665203],\"xaxis\":\"x\",\"y\":[0.006393895423559215,0.0063917149580522345,0.006380298449754255,0.00635975750144239,0.006330251759512574,0.006291988569460123,0.006245222348505949,0.006190253687615718,0.006127428198062534,0.00605713512036134,0.005979805715816539,0.005895911463039759,0.0058059620835823915,0.005710503422262926,0.005610115208834078,0.005505408728315666,0.005397024427608872,0.005285629485905554,0.005171915375917245,0.005056595442082342,0.004940402520684682,0.004824086625252519,0.004708412718730457,0.004594158591759548,0.0044821128639965235,0.004373073122789732,0.004267844210747215,0.004167236670823574,0.00407206535455978,0.00398314819607796,0.0039013051514045867,0.0038273572997132763,0.0037621261001837187,0.0037064327954051146,0.0036610979496475037,0.00362694110791647,0.003604780559525513,0.0035954331879930845,0.0035997143874200574,0.0036184380241471056,0.0036524164214442744,0.0037024603442574575,0.0037693789606342586,0.003853979756377409,0.0039570683797253816,0.004079448393431959,0.004221920912500486,0.004385284107012984,0.004570332550963826,0.004777856399746237,0.005008640380928417,0.005263462585172677,0.005543093046574992,0.005848292104309389,0.006179808540227303,0.006538377489962253,0.0069247181280991,0.007339531131059131,0.007783495924501468,0.008257267725223548,0.00876147439073011,0.009296713092808625,0.009863546834572806,0.010462500833487686,0.01109405879584768,0.011758659111013692,0.012456690996404784,0.01318849062675434,0.013954337283458872,0.01475444956193876,0.015588981676771406,0.016458019905920697,0.01736157921664547,0.01829960011660028,0.019271945774214184,0.020278399452626623,0.021318662301248664,0.022392351548377782,0.02349899913720898,0.024638050846033276,0.025808865931381847,0.02701071733034959,0.02824279245530975,0.029504194610705033,0.030793945057577918,0.03211098574699212,0.03345418273851059,0.03482233031445893,0.03621415579484963,0.03762832505160144,0.0390634487141129,0.040518089051393966,0.04199076750887438,0.04347997287077941,0.0449841700116503,0.04650180919328173,0.048031335856136385,0.04957120084726786,0.05111987102003359,0.052675840134508274,0.05423763998161244,0.05580385164864374,0.05737311683924282,0.058944149156918695,0.06051574525819575,0.06208679577929493,0.06365629593908764,0.06522335572092565,0.06678720953688791,0.06834722528002402,0.06990291267332696,0.07145393082843088,0.07300009493237448,0.07454138198717129,0.07607793553430926,0.07761006930460983,0.0791382697430056,0.08066319736764588,0.08218568693319374,0.08370674637909895,0.08522755455487611,0.0867494577258409,0.08827396487419387,0.08980274182163489,0.09133760421068637,0.09288050939242974,0.09443354727827613,0.09599893022255367,0.09757898201095841,0.09917612603718233,0.10079287275618205,0.10243180650751413,0.10409557180587502,0.10578685919840028,0.10750839078938891,0.109262905532934,0.11105314439248429,0.11288183546370358,0.11475167915319968,0.11666533350087538,0.1186253997279279,0.12063440808602509,0.12269480407607458,0.12480893509744086,0.1269790375806193,0.12920722464844026,0.13149547434300463,0.13384561844794549,0.13625933192841444,0.13873812300457453,0.14128332386848833,0.14389608204922816,0.14657735242693373,0.14932788989345028,0.15214824265517912,0.1550387461728674,0.15799951773325785,0.1610304516487952,0.16413121508384726,0.16730124450910758,0.1705397427898381,0.17384567691827862,0.1772177764057296,0.1806545323553083,0.1841541972420232,0.18771478543238462,0.19133407448105677,0.19500960724687916,0.1987386948747046,0.20251842069273399,0.20634564507719524,0.21021701133715043,0.2141289526717507,0.2180777002503264,0.222059292462164,0.2260695853776346,0.2301042644555221,0.23415885752288926,0.2382287490437358,0.2423091956810963,0.24639534314421419,0.2504822442981866,0.25456487849816567,0.25863817209407064,0.2626970200349915,0.2667363084854037,0.270750938348122,0.2747358495719957,0.27868604610589365,0.2825966213449063,0.2864627839001141,0.2902798835100962,0.29404343690076784,0.2977491533904139,0.3013929600291366,0.3049710260565358,0.3084797864584359,0.3119159644029793,0.3152765923385294,0.3185590315405119,0.321760989901698,0.32488053777031994,0.32791612165282685,0.3308665756128326,0.3337311302147946,0.3365094188799255,0.33920148154262647,0.3418077655180429,0.34432912351494144,0.3467668087527041,0.34912246716651746,0.3513981267105187,0.35359618379444957,0.3557193869148982,0.3577708175673066,0.3597538685491468,0.36167221978791086,0.3635298118494425,0.36533081730253714,0.3670796101343817,0.3687807334281652,0.37043886552890887,0.3720587849361393,0.37364533417233975,0.3752033828841964,0.3767377904393556,0.37825336828489636,0.37975484233484613,0.38124681565307794,0.3827337316947254,0.3842198383640924,0.3857091531399101,0.3872054295099388,0.3887121249463925,0.3902323706416813,0.3917689432106617,0.3933242385511242,0.3949002480387634,0.39649853721660405,0.398120227121835,0.39976597837550965,0.401435978142623,0.403129930051917,0.4048470471464076,0.40658604791728803,0.40834515545553035,0.41012209973736774,0.4119141230418991,0.4137179884814021,0.415529991607633,0.41734597504047327,0.4191613460487533,0.4209710969970465,0.42276982855663164,0.42455177556372065,0.4263108353934842,0.4280405987043348,0.4297343823934336,0.43138526459143467,0.4329861215121335,0.4345296659609575,0.43600848729515246,0.4374150926181403,0.438741948980899,0.4399815263543736,0.4411263411289845,0.4421689998902788,0.44310224321379715,0.44391898921736433,0.4446123766053576,0.4451758069371764,0.4456029858512151,0.44588796297624156,0.44602517026430594,0.44600945848325185,0.445836131612656,0.44550097889468226,0.4450003043009642,0.4443309531882811,0.443490335929501,0.4424764483220944,0.4412878885943738,0.43992387084957885,0.4383842348098413,0.43666945174591737,0.43478062650419586,0.4327194955697976,0.43048842113329927,0.42809038115865267,0.4255289554808864,0.4228083079939498,0.4199331650213153,0.4169087899943128,0.4137409545953515,0.41043590655482376,0.40700033432116967,0.4034413288530243,0.3997663428101076,0.39598314744526525,0.39209978752339675,0.38812453461362967,0.38406583911868336,0.3799322814195909,0.3757325225246115,0.3714752546180144,0.3671691519073032,0.36282282216620954,0.35844475936542625,0.3540432977734646,0.3496265678963172,0.3452024546068584,0.34077855779326754,0.336362155830442,0.33196017214965046,0.32757914514985,0.32322520165954877,0.31890403412124907,0.31462088163176716,0.31038051493161833,0.30618722539563975,0.30204481803565186,0.297956608484735,0.29392542389214843,0.2899536076186026,0.28604302758394623,0.28219508808390864,0.27841074485974165,0.27469052317484444,0.2710345386261562,0.26744252039549277,0.2639138366274216,0.26044752160588347,0.25704230439170306,0.2536966385775104,0.25040873281535825,0.24717658177548535,0.24399799720206206,0.2408706387432152,0.2377920442479158,0.23475965924112893,0.23177086531062174,0.2288230071636485,0.2259134181389058,0.22303944398829362,0.22019846477359667,0.21738791475477492,0.21460530017861373,0.21184821490855277,0.20911435386810465,0.20640152430095182,0.2037076548801223,0.20103080272619886,0.19836915841995756,0.19572104911782962,0.19308493989888018,0.19045943348935554,0.18784326852513128,0.1852353165234604,0.18263457774322434,0.180040176117438,0.1774513534431042,0.17486746301173364,0.17228796285914735,0.16971240880569352,0.1671404474480348,0.16457180925142872,0.16200630187724674,0.15944380386468845,0.1568842587685666,0.15432766983703905,0.15177409529458358,0.14922364427670115,0.14667647344416146,0.1441327842863537,0.14159282110583246,0.13905686965970687,0.13652525641837615,0.1339983483884828,0.13147655343504683,0.1289603210276636,0.12645014332756208,0.12394655652625745,0.12145014234254206,0.11896152958264283,0.11648139566845708,0.11401046804083952,0.11154952534876617,0.1090993983407776,0.10666097038219619,0.10423517753003958,0.10182300810712483,0.09942550172735211,0.09704374773533057,0.09467888303516998,0.09233208929514213,0.09000458952681367,0.08769764404895242,0.08541254585778911,0.08315061543591347,0.08091319504200324,0.07870164253258646,0.07651732477500509,0.07436161071754765,0.07223586418829962,0.07014143649855742,0.0680796589296152,0.06605183518340074,0.06405923387777639,0.062103081166407066,0.0601845535609701,0.058304771030235354,0.05646479044624331,0.05466559944260378,0.05290811074390186,0.05119315701848947,0.04952148629967898,0.04789375801267142,0.046310539636600555,0.044772304022960945,0.043279427383574126,0.041832187953230765,0.04043076532436181,0.03907524044363062,0.03776559625331205,0.03650171895379931,0.03528339985764151,0.034110337800215336,0.03298214206751106,0.03189833579761419,0.03085835980928834,0.029861576808629303,0.028907275923057103,0.0279946775109173,0.02712293819465721,0.02629115606588211,0.025498376011542027,0.02474359511199723,0.024025768063707688,0.02334381258172704,0.02269661473999437,0.02208303421054403,0.021501909366131864,0.02095206221434645,0.020432303134969843,0.01994143539612709,0.019478259428554724,0.019041576841082344,0.018630194164113222,0.01824292631146792,0.017878599754388602,0.01753605540475979,0.017214151207661028,0.01691176444621031,0.016627793764268192,0.016361160914945314,0.01611081224498095,0.015875719926939317,0.015654882952801416,0.015447327903919892,0.015252109513455578,0.015068311038337757,0.014895044458491716,0.014731450521567012,0.014576698651689715,0.014429986740858209,0.014290540841518286,0.014157614778597177,0.014030489698857288,0.013908473574858329,0.01379090068009997,0.013677131051063733,0.013566549950892725,0.013458567348347146,0.013352617424463663,0.013248158118034413,0.01314467071961871,0.013041659522316389,0.012938651535979423,0.01283519626992961,0.012730865587600056,0.012625253634841703,0.012517976841949767,0.012408673997788205,0.012297006392739456,0.0121826580256051,0.012065335868047554,0.011944770178718242,0.011820714857880433,0.011692947832129649,0.011561271457757368,0.011425512930414964,0.01128552468802976,0.01114118479341945,0.010992397282754779,0.010839092465944302,0.010681227165163619,0.010518784878127073,0.010351775853301812,0.010180237065085584,0.010004232078003827],\"yaxis\":\"y\",\"type\":\"scatter\"},{\"legendgroup\":\"Group B\",\"marker\":{\"color\":\"rgb(255, 127, 14)\"},\"mode\":\"lines\",\"name\":\"Group B\",\"showlegend\":false,\"x\":[-0.831888672056476,-0.8210290647786922,-0.8101694575009084,-0.7993098502231246,-0.7884502429453408,-0.777590635667557,-0.7667310283897733,-0.7558714211119895,-0.7450118138342057,-0.7341522065564219,-0.7232925992786381,-0.7124329920008543,-0.7015733847230705,-0.6907137774452868,-0.6798541701675029,-0.6689945628897193,-0.6581349556119355,-0.6472753483341517,-0.6364157410563679,-0.6255561337785841,-0.6146965265008003,-0.6038369192230165,-0.5929773119452327,-0.5821177046674489,-0.5712580973896652,-0.5603984901118814,-0.5495388828340977,-0.5386792755563139,-0.52781966827853,-0.5169600610007463,-0.5061004537229625,-0.4952408464451787,-0.4843812391673949,-0.4735216318896111,-0.4626620246118273,-0.4518024173340435,-0.4409428100562598,-0.43008320277847595,-0.4192235955006922,-0.4083639882229084,-0.39750438094512464,-0.38664477366734085,-0.37578516638955706,-0.3649255591117733,-0.3540659518339895,-0.3432063445562057,-0.33234673727842196,-0.3214871300006381,-0.3106275227228543,-0.29976791544507053,-0.28890830816728674,-0.27804870088950295,-0.2671890936117193,-0.2563294863339355,-0.2454698790561517,-0.2346102717783678,-0.223750664500584,-0.21289105722280033,-0.20203144994501654,-0.19117184266723275,-0.18031223538944896,-0.16945262811166506,-0.15859302083388138,-0.1477334135560976,-0.1368738062783138,-0.12601419900053001,-0.11515459172274622,-0.10429498444496255,-0.09343537716717865,-0.08257576988939486,-0.07171616261161107,-0.06085655533382739,-0.0499969480560436,-0.03913734077825981,-0.02827773350047591,-0.01741812622269212,-0.0065585189449084424,0.004301088332875347,0.015160695610659136,0.026020302888442925,0.036879910166226715,0.047739517444010504,0.05859912472179429,0.06945873199957808,0.08031833927736187,0.09117794655514566,0.10203755383292934,0.11289716111071324,0.12375676838849703,0.13461637566628082,0.1454759829440646,0.1563355902218483,0.16719519749963208,0.17805480477741598,0.18891441205519977,0.19977401933298355,0.21063362661076734,0.22149323388855113,0.23235284116633492,0.2432124484441185,0.2540720557219025,0.26493166299968607,0.2757912702774701,0.28665087755525387,0.29751048483303744,0.30837009211082145,0.319229699388605,0.330089306666389,0.3409489139441726,0.3518085212219564,0.3626681284997404,0.37352773577752396,0.384387343055308,0.39524695033309154,0.40610655761087533,0.4169661648886591,0.4278257721664429,0.4386853794442269,0.4495449867220105,0.4604045939997943,0.47126420127757807,0.48212380855536185,0.49298341583314587,0.5038430231109294,0.5147026303887132,0.525562237666497,0.5364218449442808,0.5472814522220646,0.5581410594998484,0.5690006667776322,0.579860274055416,0.5907198813331997,0.6015794886109835,0.6124390958887673,0.6232987031665509,0.6341583104443349,0.6450179177221187,0.6558775249999025,0.6667371322776863,0.6775967395554698,0.6884563468332539,0.6993159541110376,0.7101755613888212,0.7210351686666052,0.7318947759443888,0.7427543832221728,0.7536139904999564,0.7644735977777402,0.7753332050555242,0.7861928123333077,0.7970524196110917,0.8079120268888753,0.8187716341666591,0.8296312414444429,0.8404908487222267,0.8513504560000107,0.8622100632777943,0.873069670555578,0.8839292778333618,0.8947888851111456,0.9056484923889294,0.9165080996667132,0.927367706944497,0.9382273142222808,0.9490869215000646,0.9599465287778484,0.9708061360556322,0.9816657433334159,0.9925253506111997,1.0033849578889835,1.0142445651667673,1.025104172444551,1.0359637797223347,1.0468233870001187,1.0576829942779025,1.0685426015556863,1.07940220883347,1.0902618161112536,1.1011214233890376,1.1119810306668212,1.1228406379446052,1.133700245222389,1.1445598525001726,1.1554194597779566,1.1662790670557401,1.177138674333524,1.187998281611308,1.1988578888890915,1.2097174961668755,1.2205771034446595,1.231436710722443,1.2422963180002267,1.2531559252780107,1.2640155325557942,1.2748751398335783,1.2857347471113618,1.2965943543891458,1.3074539616669294,1.318313568944713,1.3291731762224974,1.340032783500281,1.3508923907780646,1.3617519980558481,1.3726116053336321,1.3834712126114161,1.3943308198891997,1.4051904271669837,1.4160500344447673,1.4269096417225509,1.4377692490003349,1.4486288562781189,1.4594884635559024,1.470348070833686,1.48120767811147,1.492067285389254,1.5029268926670376,1.5137864999448212,1.5246461072226052,1.5355057145003888,1.5463653217781728,1.5572249290559568,1.5680845363337403,1.578944143611524,1.5898037508893075,1.600663358167092,1.6115229654448755,1.622382572722659,1.633242180000443,1.6441017872782266,1.6549613945560107,1.6658210018337942,1.6766806091115782,1.6875402163893618,1.6983998236671454,1.7092594309449298,1.7201190382227134,1.730978645500497,1.741838252778281,1.7526978600560645,1.7635574673338485,1.7744170746116321,1.7852766818894161,1.7961362891671997,1.8069958964449833,1.8178555037227677,1.8287151110005513,1.8395747182783349,1.8504343255561184,1.8612939328339024,1.8721535401116864,1.88301314738947,1.893872754667254,1.9047323619450376,1.9155919692228212,1.9264515765006052,1.9373111837783892,1.9481707910561727,1.9590303983339563,1.9698900056117403,1.9807496128895243,1.991609220167308,2.0024688274450915,2.0133284347228755,2.024188042000659,2.035047649278443,2.045907256556227,2.0567668638340106,2.067626471111794,2.0784860783895778,2.0893456856673622,2.100205292945146,2.1110649002229294,2.1219245075007134,2.132784114778497,2.143643722056281,2.1545033293340645,2.1653629366118485,2.176222543889632,2.1870821511674157,2.1979417584452,2.2088013657229837,2.2196609730007673,2.2305205802785513,2.241380187556335,2.2522397948341184,2.2630994021119024,2.2739590093896864,2.28481861666747,2.2956782239452536,2.306537831223038,2.3173974385008216,2.328257045778605,2.3391166530563887,2.3499762603341727,2.3608358676119563,2.3716954748897403,2.3825550821675243,2.393414689445308,2.4042742967230915,2.415133904000875,2.4259935112786595,2.436853118556443,2.4477127258342266,2.4585723331120106,2.469431940389794,2.480291547667578,2.4911511549453618,2.502010762223146,2.5128703695009293,2.523729976778713,2.5345895840564974,2.545449191334281,2.5563087986120645,2.567168405889848,2.578028013167632,2.588887620445416,2.5997472277231997,2.6106068350009837,2.6214664422787672,2.632326049556551,2.643185656834335,2.654045264112119,2.6649048713899024,2.675764478667686,2.68662408594547,2.697483693223254,2.7083433005010376,2.7192029077788216,2.730062515056605,2.7409221223343887,2.7517817296121727,2.7626413368899567,2.7735009441677403,2.784360551445524,2.795220158723308,2.806079766001092,2.8169393732788754,2.827798980556659,2.838658587834443,2.8495181951122266,2.8603778023900106,2.8712374096677946,2.882097016945578,2.8929566242233618,2.9038162315011453,2.9146758387789298,2.9255354460567133,2.936395053334497,2.947254660612281,2.9581142678900645,2.9689738751678485,2.979833482445632,2.990693089723416,3.0015526970011996,3.012412304278983,3.0232719115567677,3.0341315188345512,3.044991126112335,3.0558507333901184,3.0667103406679024,3.0775699479456864,3.08842955522347,3.099289162501254,3.1101487697790375,3.121008377056821,3.1318679843346056,3.142727591612389,3.1535871988901727,3.1644468061679563,3.1753064134457403,3.186166020723524,3.1970256280013074,3.207885235279092,3.2187448425568754,3.229604449834659,3.2404640571124426,3.251323664390227,3.2621832716680106,3.273042878945795,3.2839024862235786,3.294762093501362,3.3056217007791457,3.3164813080569293,3.327340915334713,3.3382005226124973,3.349060129890281,3.3599197371680645,3.370779344445848,3.3816389517236325,3.392498559001416,3.4033581662791996,3.414217773556984,3.4250773808347676,3.435936988112551,3.446796595390335,3.4576562026681184,3.468515809945902,3.4793754172236855,3.490235024501471,3.5010946317792544,3.511954239057038,3.5228138463348215,3.533673453612605,3.5445330608903887,3.5553926681681722,3.5662522754459567,3.5771118827237403,3.587971490001524,3.5988310972793083,3.609690704557092,3.6205503118348754,3.631409919112659,3.6422695263904434,3.653129133668227,3.6639887409460106,3.674848348223794,3.6857079555015777,3.6965675627793613,3.7074271700571457,3.71828677733493,3.7291463846127137,3.7400059918904973,3.750865599168281,3.7617252064460645,3.772584813723848,3.7834444210016316,3.794304028279416,3.8051636355571996,3.816023242834984,3.8268828501127676,3.837742457390551,3.8486020646683348,3.8594616719461183,3.870321279223903,3.8811808865016864,3.89204049377947,3.9029001010572535,3.913759708335037,3.9246193156128215,3.935478922890605,3.9463385301683895,3.957198137446173,3.9680577447239567,3.9789173520017402,3.989776959279524,4.000636566557308,4.011496173835091,4.022355781112875,4.03321538839066,4.044074995668444,4.054934602946227,4.065794210224011,4.076653817501795,4.087513424779578,4.098373032057362,4.109232639335145,4.120092246612929,4.130951853890712,4.141811461168498,4.152671068446281,4.163530675724065,4.1743902830018484,4.185249890279632,4.196109497557416,4.206969104835199,4.217828712112983,4.228688319390766,4.23954792666855,4.250407533946335,4.261267141224119,4.272126748501902,4.282986355779686,4.2938459630574695,4.304705570335253,4.315565177613038,4.326424784890822,4.3372843921686055,4.348143999446389,4.359003606724173,4.369863214001956,4.38072282127974,4.391582428557525,4.402442035835309,4.413301643113092,4.424161250390876,4.435020857668659,4.445880464946443,4.4567400722242265,4.467599679502012,4.478459286779795,4.489318894057579,4.500178501335363,4.511038108613146,4.52189771589093,4.532757323168713,4.543616930446497,4.55447653772428,4.565336145002064,4.576195752279849,4.587055359557633],\"xaxis\":\"x\",\"y\":[0.01798801962529272,0.018399221768484516,0.01881355773094137,0.01923107183533817,0.019651823338449368,0.020075886582093957,0.020503351075135106,0.020934321506409663,0.02136891768891585,0.021807274436034908,0.0222495413709987,0.022695882671236754,0.023146476749639343,0.023601515875154182,0.024061205735489314,0.024525764945021348,0.024995424501303137,0.025470427193825026,0.02595102696890865,0.026437488254797324,0.026930085251153348,0.0274291011872783,0.027934827553435137,0.02844756330967403,0.02896761407654426,0.02949529131201422,0.030030911478822593,0.0305747952063452,0.031127266450888202,0.03168865165811078,0.032259278931039574,0.03283947720687106,0.033429575445463676,0.034029901832107926,0.03464078299683042,0.03526254325214166,0.03589550385078224,0.036539982264661985,0.03719629148582416,0.03786473934991051,0.038545627882251486,0.039239252666370225,0.03994590223436708,0.04066585747835222,0.04139939108181798,0.04214676696959677,0.04290823977483542,0.04368405432123665,0.044474445118677174,0.04527963587021066,0.04609983898840492,0.04693525511894628,0.04778607266947681,0.04865246734170342,0.04953460166494114,0.05043262452941993,0.05134667071789631,0.05227686043436636,0.05322329882897434,0.054186075518545,0.05516526410254195,0.056160921674656354,0.05717308833066523,0.05820178667365471,0.059247021318181305,0.060308778395436066,0.061387025061976866,0.06248170901509745,0.06359275801840532,0.06472007944166995,0.06586355981948386,0.06702306443373136,0.06819843692529166,0.06938949894079242,0.0705960498205882,0.0718178663344396,0.07305470247162854,0.07430628929243689,0.07557233484805351,0.07685252417603604,0.07814651937845268,0.07945395978974314,0.08077446224117935,0.08210762142856637,0.08345301038949761,0.0848101810960717,0.08617866516848767,0.08755797471435799,0.08894760329792484,0.09034702704262594,0.09175570586964683,0.09317308487420704,0.09459859584037934,0.09603165889422142,0.09747168429393152,0.09891807435461879,0.10037022550411717,0.10182753046508135,0.10328938055738299,0.10475516811359822,0.10622428899914307,0.10769614522738304,0.10917014765883835,0.11064571877242056,0.11212229549549788,0.11359933207849554,0.11507630299870496,0.11655270587702893,0.1180280643905066,0.11950193116269485,0.1209738906133023,0.12244356174791544,0.12391060086821752,0.1253747041827939,0.12683561029844714,0.1282931025719205,0.1297470113020511,0.1311972157426514,0.1326436459168522,0.1340862842142347,0.13552516675282753,0.1369603844889643,0.1383920840590633,0.13982046833861375,0.14124579670503634,0.1426683849925991,0.14408860512923202,0.14550688444687157,0.14692370465887508,0.14833960050006295,0.14975515802706146,0.1511710125788229,0.1525878463994654,0.1540063859279067,0.15542739876112638,0.15685169030028628,0.1582801000913268,0.15971349787404102,0.16115277935598077,0.162598861729846,0.16405267895524617,0.16551517682786185,0.1669873078610806,0.16847002600709168,0.1699642812461984,0.1714710140747204,0.1729911499232953,0.174525593538631,0.17607522336280548,0.1776408859450198,0.1792233904213061,0.18082350309803122,0.18244194217513304,0.18407937264486054,0.1857364014013634,0.18741357259577932,0.1891113632705117,0.1908301793051586,0.19257035170506334,0.1943321332617145,0.19611569561222053,0.197921126722847,0.19974842881914864,0.20159751678253493,0.20346821703025184,0.2053602668926983,0.20727331449878925,0.20920691917673664,0.21116055237415757,0.21313359909787985,0.21512535987021458,0.21713505319482787,0.21916181852170746,0.221204719697112,0.22326274888082626,0.22533483090958215,0.22741982808213534,0.22951654533827834,0.2316237358010225,0.23374010664832648,0.2358643252781257,0.23799502572803968,0.24013081530901353,0.24227028141033918,0.24441199843197506,0.24655453479890344,0.24869646001139567,0.25083635168454776,0.2529728025302943,0.2551044272352929,0.2572298691886313,0.2593478070142148,0.2614569608639399,0.26355609842935934,0.2656440406314604,0.26771966695040755,0.2697819203596372,0.27182981183147514,0.273862424384515,0.27587891664625325,0.2778785259079586,0.2798605706523889,0.28182445253873956,0.2837696578330872,0.2856957582765502,0.2876024113873622,0.2894893601970574,0.2913564324249192,0.2932035390987531,0.29503067263383576,0.29683790438557944,0.29862538169496666,0.3003933244491525,0.30214202118275235,0.30387182474823543,0.3055831475864822,0.3072764566309266,0.3089522678807947,0.3106111406807223,0.31225367174550933,0.31388048896992266,0.3154922450642904,0.31708961105715844,0.318673269706467,0.3202439088606065,0.3218022148103052,0.32334886567159093,0.3248845248391061,0.3264098345478259,0.32792540957974353,0.32943183115041147,0.33092964100832656,0.3324193357780751,0.33390136157595834,0.33537610892443837,0.33684390798933095,0.338305024161116,0.3397596539991686,0.3412079215550988,0.34264987508877337,0.3440854841879743,0.3455146373001028,0.34693713968180073,0.34835271176994037,0.34976098797506733,0.35116151589613986,0.3525537559532706,0.3539370814331679,0.35531077894009894,0.3566740492434609,0.35802600851144817,0.35936568991887075,0.36069204561585944,0.36200394904305655,0.36330019757786913,0.3645795154954903,0.36584055722765124,0.3670819109014581,0.3683021021401629,0.36949959810733873,0.37067281177564476,0.37182010640117347,0.3729398001842633,0.3740301710976326,0.375089461862714,0.3761158850551556,0.3771076283205972,0.3780628596819889,0.37897973291994247,0.3798563930078184,0.3806909815835254,0.3814816424402554,0.3822265270186754,0.38292379988337544,0.3835716441666756,0.38416826696319983,0.38471190465892546,0.38520082817875256,0.385633348136948,0.3860078198751708,0.38632264837313035,0.38657629301731067,0.38676727221357,0.38689416782986413,0.3869556294557685,0.3869503784659748,0.38687721187544066,0.38673500597443766,0.3865227197323585,0.38623939795977796,0.3858841742189828,0.38545627347394235,0.3849550144714951,0.38437981184640174,0.3837301779438298,0.383005724353821,0.38220616315330314,0.38133130785229724,0.3803810740420895,0.3793554797442872,0.37825464546089493,0.37707879392675075,0.375828249566923,0.37450343766293215,0.3731048832329178,0.37163320963214425,0.37008913688149214,0.3684734797328102,0.36678714548120056,0.3650311315354751,0.363206522759116,0.3613144885951308,0.3593562799891521,0.357333226126035,0.35524673099600457,0.3530982698071062,0.3508893852613209,0.34862168371218444,0.34629683122212696,0.34391654953798456,0.34148261200326874,0.3389968394257517,0.33646109591879536,0.3338772847345662,0.33124734410689294,0.32857324312096514,0.32585697762643445,0.32310056620969846,0.320306046240245,0.31747547000496135,0.31461090094319233,0.3117144099941779,0.3087880720672217,0.30583396264363144,0.3028541545180972,0.2998507146857572,0.29682570137976205,0.2937811612627059,0.2907191267738401,0.2876416136325643,0.284550618497291,0.2814481167774415,0.2783360605950375,0.2752163768911529,0.2720909656713619,0.2689616983832999,0.2658304164185501,0.2626989297302619,0.25956901555726686,0.25644241724491473,0.2533208431524778,0.2502059656367329,0.24709942010123218,0.24400280410084235,0.24091767649132834,0.23784555661410892,0.2347879235068033,0.2317462151308037,0.22872182760786286,0.22571611445854398,0.22273038583635224,0.2197659077524232,0.21682390128678833,0.21390554178344154,0.21101195802767864,0.208144231405473,0.20530339504595746,0.2024904329493661,0.1997062791040985,0.19695181659779604,0.19422787672852587,0.19153523812329817,0.1888746258721794,0.1862467106872245,0.18365210809626623,0.18109137768233405,0.17856502238003488,0.17607348784066437,0.17361716187810255,0.1711963740076684,0.168811395090067,0.16646243709236896,0.16414965297759115,0.1618731367339258,0.1596329235539801,0.1574289901735582,0.15526125537852986,0.15312958068723284,0.15103377121460346,0.14897357672289474,0.1469486928623973,0.14495876260404764,0.14300337786423037,0.14108208132043226,0.1391943684147508,0.13733968954057452,0.13551745240608234,0.1337270245665663,0.13196773611597526,0.1302388825265393,0.12853972762386723,0.1268695066835502,0.1252274296340339,0.12361268434940174,0.12202444001470383,0.1204618505456237,0.11892405804358458,0.11741019626686672,0.11591939409795983,0.11445077898719562,0.11300348035270116,0.1115766329169022,0.11016937996015316,0.1087808764726062,0.10741029218612455,0.10605681446890876,0.10471965106651364,0.10339803267408554,0.10209121532593732,0.10079848258997656,0.09951914755600816,0.09825255460852533,0.09699808097626933,0.09575513805255945,0.09452317248215407,0.09330166701218885,0.09209014110652582,0.09088815132462265,0.08969529146777856,0.08851119249732285,0.08733552223094718,0.08616798482495987,0.08500832005172039,0.0838563023828905,0.08271173989041458,0.08157447297828407,0.08044437295916501,0.0793213404908443,0.0782053038881923,0.07709621732692878,0.07599405895592323,0.07489882893505188,0.07381054741577295,0.0727292524815824,0.07165499806535329,0.07058785186027654,0.06952789324069412,0.06847521120856255,0.06742990238061533,0.06639206903051094,0.06536181719936937,0.06433925488713545,0.06332449033614983,0.062317630417201224,0.0613187791271533,0.06032803620603288,0.05934549588021656,0.05837124573708997,0.05740536573528218,0.05644792735331173,0.05549899287822525,0.05455861483458954,0.053626835553002496,0.052703686876145885,0.05178918999931129,0.05088335544130164,0.04998618314064716,0.04909766267119094,0.04821777357028948,0.04734648577215289,0.04648376013820914,0.045629549075837626,0.04478379723635476,0.04394644228277556,0.04311741571760295,0.0422966437607152,0.04148404826732903,0.04067954767601422,0.03988305797680985,0.03909449368965193,0.038313768843555814,0.037540797947299726,0.03677549694272767,0.03601778413221553,0.03526758107233482,0.034524813426274725,0.033789411768162886,0.033061312333033506,0.03234045770683344,0.031626797451521554,0.030920288660996286,0.03022089644428214,0.029528594333101777,0.02884336461165868,0.028165198567148417,0.027494096660195973,0.026830068615082518,0.02617313343026912,0.02552331931034403,0.024880663521112407],\"yaxis\":\"y\",\"type\":\"scatter\"},{\"legendgroup\":\"Group A\",\"marker\":{\"color\":\"rgb(31, 119, 180)\",\"symbol\":\"line-ns-open\"},\"mode\":\"markers\",\"name\":\"Group A\",\"showlegend\":false,\"x\":[0.5226106571422477,-0.9862045594268695,0.2523149705675462,0.4340712301624237,0.4881503216726591,-0.5677487462413985,0.5299269369063085,-1.6324042323837882,0.32294523259966224,0.08101404059844737,1.011055820492742,0.7493593064480719,0.3581896660668545,-0.4326037722127551,-0.9429691992146093,-0.8810177874415466,0.42536312870641524,-0.3945079073485604,0.28441222616499373,-0.3614823117769486,2.94911572502335,-3.1289737033914196,0.05431017241079503,-0.7872656150196359,0.2002524088958735,-1.3326792945033281,0.4152937588316102,-0.19603901523666203,1.17133572138937,-0.36284399195738004,0.48145573868306013,0.3339965409602627,-0.45320911037304795,2.568748968513351,-0.22642297686272678,-0.46426163905556905,0.2747955442946937,0.22380898825325216,-1.5991729805906678,-0.4968096434281557,1.5799038690097762,0.0002943716616984785,0.9675784943055157,-0.9149053311797869,-0.1956774732818473,-1.0353125507683523,-0.14014201284118621,0.14661725926151367,-1.6708580298035378,-0.5346162416664917,0.07331740436358339,0.2850545394414067,0.7408591920689229,-0.6151413059930887,-0.16896608136836458,-0.3216381130888585,-0.5629790634934019,0.18724127935958723,0.08272169433011438,-0.7429831206731979,-2.030237522361153,0.22624574499984695,-1.6841709644359524,-0.47347899632092083,-0.11487799110834873,-0.7658473128439227,1.783903163561235,1.0727747652558608,-0.8141229496917883,1.4453949473067855,0.021381095728903746,0.5392073668044653,-0.3472507935326009,-0.2272483793101159,0.13337916445051215,-1.8919005498161832,1.3039887691985659,-0.11694217497628429,-0.6620049439521447,0.08415242932347888,0.12234432861542997,0.5132557382648872,-0.7400426597678136,-1.736285600165537,-0.27888135060080127,1.5485521800775177,-0.5420162706298582,0.9559521802264879,1.5849877476906673,1.0348553967183918,0.861479121809729,-0.5302601456620268,0.6452467596350188,-0.11336747674616965,-0.11163748640781261,0.9395672245325211,0.4187782387854749,1.0918119532709099,-1.1125163536707408,1.203660963340982,0.6971470264345518,0.36315295434485595,0.5680282224531296,0.4575137894069297,0.1404837070479387,0.49203983943262375,1.038076308243128,0.46857104917450265,0.4061769552516953,0.21099303106174186,-0.8504243190233117,-0.8385927045185514,0.7221637167404696,-1.116382088396497,0.18081843898651118,1.3095300230586284,0.4967400706568351,-0.5440515298820844,2.2033818365339757,-1.7928643944557874,-0.6417350232775179,-1.0913622187285612,0.9507287155074792,0.2670048606496645,0.3845566869978087,-1.2184057559045904,1.5851054842973498,0.13271211655240575,0.1777662973113108,-0.11024079280676119,-0.31128050088209996,0.003631973487656079,0.010638602489157644,-1.1589446173620501,-1.206261615189687,-0.29536661492881783,0.3941726686653391,0.7235555939753961,-0.7059245238109748,-0.5275449280099233,0.12640554800305276,-0.6195292105088843,-0.6518652845261954,0.3167274848137016,-0.35556118185933033,-1.0898392316578334,1.3737119723506952,0.4698846438969035,-0.7629508516755182,-0.6756225935232677,0.48304770206339487,0.7018254039766645,-0.37257240542353126,-0.6669523288783781,0.44006852001423474,1.176496330624501,0.18848987955605678,0.19852722502607975,0.2562480562204262,-0.11634881522587709,0.4814100725951739,-0.9994836182052129,1.4214692165141778,0.6473724613427756,0.4874386039656413,-0.665255508584248,0.35927471556265544,0.4002673859331011,0.9416393061413662,-1.5380543949881074,0.85506565552347,1.8948417014060275,0.9225513541007317,1.107421693453896,-1.0595383846941184,-0.32269409271491356,-0.0441791629318729,0.09853848133911114,1.302420386936118,1.0787303769537715,-0.6827148583641135,-1.4018666439394194,-0.5175961004213605,0.9708406212962156,-0.6934978337692776,-0.10291097814743211,0.05738499511897776,1.1172061257351245,1.5924218334986535,-0.6583703152025933,0.0878820491470042,-0.14796151409183633,-0.2829053897245801,-0.5330530579385333,-0.7861517875876604,1.5618896518129424,-1.5258348741228531,-1.3141816263127108,0.7369508705927297,-0.06919395198785923],\"xaxis\":\"x\",\"y\":[\"Group A\",\"Group A\",\"Group A\",\"Group A\",\"Group A\",\"Group A\",\"Group A\",\"Group A\",\"Group A\",\"Group A\",\"Group A\",\"Group A\",\"Group A\",\"Group A\",\"Group A\",\"Group A\",\"Group A\",\"Group A\",\"Group A\",\"Group A\",\"Group A\",\"Group A\",\"Group A\",\"Group A\",\"Group A\",\"Group A\",\"Group A\",\"Group A\",\"Group A\",\"Group A\",\"Group A\",\"Group A\",\"Group A\",\"Group A\",\"Group A\",\"Group A\",\"Group A\",\"Group A\",\"Group A\",\"Group A\",\"Group A\",\"Group A\",\"Group A\",\"Group A\",\"Group A\",\"Group A\",\"Group A\",\"Group A\",\"Group A\",\"Group A\",\"Group A\",\"Group A\",\"Group A\",\"Group A\",\"Group A\",\"Group A\",\"Group A\",\"Group A\",\"Group A\",\"Group A\",\"Group A\",\"Group A\",\"Group A\",\"Group A\",\"Group A\",\"Group A\",\"Group A\",\"Group A\",\"Group A\",\"Group A\",\"Group A\",\"Group A\",\"Group A\",\"Group A\",\"Group A\",\"Group A\",\"Group A\",\"Group A\",\"Group A\",\"Group A\",\"Group A\",\"Group A\",\"Group A\",\"Group A\",\"Group A\",\"Group A\",\"Group A\",\"Group A\",\"Group A\",\"Group A\",\"Group A\",\"Group A\",\"Group A\",\"Group A\",\"Group A\",\"Group A\",\"Group A\",\"Group A\",\"Group A\",\"Group A\",\"Group A\",\"Group A\",\"Group A\",\"Group A\",\"Group A\",\"Group A\",\"Group A\",\"Group A\",\"Group A\",\"Group A\",\"Group A\",\"Group A\",\"Group A\",\"Group A\",\"Group A\",\"Group A\",\"Group A\",\"Group A\",\"Group A\",\"Group A\",\"Group A\",\"Group A\",\"Group A\",\"Group A\",\"Group A\",\"Group A\",\"Group A\",\"Group A\",\"Group A\",\"Group A\",\"Group A\",\"Group A\",\"Group A\",\"Group A\",\"Group A\",\"Group A\",\"Group A\",\"Group A\",\"Group A\",\"Group A\",\"Group A\",\"Group A\",\"Group A\",\"Group A\",\"Group A\",\"Group A\",\"Group A\",\"Group A\",\"Group A\",\"Group A\",\"Group A\",\"Group A\",\"Group A\",\"Group A\",\"Group A\",\"Group A\",\"Group A\",\"Group A\",\"Group A\",\"Group A\",\"Group A\",\"Group A\",\"Group A\",\"Group A\",\"Group A\",\"Group A\",\"Group A\",\"Group A\",\"Group A\",\"Group A\",\"Group A\",\"Group A\",\"Group A\",\"Group A\",\"Group A\",\"Group A\",\"Group A\",\"Group A\",\"Group A\",\"Group A\",\"Group A\",\"Group A\",\"Group A\",\"Group A\",\"Group A\",\"Group A\",\"Group A\",\"Group A\",\"Group A\",\"Group A\",\"Group A\",\"Group A\",\"Group A\",\"Group A\",\"Group A\",\"Group A\",\"Group A\",\"Group A\",\"Group A\",\"Group A\"],\"yaxis\":\"y2\",\"type\":\"scatter\"},{\"legendgroup\":\"Group B\",\"marker\":{\"color\":\"rgb(255, 127, 14)\",\"symbol\":\"line-ns-open\"},\"mode\":\"markers\",\"name\":\"Group B\",\"showlegend\":false,\"x\":[0.6700491412140166,3.2691557906147706,3.4862887583342745,0.543321686598689,2.5000020108076124,0.7543424835190429,3.8334031311166914,1.2062535107257943,1.8693318580674043,1.5000046114996557,1.8347837816868668,-0.6972954147447705,2.7348086368970423,3.258096869871526,1.231231742451845,1.9710510773694554,0.9271372672694123,1.8411793208467964,1.4067307365384154,1.4001366894425917,1.5087192818307478,2.224952054976384,0.9100981462381308,2.954981427523218,1.8224300106537572,2.963165257791669,1.9384398490100545,0.6996088386930526,2.0276824814573144,2.1548033503238004,1.371418864886832,0.09911676898967747,2.44695976148266,2.268679679876869,2.2387837150682093,3.059402760419637,2.5120444643057347,1.8246015851321837,0.8507925243229388,1.6884695499563942,2.600377130812438,2.391524093431419,2.621732332790492,2.1654251145667276,3.1365948883293693,1.0109645664553102,2.585438553034426,1.8963777328248208,2.87596164796499,1.3457841581231236,1.7900071852989106,0.25620644679793636,0.7149142985188313,1.3797109400011363,3.6696638000313735,3.6911182191454395,2.4316169269773025,3.0270306096477277,0.7600964760020803,2.0249386625280836,-0.831888672056476,0.33172161606652906,3.702435706882773,2.199454147042249,1.5204206593667744,3.1599067571892094,3.3016119606660608,2.1332465104412575,3.0825787974022276,1.3652439099421974,2.3140936761856103,3.6757796834462555,3.645138047902138,1.8240845240901296,1.8171339406914426,2.127172879230957,0.5206785254576387,1.0024188291635459,3.068595056155027,1.4100285343369603,1.2889674027792806,3.186710281488124,1.568927292847317,2.73383148169614,2.8751502816876084,1.8821884362492753,2.229254694496547,2.5647712812838486,2.117564171158039,2.0547535832727846,1.857239425596543,4.156568042204068,2.3936759811804404,2.245192039901097,1.239954055875945,2.2468770610519027,1.8605351316633376,1.9162053662584737,2.3010781791075803,2.3373455811014727,3.4796331223103207,4.477478637819356,2.6548084295546115,2.6642246749126977,2.985809935781125,2.5536292397552365,2.1505853680451628,3.172170143797464,-0.42131550752547753,1.5934198068243688,2.690296958765697,2.320997616343173,1.269078841703588,1.9342862511313679,1.2091847986454283,0.6657676672343105,2.2506053313045493,2.2978782125982353,2.1587793125688317,1.5129381031983338,2.8308281295336855,3.860821065794456,3.90946754334815,-0.16050554906193293,0.9585820519921966,1.905693272170756,2.7563017536018712,2.5695389190437763,2.3546665721458786,2.264652109521661,2.5314671108103313,0.026624698781496425,3.875949881981085,2.7689773736853556,2.21580699439299,1.4625671050407996,1.2440396620954226,2.4277510432529916,-0.30862370300825903,0.998444813050644,1.7152857267225357,1.9823012780167264,0.47909148926732215,3.108352140589506,1.74361638878487,1.506705337340562,1.5178242490071308,1.9591913645062153,1.618220128982703,2.271102158859126,1.5138467884290385,2.4304253971947043,1.839477055872798,2.6167931017562913,1.2319233774381764,1.8908368617336584,2.6519662506132047,1.222858104648423,0.7735542274729876,2.3624033028693416,0.9245979528785857,1.1569994577557245,0.49611144802211316,3.001822119903552,-0.03124154310442462,0.6405390972176759,0.47976002933849005,0.04047372185083953,2.7824831191833432,1.4594969216189313,4.219394683240266,1.2144467498868239,1.9149572840175748,1.4577626117119897,2.1201073397382793,2.520796618755196,1.4865830562329427,0.29319883656195334,2.6822987508959177,2.446178845507568,2.690855843380838,1.2024425351596242,3.5714152733549973,2.9575776091310324,2.637339214089947,2.3915046879351247,3.086266333108208,0.45469236854824246,0.30434862795936835,2.8488373234617876,2.5459305055161265,2.3039290312225815,3.400183634591133,2.5510952425903506,4.5979149668354165,1.5246271071882933,2.7583305120505823,4.251689483157774,0.49385978879616643,1.4308860613116883],\"xaxis\":\"x\",\"y\":[\"Group B\",\"Group B\",\"Group B\",\"Group B\",\"Group B\",\"Group B\",\"Group B\",\"Group B\",\"Group B\",\"Group B\",\"Group B\",\"Group B\",\"Group B\",\"Group B\",\"Group B\",\"Group B\",\"Group B\",\"Group B\",\"Group B\",\"Group B\",\"Group B\",\"Group B\",\"Group B\",\"Group B\",\"Group B\",\"Group B\",\"Group B\",\"Group B\",\"Group B\",\"Group B\",\"Group B\",\"Group B\",\"Group B\",\"Group B\",\"Group B\",\"Group B\",\"Group B\",\"Group B\",\"Group B\",\"Group B\",\"Group B\",\"Group B\",\"Group B\",\"Group B\",\"Group B\",\"Group B\",\"Group B\",\"Group B\",\"Group B\",\"Group B\",\"Group B\",\"Group B\",\"Group B\",\"Group B\",\"Group B\",\"Group B\",\"Group B\",\"Group B\",\"Group B\",\"Group B\",\"Group B\",\"Group B\",\"Group B\",\"Group B\",\"Group B\",\"Group B\",\"Group B\",\"Group B\",\"Group B\",\"Group B\",\"Group B\",\"Group B\",\"Group B\",\"Group B\",\"Group B\",\"Group B\",\"Group B\",\"Group B\",\"Group B\",\"Group B\",\"Group B\",\"Group B\",\"Group B\",\"Group B\",\"Group B\",\"Group B\",\"Group B\",\"Group B\",\"Group B\",\"Group B\",\"Group B\",\"Group B\",\"Group B\",\"Group B\",\"Group B\",\"Group B\",\"Group B\",\"Group B\",\"Group B\",\"Group B\",\"Group B\",\"Group B\",\"Group B\",\"Group B\",\"Group B\",\"Group B\",\"Group B\",\"Group B\",\"Group B\",\"Group B\",\"Group B\",\"Group B\",\"Group B\",\"Group B\",\"Group B\",\"Group B\",\"Group B\",\"Group B\",\"Group B\",\"Group B\",\"Group B\",\"Group B\",\"Group B\",\"Group B\",\"Group B\",\"Group B\",\"Group B\",\"Group B\",\"Group B\",\"Group B\",\"Group B\",\"Group B\",\"Group B\",\"Group B\",\"Group B\",\"Group B\",\"Group B\",\"Group B\",\"Group B\",\"Group B\",\"Group B\",\"Group B\",\"Group B\",\"Group B\",\"Group B\",\"Group B\",\"Group B\",\"Group B\",\"Group B\",\"Group B\",\"Group B\",\"Group B\",\"Group B\",\"Group B\",\"Group B\",\"Group B\",\"Group B\",\"Group B\",\"Group B\",\"Group B\",\"Group B\",\"Group B\",\"Group B\",\"Group B\",\"Group B\",\"Group B\",\"Group B\",\"Group B\",\"Group B\",\"Group B\",\"Group B\",\"Group B\",\"Group B\",\"Group B\",\"Group B\",\"Group B\",\"Group B\",\"Group B\",\"Group B\",\"Group B\",\"Group B\",\"Group B\",\"Group B\",\"Group B\",\"Group B\",\"Group B\",\"Group B\",\"Group B\",\"Group B\",\"Group B\",\"Group B\",\"Group B\",\"Group B\",\"Group B\",\"Group B\",\"Group B\",\"Group B\",\"Group B\",\"Group B\",\"Group B\"],\"yaxis\":\"y2\",\"type\":\"scatter\"}],                        {\"barmode\":\"overlay\",\"hovermode\":\"closest\",\"legend\":{\"traceorder\":\"reversed\"},\"xaxis\":{\"anchor\":\"y2\",\"domain\":[0.0,1.0],\"zeroline\":false},\"yaxis\":{\"anchor\":\"free\",\"domain\":[0.35,1],\"position\":0.0},\"yaxis2\":{\"anchor\":\"x\",\"domain\":[0,0.25],\"dtick\":1,\"showticklabels\":false},\"template\":{\"data\":{\"histogram2dcontour\":[{\"type\":\"histogram2dcontour\",\"colorbar\":{\"outlinewidth\":0,\"ticks\":\"\"},\"colorscale\":[[0.0,\"#0d0887\"],[0.1111111111111111,\"#46039f\"],[0.2222222222222222,\"#7201a8\"],[0.3333333333333333,\"#9c179e\"],[0.4444444444444444,\"#bd3786\"],[0.5555555555555556,\"#d8576b\"],[0.6666666666666666,\"#ed7953\"],[0.7777777777777778,\"#fb9f3a\"],[0.8888888888888888,\"#fdca26\"],[1.0,\"#f0f921\"]]}],\"choropleth\":[{\"type\":\"choropleth\",\"colorbar\":{\"outlinewidth\":0,\"ticks\":\"\"}}],\"histogram2d\":[{\"type\":\"histogram2d\",\"colorbar\":{\"outlinewidth\":0,\"ticks\":\"\"},\"colorscale\":[[0.0,\"#0d0887\"],[0.1111111111111111,\"#46039f\"],[0.2222222222222222,\"#7201a8\"],[0.3333333333333333,\"#9c179e\"],[0.4444444444444444,\"#bd3786\"],[0.5555555555555556,\"#d8576b\"],[0.6666666666666666,\"#ed7953\"],[0.7777777777777778,\"#fb9f3a\"],[0.8888888888888888,\"#fdca26\"],[1.0,\"#f0f921\"]]}],\"heatmap\":[{\"type\":\"heatmap\",\"colorbar\":{\"outlinewidth\":0,\"ticks\":\"\"},\"colorscale\":[[0.0,\"#0d0887\"],[0.1111111111111111,\"#46039f\"],[0.2222222222222222,\"#7201a8\"],[0.3333333333333333,\"#9c179e\"],[0.4444444444444444,\"#bd3786\"],[0.5555555555555556,\"#d8576b\"],[0.6666666666666666,\"#ed7953\"],[0.7777777777777778,\"#fb9f3a\"],[0.8888888888888888,\"#fdca26\"],[1.0,\"#f0f921\"]]}],\"heatmapgl\":[{\"type\":\"heatmapgl\",\"colorbar\":{\"outlinewidth\":0,\"ticks\":\"\"},\"colorscale\":[[0.0,\"#0d0887\"],[0.1111111111111111,\"#46039f\"],[0.2222222222222222,\"#7201a8\"],[0.3333333333333333,\"#9c179e\"],[0.4444444444444444,\"#bd3786\"],[0.5555555555555556,\"#d8576b\"],[0.6666666666666666,\"#ed7953\"],[0.7777777777777778,\"#fb9f3a\"],[0.8888888888888888,\"#fdca26\"],[1.0,\"#f0f921\"]]}],\"contourcarpet\":[{\"type\":\"contourcarpet\",\"colorbar\":{\"outlinewidth\":0,\"ticks\":\"\"}}],\"contour\":[{\"type\":\"contour\",\"colorbar\":{\"outlinewidth\":0,\"ticks\":\"\"},\"colorscale\":[[0.0,\"#0d0887\"],[0.1111111111111111,\"#46039f\"],[0.2222222222222222,\"#7201a8\"],[0.3333333333333333,\"#9c179e\"],[0.4444444444444444,\"#bd3786\"],[0.5555555555555556,\"#d8576b\"],[0.6666666666666666,\"#ed7953\"],[0.7777777777777778,\"#fb9f3a\"],[0.8888888888888888,\"#fdca26\"],[1.0,\"#f0f921\"]]}],\"surface\":[{\"type\":\"surface\",\"colorbar\":{\"outlinewidth\":0,\"ticks\":\"\"},\"colorscale\":[[0.0,\"#0d0887\"],[0.1111111111111111,\"#46039f\"],[0.2222222222222222,\"#7201a8\"],[0.3333333333333333,\"#9c179e\"],[0.4444444444444444,\"#bd3786\"],[0.5555555555555556,\"#d8576b\"],[0.6666666666666666,\"#ed7953\"],[0.7777777777777778,\"#fb9f3a\"],[0.8888888888888888,\"#fdca26\"],[1.0,\"#f0f921\"]]}],\"mesh3d\":[{\"type\":\"mesh3d\",\"colorbar\":{\"outlinewidth\":0,\"ticks\":\"\"}}],\"scatter\":[{\"fillpattern\":{\"fillmode\":\"overlay\",\"size\":10,\"solidity\":0.2},\"type\":\"scatter\"}],\"parcoords\":[{\"type\":\"parcoords\",\"line\":{\"colorbar\":{\"outlinewidth\":0,\"ticks\":\"\"}}}],\"scatterpolargl\":[{\"type\":\"scatterpolargl\",\"marker\":{\"colorbar\":{\"outlinewidth\":0,\"ticks\":\"\"}}}],\"bar\":[{\"error_x\":{\"color\":\"#2a3f5f\"},\"error_y\":{\"color\":\"#2a3f5f\"},\"marker\":{\"line\":{\"color\":\"#E5ECF6\",\"width\":0.5},\"pattern\":{\"fillmode\":\"overlay\",\"size\":10,\"solidity\":0.2}},\"type\":\"bar\"}],\"scattergeo\":[{\"type\":\"scattergeo\",\"marker\":{\"colorbar\":{\"outlinewidth\":0,\"ticks\":\"\"}}}],\"scatterpolar\":[{\"type\":\"scatterpolar\",\"marker\":{\"colorbar\":{\"outlinewidth\":0,\"ticks\":\"\"}}}],\"histogram\":[{\"marker\":{\"pattern\":{\"fillmode\":\"overlay\",\"size\":10,\"solidity\":0.2}},\"type\":\"histogram\"}],\"scattergl\":[{\"type\":\"scattergl\",\"marker\":{\"colorbar\":{\"outlinewidth\":0,\"ticks\":\"\"}}}],\"scatter3d\":[{\"type\":\"scatter3d\",\"line\":{\"colorbar\":{\"outlinewidth\":0,\"ticks\":\"\"}},\"marker\":{\"colorbar\":{\"outlinewidth\":0,\"ticks\":\"\"}}}],\"scattermapbox\":[{\"type\":\"scattermapbox\",\"marker\":{\"colorbar\":{\"outlinewidth\":0,\"ticks\":\"\"}}}],\"scatterternary\":[{\"type\":\"scatterternary\",\"marker\":{\"colorbar\":{\"outlinewidth\":0,\"ticks\":\"\"}}}],\"scattercarpet\":[{\"type\":\"scattercarpet\",\"marker\":{\"colorbar\":{\"outlinewidth\":0,\"ticks\":\"\"}}}],\"carpet\":[{\"aaxis\":{\"endlinecolor\":\"#2a3f5f\",\"gridcolor\":\"white\",\"linecolor\":\"white\",\"minorgridcolor\":\"white\",\"startlinecolor\":\"#2a3f5f\"},\"baxis\":{\"endlinecolor\":\"#2a3f5f\",\"gridcolor\":\"white\",\"linecolor\":\"white\",\"minorgridcolor\":\"white\",\"startlinecolor\":\"#2a3f5f\"},\"type\":\"carpet\"}],\"table\":[{\"cells\":{\"fill\":{\"color\":\"#EBF0F8\"},\"line\":{\"color\":\"white\"}},\"header\":{\"fill\":{\"color\":\"#C8D4E3\"},\"line\":{\"color\":\"white\"}},\"type\":\"table\"}],\"barpolar\":[{\"marker\":{\"line\":{\"color\":\"#E5ECF6\",\"width\":0.5},\"pattern\":{\"fillmode\":\"overlay\",\"size\":10,\"solidity\":0.2}},\"type\":\"barpolar\"}],\"pie\":[{\"automargin\":true,\"type\":\"pie\"}]},\"layout\":{\"autotypenumbers\":\"strict\",\"colorway\":[\"#636efa\",\"#EF553B\",\"#00cc96\",\"#ab63fa\",\"#FFA15A\",\"#19d3f3\",\"#FF6692\",\"#B6E880\",\"#FF97FF\",\"#FECB52\"],\"font\":{\"color\":\"#2a3f5f\"},\"hovermode\":\"closest\",\"hoverlabel\":{\"align\":\"left\"},\"paper_bgcolor\":\"white\",\"plot_bgcolor\":\"#E5ECF6\",\"polar\":{\"bgcolor\":\"#E5ECF6\",\"angularaxis\":{\"gridcolor\":\"white\",\"linecolor\":\"white\",\"ticks\":\"\"},\"radialaxis\":{\"gridcolor\":\"white\",\"linecolor\":\"white\",\"ticks\":\"\"}},\"ternary\":{\"bgcolor\":\"#E5ECF6\",\"aaxis\":{\"gridcolor\":\"white\",\"linecolor\":\"white\",\"ticks\":\"\"},\"baxis\":{\"gridcolor\":\"white\",\"linecolor\":\"white\",\"ticks\":\"\"},\"caxis\":{\"gridcolor\":\"white\",\"linecolor\":\"white\",\"ticks\":\"\"}},\"coloraxis\":{\"colorbar\":{\"outlinewidth\":0,\"ticks\":\"\"}},\"colorscale\":{\"sequential\":[[0.0,\"#0d0887\"],[0.1111111111111111,\"#46039f\"],[0.2222222222222222,\"#7201a8\"],[0.3333333333333333,\"#9c179e\"],[0.4444444444444444,\"#bd3786\"],[0.5555555555555556,\"#d8576b\"],[0.6666666666666666,\"#ed7953\"],[0.7777777777777778,\"#fb9f3a\"],[0.8888888888888888,\"#fdca26\"],[1.0,\"#f0f921\"]],\"sequentialminus\":[[0.0,\"#0d0887\"],[0.1111111111111111,\"#46039f\"],[0.2222222222222222,\"#7201a8\"],[0.3333333333333333,\"#9c179e\"],[0.4444444444444444,\"#bd3786\"],[0.5555555555555556,\"#d8576b\"],[0.6666666666666666,\"#ed7953\"],[0.7777777777777778,\"#fb9f3a\"],[0.8888888888888888,\"#fdca26\"],[1.0,\"#f0f921\"]],\"diverging\":[[0,\"#8e0152\"],[0.1,\"#c51b7d\"],[0.2,\"#de77ae\"],[0.3,\"#f1b6da\"],[0.4,\"#fde0ef\"],[0.5,\"#f7f7f7\"],[0.6,\"#e6f5d0\"],[0.7,\"#b8e186\"],[0.8,\"#7fbc41\"],[0.9,\"#4d9221\"],[1,\"#276419\"]]},\"xaxis\":{\"gridcolor\":\"white\",\"linecolor\":\"white\",\"ticks\":\"\",\"title\":{\"standoff\":15},\"zerolinecolor\":\"white\",\"automargin\":true,\"zerolinewidth\":2},\"yaxis\":{\"gridcolor\":\"white\",\"linecolor\":\"white\",\"ticks\":\"\",\"title\":{\"standoff\":15},\"zerolinecolor\":\"white\",\"automargin\":true,\"zerolinewidth\":2},\"scene\":{\"xaxis\":{\"backgroundcolor\":\"#E5ECF6\",\"gridcolor\":\"white\",\"linecolor\":\"white\",\"showbackground\":true,\"ticks\":\"\",\"zerolinecolor\":\"white\",\"gridwidth\":2},\"yaxis\":{\"backgroundcolor\":\"#E5ECF6\",\"gridcolor\":\"white\",\"linecolor\":\"white\",\"showbackground\":true,\"ticks\":\"\",\"zerolinecolor\":\"white\",\"gridwidth\":2},\"zaxis\":{\"backgroundcolor\":\"#E5ECF6\",\"gridcolor\":\"white\",\"linecolor\":\"white\",\"showbackground\":true,\"ticks\":\"\",\"zerolinecolor\":\"white\",\"gridwidth\":2}},\"shapedefaults\":{\"line\":{\"color\":\"#2a3f5f\"}},\"annotationdefaults\":{\"arrowcolor\":\"#2a3f5f\",\"arrowhead\":0,\"arrowwidth\":1},\"geo\":{\"bgcolor\":\"white\",\"landcolor\":\"#E5ECF6\",\"subunitcolor\":\"white\",\"showland\":true,\"showlakes\":true,\"lakecolor\":\"white\"},\"title\":{\"x\":0.05},\"mapbox\":{\"style\":\"light\"}}},\"title\":{\"text\":\"Distribution Plot (Figure Factory)\"}},                        {\"responsive\": true}                    ).then(function(){\n",
       "                            \n",
       "var gd = document.getElementById('e1e63835-d2b8-41bf-b3b6-40723746e82b');\n",
       "var x = new MutationObserver(function (mutations, observer) {{\n",
       "        var display = window.getComputedStyle(gd).display;\n",
       "        if (!display || display === 'none') {{\n",
       "            console.log([gd, 'removed!']);\n",
       "            Plotly.purge(gd);\n",
       "            observer.disconnect();\n",
       "        }}\n",
       "}});\n",
       "\n",
       "// Listen for the removal of the full notebook cells\n",
       "var notebookContainer = gd.closest('#notebook-container');\n",
       "if (notebookContainer) {{\n",
       "    x.observe(notebookContainer, {childList: true});\n",
       "}}\n",
       "\n",
       "// Listen for the clearing of the current output cell\n",
       "var outputEl = gd.closest('.output');\n",
       "if (outputEl) {{\n",
       "    x.observe(outputEl, {childList: true});\n",
       "}}\n",
       "\n",
       "                        })                };                });            </script>        </div>"
      ]
     },
     "metadata": {},
     "output_type": "display_data"
    }
   ],
   "source": [
    "x1 = np.random.normal(0, 1, 200)\n",
    "x2 = np.random.normal(2, 1, 200)\n",
    "hist_data = [x1, x2]\n",
    "group_labels = ['Group A', 'Group B']\n",
    "\n",
    "figh = ff.create_distplot(hist_data, group_labels, bin_size=[.2, .2])\n",
    "figh.update_layout(title='Distribution Plot (Figure Factory)')\n",
    "figh.show()"
   ]
  },
  {
   "cell_type": "markdown",
   "id": "9df137a9-036d-4d2a-96e5-5fc05f3761e1",
   "metadata": {},
   "source": [
    "#### Colors"
   ]
  },
  {
   "cell_type": "code",
   "execution_count": 73,
   "id": "db7b5966-1dff-4e3d-af19-6487903c2c50",
   "metadata": {},
   "outputs": [
    {
     "name": "stdout",
     "output_type": "stream",
     "text": [
      "Sequential: ['#0d0887', '#46039f', '#7201a8', '#9c179e', '#bd3786']\n",
      "Diverging: ['rgb(103,0,31)', 'rgb(178,24,43)', 'rgb(214,96,77)', 'rgb(244,165,130)', 'rgb(253,219,199)']\n"
     ]
    },
    {
     "data": {
      "application/vnd.plotly.v1+json": {
       "config": {
        "plotlyServerURL": "https://plot.ly"
       },
       "data": [
        {
         "marker": {
          "color": [
           4,
           6,
           1,
           9
          ],
          "colorscale": [
           [
            0,
            "#0d0887"
           ],
           [
            0.1111111111111111,
            "#46039f"
           ],
           [
            0.2222222222222222,
            "#7201a8"
           ],
           [
            0.3333333333333333,
            "#9c179e"
           ],
           [
            0.4444444444444444,
            "#bd3786"
           ],
           [
            0.5555555555555556,
            "#d8576b"
           ],
           [
            0.6666666666666666,
            "#ed7953"
           ],
           [
            0.7777777777777778,
            "#fb9f3a"
           ],
           [
            0.8888888888888888,
            "#fdca26"
           ],
           [
            1,
            "#f0f921"
           ]
          ]
         },
         "type": "bar",
         "x": [
          "A",
          "B",
          "C",
          "D"
         ],
         "y": [
          4,
          6,
          1,
          9
         ]
        }
       ],
       "layout": {
        "autosize": true,
        "template": {
         "data": {
          "bar": [
           {
            "error_x": {
             "color": "#2a3f5f"
            },
            "error_y": {
             "color": "#2a3f5f"
            },
            "marker": {
             "line": {
              "color": "#E5ECF6",
              "width": 0.5
             },
             "pattern": {
              "fillmode": "overlay",
              "size": 10,
              "solidity": 0.2
             }
            },
            "type": "bar"
           }
          ],
          "barpolar": [
           {
            "marker": {
             "line": {
              "color": "#E5ECF6",
              "width": 0.5
             },
             "pattern": {
              "fillmode": "overlay",
              "size": 10,
              "solidity": 0.2
             }
            },
            "type": "barpolar"
           }
          ],
          "carpet": [
           {
            "aaxis": {
             "endlinecolor": "#2a3f5f",
             "gridcolor": "white",
             "linecolor": "white",
             "minorgridcolor": "white",
             "startlinecolor": "#2a3f5f"
            },
            "baxis": {
             "endlinecolor": "#2a3f5f",
             "gridcolor": "white",
             "linecolor": "white",
             "minorgridcolor": "white",
             "startlinecolor": "#2a3f5f"
            },
            "type": "carpet"
           }
          ],
          "choropleth": [
           {
            "colorbar": {
             "outlinewidth": 0,
             "ticks": ""
            },
            "type": "choropleth"
           }
          ],
          "contour": [
           {
            "colorbar": {
             "outlinewidth": 0,
             "ticks": ""
            },
            "colorscale": [
             [
              0,
              "#0d0887"
             ],
             [
              0.1111111111111111,
              "#46039f"
             ],
             [
              0.2222222222222222,
              "#7201a8"
             ],
             [
              0.3333333333333333,
              "#9c179e"
             ],
             [
              0.4444444444444444,
              "#bd3786"
             ],
             [
              0.5555555555555556,
              "#d8576b"
             ],
             [
              0.6666666666666666,
              "#ed7953"
             ],
             [
              0.7777777777777778,
              "#fb9f3a"
             ],
             [
              0.8888888888888888,
              "#fdca26"
             ],
             [
              1,
              "#f0f921"
             ]
            ],
            "type": "contour"
           }
          ],
          "contourcarpet": [
           {
            "colorbar": {
             "outlinewidth": 0,
             "ticks": ""
            },
            "type": "contourcarpet"
           }
          ],
          "heatmap": [
           {
            "colorbar": {
             "outlinewidth": 0,
             "ticks": ""
            },
            "colorscale": [
             [
              0,
              "#0d0887"
             ],
             [
              0.1111111111111111,
              "#46039f"
             ],
             [
              0.2222222222222222,
              "#7201a8"
             ],
             [
              0.3333333333333333,
              "#9c179e"
             ],
             [
              0.4444444444444444,
              "#bd3786"
             ],
             [
              0.5555555555555556,
              "#d8576b"
             ],
             [
              0.6666666666666666,
              "#ed7953"
             ],
             [
              0.7777777777777778,
              "#fb9f3a"
             ],
             [
              0.8888888888888888,
              "#fdca26"
             ],
             [
              1,
              "#f0f921"
             ]
            ],
            "type": "heatmap"
           }
          ],
          "heatmapgl": [
           {
            "colorbar": {
             "outlinewidth": 0,
             "ticks": ""
            },
            "colorscale": [
             [
              0,
              "#0d0887"
             ],
             [
              0.1111111111111111,
              "#46039f"
             ],
             [
              0.2222222222222222,
              "#7201a8"
             ],
             [
              0.3333333333333333,
              "#9c179e"
             ],
             [
              0.4444444444444444,
              "#bd3786"
             ],
             [
              0.5555555555555556,
              "#d8576b"
             ],
             [
              0.6666666666666666,
              "#ed7953"
             ],
             [
              0.7777777777777778,
              "#fb9f3a"
             ],
             [
              0.8888888888888888,
              "#fdca26"
             ],
             [
              1,
              "#f0f921"
             ]
            ],
            "type": "heatmapgl"
           }
          ],
          "histogram": [
           {
            "marker": {
             "pattern": {
              "fillmode": "overlay",
              "size": 10,
              "solidity": 0.2
             }
            },
            "type": "histogram"
           }
          ],
          "histogram2d": [
           {
            "colorbar": {
             "outlinewidth": 0,
             "ticks": ""
            },
            "colorscale": [
             [
              0,
              "#0d0887"
             ],
             [
              0.1111111111111111,
              "#46039f"
             ],
             [
              0.2222222222222222,
              "#7201a8"
             ],
             [
              0.3333333333333333,
              "#9c179e"
             ],
             [
              0.4444444444444444,
              "#bd3786"
             ],
             [
              0.5555555555555556,
              "#d8576b"
             ],
             [
              0.6666666666666666,
              "#ed7953"
             ],
             [
              0.7777777777777778,
              "#fb9f3a"
             ],
             [
              0.8888888888888888,
              "#fdca26"
             ],
             [
              1,
              "#f0f921"
             ]
            ],
            "type": "histogram2d"
           }
          ],
          "histogram2dcontour": [
           {
            "colorbar": {
             "outlinewidth": 0,
             "ticks": ""
            },
            "colorscale": [
             [
              0,
              "#0d0887"
             ],
             [
              0.1111111111111111,
              "#46039f"
             ],
             [
              0.2222222222222222,
              "#7201a8"
             ],
             [
              0.3333333333333333,
              "#9c179e"
             ],
             [
              0.4444444444444444,
              "#bd3786"
             ],
             [
              0.5555555555555556,
              "#d8576b"
             ],
             [
              0.6666666666666666,
              "#ed7953"
             ],
             [
              0.7777777777777778,
              "#fb9f3a"
             ],
             [
              0.8888888888888888,
              "#fdca26"
             ],
             [
              1,
              "#f0f921"
             ]
            ],
            "type": "histogram2dcontour"
           }
          ],
          "mesh3d": [
           {
            "colorbar": {
             "outlinewidth": 0,
             "ticks": ""
            },
            "type": "mesh3d"
           }
          ],
          "parcoords": [
           {
            "line": {
             "colorbar": {
              "outlinewidth": 0,
              "ticks": ""
             }
            },
            "type": "parcoords"
           }
          ],
          "pie": [
           {
            "automargin": true,
            "type": "pie"
           }
          ],
          "scatter": [
           {
            "fillpattern": {
             "fillmode": "overlay",
             "size": 10,
             "solidity": 0.2
            },
            "type": "scatter"
           }
          ],
          "scatter3d": [
           {
            "line": {
             "colorbar": {
              "outlinewidth": 0,
              "ticks": ""
             }
            },
            "marker": {
             "colorbar": {
              "outlinewidth": 0,
              "ticks": ""
             }
            },
            "type": "scatter3d"
           }
          ],
          "scattercarpet": [
           {
            "marker": {
             "colorbar": {
              "outlinewidth": 0,
              "ticks": ""
             }
            },
            "type": "scattercarpet"
           }
          ],
          "scattergeo": [
           {
            "marker": {
             "colorbar": {
              "outlinewidth": 0,
              "ticks": ""
             }
            },
            "type": "scattergeo"
           }
          ],
          "scattergl": [
           {
            "marker": {
             "colorbar": {
              "outlinewidth": 0,
              "ticks": ""
             }
            },
            "type": "scattergl"
           }
          ],
          "scattermapbox": [
           {
            "marker": {
             "colorbar": {
              "outlinewidth": 0,
              "ticks": ""
             }
            },
            "type": "scattermapbox"
           }
          ],
          "scatterpolar": [
           {
            "marker": {
             "colorbar": {
              "outlinewidth": 0,
              "ticks": ""
             }
            },
            "type": "scatterpolar"
           }
          ],
          "scatterpolargl": [
           {
            "marker": {
             "colorbar": {
              "outlinewidth": 0,
              "ticks": ""
             }
            },
            "type": "scatterpolargl"
           }
          ],
          "scatterternary": [
           {
            "marker": {
             "colorbar": {
              "outlinewidth": 0,
              "ticks": ""
             }
            },
            "type": "scatterternary"
           }
          ],
          "surface": [
           {
            "colorbar": {
             "outlinewidth": 0,
             "ticks": ""
            },
            "colorscale": [
             [
              0,
              "#0d0887"
             ],
             [
              0.1111111111111111,
              "#46039f"
             ],
             [
              0.2222222222222222,
              "#7201a8"
             ],
             [
              0.3333333333333333,
              "#9c179e"
             ],
             [
              0.4444444444444444,
              "#bd3786"
             ],
             [
              0.5555555555555556,
              "#d8576b"
             ],
             [
              0.6666666666666666,
              "#ed7953"
             ],
             [
              0.7777777777777778,
              "#fb9f3a"
             ],
             [
              0.8888888888888888,
              "#fdca26"
             ],
             [
              1,
              "#f0f921"
             ]
            ],
            "type": "surface"
           }
          ],
          "table": [
           {
            "cells": {
             "fill": {
              "color": "#EBF0F8"
             },
             "line": {
              "color": "white"
             }
            },
            "header": {
             "fill": {
              "color": "#C8D4E3"
             },
             "line": {
              "color": "white"
             }
            },
            "type": "table"
           }
          ]
         },
         "layout": {
          "annotationdefaults": {
           "arrowcolor": "#2a3f5f",
           "arrowhead": 0,
           "arrowwidth": 1
          },
          "autotypenumbers": "strict",
          "coloraxis": {
           "colorbar": {
            "outlinewidth": 0,
            "ticks": ""
           }
          },
          "colorscale": {
           "diverging": [
            [
             0,
             "#8e0152"
            ],
            [
             0.1,
             "#c51b7d"
            ],
            [
             0.2,
             "#de77ae"
            ],
            [
             0.3,
             "#f1b6da"
            ],
            [
             0.4,
             "#fde0ef"
            ],
            [
             0.5,
             "#f7f7f7"
            ],
            [
             0.6,
             "#e6f5d0"
            ],
            [
             0.7,
             "#b8e186"
            ],
            [
             0.8,
             "#7fbc41"
            ],
            [
             0.9,
             "#4d9221"
            ],
            [
             1,
             "#276419"
            ]
           ],
           "sequential": [
            [
             0,
             "#0d0887"
            ],
            [
             0.1111111111111111,
             "#46039f"
            ],
            [
             0.2222222222222222,
             "#7201a8"
            ],
            [
             0.3333333333333333,
             "#9c179e"
            ],
            [
             0.4444444444444444,
             "#bd3786"
            ],
            [
             0.5555555555555556,
             "#d8576b"
            ],
            [
             0.6666666666666666,
             "#ed7953"
            ],
            [
             0.7777777777777778,
             "#fb9f3a"
            ],
            [
             0.8888888888888888,
             "#fdca26"
            ],
            [
             1,
             "#f0f921"
            ]
           ],
           "sequentialminus": [
            [
             0,
             "#0d0887"
            ],
            [
             0.1111111111111111,
             "#46039f"
            ],
            [
             0.2222222222222222,
             "#7201a8"
            ],
            [
             0.3333333333333333,
             "#9c179e"
            ],
            [
             0.4444444444444444,
             "#bd3786"
            ],
            [
             0.5555555555555556,
             "#d8576b"
            ],
            [
             0.6666666666666666,
             "#ed7953"
            ],
            [
             0.7777777777777778,
             "#fb9f3a"
            ],
            [
             0.8888888888888888,
             "#fdca26"
            ],
            [
             1,
             "#f0f921"
            ]
           ]
          },
          "colorway": [
           "#636efa",
           "#EF553B",
           "#00cc96",
           "#ab63fa",
           "#FFA15A",
           "#19d3f3",
           "#FF6692",
           "#B6E880",
           "#FF97FF",
           "#FECB52"
          ],
          "font": {
           "color": "#2a3f5f"
          },
          "geo": {
           "bgcolor": "white",
           "lakecolor": "white",
           "landcolor": "#E5ECF6",
           "showlakes": true,
           "showland": true,
           "subunitcolor": "white"
          },
          "hoverlabel": {
           "align": "left"
          },
          "hovermode": "closest",
          "mapbox": {
           "style": "light"
          },
          "paper_bgcolor": "white",
          "plot_bgcolor": "#E5ECF6",
          "polar": {
           "angularaxis": {
            "gridcolor": "white",
            "linecolor": "white",
            "ticks": ""
           },
           "bgcolor": "#E5ECF6",
           "radialaxis": {
            "gridcolor": "white",
            "linecolor": "white",
            "ticks": ""
           }
          },
          "scene": {
           "xaxis": {
            "backgroundcolor": "#E5ECF6",
            "gridcolor": "white",
            "gridwidth": 2,
            "linecolor": "white",
            "showbackground": true,
            "ticks": "",
            "zerolinecolor": "white"
           },
           "yaxis": {
            "backgroundcolor": "#E5ECF6",
            "gridcolor": "white",
            "gridwidth": 2,
            "linecolor": "white",
            "showbackground": true,
            "ticks": "",
            "zerolinecolor": "white"
           },
           "zaxis": {
            "backgroundcolor": "#E5ECF6",
            "gridcolor": "white",
            "gridwidth": 2,
            "linecolor": "white",
            "showbackground": true,
            "ticks": "",
            "zerolinecolor": "white"
           }
          },
          "shapedefaults": {
           "line": {
            "color": "#2a3f5f"
           }
          },
          "ternary": {
           "aaxis": {
            "gridcolor": "white",
            "linecolor": "white",
            "ticks": ""
           },
           "baxis": {
            "gridcolor": "white",
            "linecolor": "white",
            "ticks": ""
           },
           "bgcolor": "#E5ECF6",
           "caxis": {
            "gridcolor": "white",
            "linecolor": "white",
            "ticks": ""
           }
          },
          "title": {
           "x": 0.05
          },
          "xaxis": {
           "automargin": true,
           "gridcolor": "white",
           "linecolor": "white",
           "ticks": "",
           "title": {
            "standoff": 15
           },
           "zerolinecolor": "white",
           "zerolinewidth": 2
          },
          "yaxis": {
           "automargin": true,
           "gridcolor": "white",
           "linecolor": "white",
           "ticks": "",
           "title": {
            "standoff": 15
           },
           "zerolinecolor": "white",
           "zerolinewidth": 2
          }
         }
        },
        "title": {
         "text": "Applying a Sequential Color Scale"
        },
        "xaxis": {
         "autorange": true,
         "range": [
          -0.5,
          3.5
         ],
         "type": "category"
        },
        "yaxis": {
         "autorange": true,
         "range": [
          0,
          9.473684210526315
         ],
         "type": "linear"
        }
       }
      },
      "image/png": "[encoded data removed]",
      "text/html": [
       "<div>                            <div id=\"899c4e9a-9ea5-4ccb-a1be-3dfd221de62c\" class=\"plotly-graph-div\" style=\"height:525px; width:100%;\"></div>            <script type=\"text/javascript\">                require([\"plotly\"], function(Plotly) {                    window.PLOTLYENV=window.PLOTLYENV || {};                                    if (document.getElementById(\"899c4e9a-9ea5-4ccb-a1be-3dfd221de62c\")) {                    Plotly.newPlot(                        \"899c4e9a-9ea5-4ccb-a1be-3dfd221de62c\",                        [{\"marker\":{\"color\":[4,6,1,9],\"colorscale\":[[0.0,\"#0d0887\"],[0.1111111111111111,\"#46039f\"],[0.2222222222222222,\"#7201a8\"],[0.3333333333333333,\"#9c179e\"],[0.4444444444444444,\"#bd3786\"],[0.5555555555555556,\"#d8576b\"],[0.6666666666666666,\"#ed7953\"],[0.7777777777777778,\"#fb9f3a\"],[0.8888888888888888,\"#fdca26\"],[1.0,\"#f0f921\"]]},\"x\":[\"A\",\"B\",\"C\",\"D\"],\"y\":[4,6,1,9],\"type\":\"bar\"}],                        {\"template\":{\"data\":{\"histogram2dcontour\":[{\"type\":\"histogram2dcontour\",\"colorbar\":{\"outlinewidth\":0,\"ticks\":\"\"},\"colorscale\":[[0.0,\"#0d0887\"],[0.1111111111111111,\"#46039f\"],[0.2222222222222222,\"#7201a8\"],[0.3333333333333333,\"#9c179e\"],[0.4444444444444444,\"#bd3786\"],[0.5555555555555556,\"#d8576b\"],[0.6666666666666666,\"#ed7953\"],[0.7777777777777778,\"#fb9f3a\"],[0.8888888888888888,\"#fdca26\"],[1.0,\"#f0f921\"]]}],\"choropleth\":[{\"type\":\"choropleth\",\"colorbar\":{\"outlinewidth\":0,\"ticks\":\"\"}}],\"histogram2d\":[{\"type\":\"histogram2d\",\"colorbar\":{\"outlinewidth\":0,\"ticks\":\"\"},\"colorscale\":[[0.0,\"#0d0887\"],[0.1111111111111111,\"#46039f\"],[0.2222222222222222,\"#7201a8\"],[0.3333333333333333,\"#9c179e\"],[0.4444444444444444,\"#bd3786\"],[0.5555555555555556,\"#d8576b\"],[0.6666666666666666,\"#ed7953\"],[0.7777777777777778,\"#fb9f3a\"],[0.8888888888888888,\"#fdca26\"],[1.0,\"#f0f921\"]]}],\"heatmap\":[{\"type\":\"heatmap\",\"colorbar\":{\"outlinewidth\":0,\"ticks\":\"\"},\"colorscale\":[[0.0,\"#0d0887\"],[0.1111111111111111,\"#46039f\"],[0.2222222222222222,\"#7201a8\"],[0.3333333333333333,\"#9c179e\"],[0.4444444444444444,\"#bd3786\"],[0.5555555555555556,\"#d8576b\"],[0.6666666666666666,\"#ed7953\"],[0.7777777777777778,\"#fb9f3a\"],[0.8888888888888888,\"#fdca26\"],[1.0,\"#f0f921\"]]}],\"heatmapgl\":[{\"type\":\"heatmapgl\",\"colorbar\":{\"outlinewidth\":0,\"ticks\":\"\"},\"colorscale\":[[0.0,\"#0d0887\"],[0.1111111111111111,\"#46039f\"],[0.2222222222222222,\"#7201a8\"],[0.3333333333333333,\"#9c179e\"],[0.4444444444444444,\"#bd3786\"],[0.5555555555555556,\"#d8576b\"],[0.6666666666666666,\"#ed7953\"],[0.7777777777777778,\"#fb9f3a\"],[0.8888888888888888,\"#fdca26\"],[1.0,\"#f0f921\"]]}],\"contourcarpet\":[{\"type\":\"contourcarpet\",\"colorbar\":{\"outlinewidth\":0,\"ticks\":\"\"}}],\"contour\":[{\"type\":\"contour\",\"colorbar\":{\"outlinewidth\":0,\"ticks\":\"\"},\"colorscale\":[[0.0,\"#0d0887\"],[0.1111111111111111,\"#46039f\"],[0.2222222222222222,\"#7201a8\"],[0.3333333333333333,\"#9c179e\"],[0.4444444444444444,\"#bd3786\"],[0.5555555555555556,\"#d8576b\"],[0.6666666666666666,\"#ed7953\"],[0.7777777777777778,\"#fb9f3a\"],[0.8888888888888888,\"#fdca26\"],[1.0,\"#f0f921\"]]}],\"surface\":[{\"type\":\"surface\",\"colorbar\":{\"outlinewidth\":0,\"ticks\":\"\"},\"colorscale\":[[0.0,\"#0d0887\"],[0.1111111111111111,\"#46039f\"],[0.2222222222222222,\"#7201a8\"],[0.3333333333333333,\"#9c179e\"],[0.4444444444444444,\"#bd3786\"],[0.5555555555555556,\"#d8576b\"],[0.6666666666666666,\"#ed7953\"],[0.7777777777777778,\"#fb9f3a\"],[0.8888888888888888,\"#fdca26\"],[1.0,\"#f0f921\"]]}],\"mesh3d\":[{\"type\":\"mesh3d\",\"colorbar\":{\"outlinewidth\":0,\"ticks\":\"\"}}],\"scatter\":[{\"fillpattern\":{\"fillmode\":\"overlay\",\"size\":10,\"solidity\":0.2},\"type\":\"scatter\"}],\"parcoords\":[{\"type\":\"parcoords\",\"line\":{\"colorbar\":{\"outlinewidth\":0,\"ticks\":\"\"}}}],\"scatterpolargl\":[{\"type\":\"scatterpolargl\",\"marker\":{\"colorbar\":{\"outlinewidth\":0,\"ticks\":\"\"}}}],\"bar\":[{\"error_x\":{\"color\":\"#2a3f5f\"},\"error_y\":{\"color\":\"#2a3f5f\"},\"marker\":{\"line\":{\"color\":\"#E5ECF6\",\"width\":0.5},\"pattern\":{\"fillmode\":\"overlay\",\"size\":10,\"solidity\":0.2}},\"type\":\"bar\"}],\"scattergeo\":[{\"type\":\"scattergeo\",\"marker\":{\"colorbar\":{\"outlinewidth\":0,\"ticks\":\"\"}}}],\"scatterpolar\":[{\"type\":\"scatterpolar\",\"marker\":{\"colorbar\":{\"outlinewidth\":0,\"ticks\":\"\"}}}],\"histogram\":[{\"marker\":{\"pattern\":{\"fillmode\":\"overlay\",\"size\":10,\"solidity\":0.2}},\"type\":\"histogram\"}],\"scattergl\":[{\"type\":\"scattergl\",\"marker\":{\"colorbar\":{\"outlinewidth\":0,\"ticks\":\"\"}}}],\"scatter3d\":[{\"type\":\"scatter3d\",\"line\":{\"colorbar\":{\"outlinewidth\":0,\"ticks\":\"\"}},\"marker\":{\"colorbar\":{\"outlinewidth\":0,\"ticks\":\"\"}}}],\"scattermapbox\":[{\"type\":\"scattermapbox\",\"marker\":{\"colorbar\":{\"outlinewidth\":0,\"ticks\":\"\"}}}],\"scatterternary\":[{\"type\":\"scatterternary\",\"marker\":{\"colorbar\":{\"outlinewidth\":0,\"ticks\":\"\"}}}],\"scattercarpet\":[{\"type\":\"scattercarpet\",\"marker\":{\"colorbar\":{\"outlinewidth\":0,\"ticks\":\"\"}}}],\"carpet\":[{\"aaxis\":{\"endlinecolor\":\"#2a3f5f\",\"gridcolor\":\"white\",\"linecolor\":\"white\",\"minorgridcolor\":\"white\",\"startlinecolor\":\"#2a3f5f\"},\"baxis\":{\"endlinecolor\":\"#2a3f5f\",\"gridcolor\":\"white\",\"linecolor\":\"white\",\"minorgridcolor\":\"white\",\"startlinecolor\":\"#2a3f5f\"},\"type\":\"carpet\"}],\"table\":[{\"cells\":{\"fill\":{\"color\":\"#EBF0F8\"},\"line\":{\"color\":\"white\"}},\"header\":{\"fill\":{\"color\":\"#C8D4E3\"},\"line\":{\"color\":\"white\"}},\"type\":\"table\"}],\"barpolar\":[{\"marker\":{\"line\":{\"color\":\"#E5ECF6\",\"width\":0.5},\"pattern\":{\"fillmode\":\"overlay\",\"size\":10,\"solidity\":0.2}},\"type\":\"barpolar\"}],\"pie\":[{\"automargin\":true,\"type\":\"pie\"}]},\"layout\":{\"autotypenumbers\":\"strict\",\"colorway\":[\"#636efa\",\"#EF553B\",\"#00cc96\",\"#ab63fa\",\"#FFA15A\",\"#19d3f3\",\"#FF6692\",\"#B6E880\",\"#FF97FF\",\"#FECB52\"],\"font\":{\"color\":\"#2a3f5f\"},\"hovermode\":\"closest\",\"hoverlabel\":{\"align\":\"left\"},\"paper_bgcolor\":\"white\",\"plot_bgcolor\":\"#E5ECF6\",\"polar\":{\"bgcolor\":\"#E5ECF6\",\"angularaxis\":{\"gridcolor\":\"white\",\"linecolor\":\"white\",\"ticks\":\"\"},\"radialaxis\":{\"gridcolor\":\"white\",\"linecolor\":\"white\",\"ticks\":\"\"}},\"ternary\":{\"bgcolor\":\"#E5ECF6\",\"aaxis\":{\"gridcolor\":\"white\",\"linecolor\":\"white\",\"ticks\":\"\"},\"baxis\":{\"gridcolor\":\"white\",\"linecolor\":\"white\",\"ticks\":\"\"},\"caxis\":{\"gridcolor\":\"white\",\"linecolor\":\"white\",\"ticks\":\"\"}},\"coloraxis\":{\"colorbar\":{\"outlinewidth\":0,\"ticks\":\"\"}},\"colorscale\":{\"sequential\":[[0.0,\"#0d0887\"],[0.1111111111111111,\"#46039f\"],[0.2222222222222222,\"#7201a8\"],[0.3333333333333333,\"#9c179e\"],[0.4444444444444444,\"#bd3786\"],[0.5555555555555556,\"#d8576b\"],[0.6666666666666666,\"#ed7953\"],[0.7777777777777778,\"#fb9f3a\"],[0.8888888888888888,\"#fdca26\"],[1.0,\"#f0f921\"]],\"sequentialminus\":[[0.0,\"#0d0887\"],[0.1111111111111111,\"#46039f\"],[0.2222222222222222,\"#7201a8\"],[0.3333333333333333,\"#9c179e\"],[0.4444444444444444,\"#bd3786\"],[0.5555555555555556,\"#d8576b\"],[0.6666666666666666,\"#ed7953\"],[0.7777777777777778,\"#fb9f3a\"],[0.8888888888888888,\"#fdca26\"],[1.0,\"#f0f921\"]],\"diverging\":[[0,\"#8e0152\"],[0.1,\"#c51b7d\"],[0.2,\"#de77ae\"],[0.3,\"#f1b6da\"],[0.4,\"#fde0ef\"],[0.5,\"#f7f7f7\"],[0.6,\"#e6f5d0\"],[0.7,\"#b8e186\"],[0.8,\"#7fbc41\"],[0.9,\"#4d9221\"],[1,\"#276419\"]]},\"xaxis\":{\"gridcolor\":\"white\",\"linecolor\":\"white\",\"ticks\":\"\",\"title\":{\"standoff\":15},\"zerolinecolor\":\"white\",\"automargin\":true,\"zerolinewidth\":2},\"yaxis\":{\"gridcolor\":\"white\",\"linecolor\":\"white\",\"ticks\":\"\",\"title\":{\"standoff\":15},\"zerolinecolor\":\"white\",\"automargin\":true,\"zerolinewidth\":2},\"scene\":{\"xaxis\":{\"backgroundcolor\":\"#E5ECF6\",\"gridcolor\":\"white\",\"linecolor\":\"white\",\"showbackground\":true,\"ticks\":\"\",\"zerolinecolor\":\"white\",\"gridwidth\":2},\"yaxis\":{\"backgroundcolor\":\"#E5ECF6\",\"gridcolor\":\"white\",\"linecolor\":\"white\",\"showbackground\":true,\"ticks\":\"\",\"zerolinecolor\":\"white\",\"gridwidth\":2},\"zaxis\":{\"backgroundcolor\":\"#E5ECF6\",\"gridcolor\":\"white\",\"linecolor\":\"white\",\"showbackground\":true,\"ticks\":\"\",\"zerolinecolor\":\"white\",\"gridwidth\":2}},\"shapedefaults\":{\"line\":{\"color\":\"#2a3f5f\"}},\"annotationdefaults\":{\"arrowcolor\":\"#2a3f5f\",\"arrowhead\":0,\"arrowwidth\":1},\"geo\":{\"bgcolor\":\"white\",\"landcolor\":\"#E5ECF6\",\"subunitcolor\":\"white\",\"showland\":true,\"showlakes\":true,\"lakecolor\":\"white\"},\"title\":{\"x\":0.05},\"mapbox\":{\"style\":\"light\"}}},\"title\":{\"text\":\"Applying a Sequential Color Scale\"}},                        {\"responsive\": true}                    ).then(function(){\n",
       "                            \n",
       "var gd = document.getElementById('899c4e9a-9ea5-4ccb-a1be-3dfd221de62c');\n",
       "var x = new MutationObserver(function (mutations, observer) {{\n",
       "        var display = window.getComputedStyle(gd).display;\n",
       "        if (!display || display === 'none') {{\n",
       "            console.log([gd, 'removed!']);\n",
       "            Plotly.purge(gd);\n",
       "            observer.disconnect();\n",
       "        }}\n",
       "}});\n",
       "\n",
       "// Listen for the removal of the full notebook cells\n",
       "var notebookContainer = gd.closest('#notebook-container');\n",
       "if (notebookContainer) {{\n",
       "    x.observe(notebookContainer, {childList: true});\n",
       "}}\n",
       "\n",
       "// Listen for the clearing of the current output cell\n",
       "var outputEl = gd.closest('.output');\n",
       "if (outputEl) {{\n",
       "    x.observe(outputEl, {childList: true});\n",
       "}}\n",
       "\n",
       "                        })                };                });            </script>        </div>"
      ]
     },
     "metadata": {},
     "output_type": "display_data"
    }
   ],
   "source": [
    "print(\"Sequential:\", colors.sequential.Plasma[:5]) #list of hex color codes from the Plasma sequential palette, first five colors.\n",
    "print(\"Diverging:\", colors.diverging.RdBu[:5]) #Diverging color scale from red to blue, first five colors.\n",
    "\n",
    "figc = go.Figure(data=[go.Bar(x=['A','B','C','D'], y=[4,6,1,9],marker=dict(color=[4,6,1,9],colorscale=colors.sequential.Plasma))])\n",
    "figc.update_layout(title=\"Applying a Sequential Color Scale\")\n",
    "figc.show()"
   ]
  }
 ],
 "metadata": {
  "kernelspec": {
   "display_name": "Python [conda env:base] *",
   "language": "python",
   "name": "conda-base-py"
  },
  "language_info": {
   "codemirror_mode": {
    "name": "ipython",
    "version": 3
   },
   "file_extension": ".py",
   "mimetype": "text/x-python",
   "name": "python",
   "nbconvert_exporter": "python",
   "pygments_lexer": "ipython3",
   "version": "3.12.7"
  }
 },
 "nbformat": 4,
 "nbformat_minor": 5
}
